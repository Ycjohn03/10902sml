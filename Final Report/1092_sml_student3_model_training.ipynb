{
 "cells": [
  {
   "cell_type": "markdown",
   "metadata": {},
   "source": [
    "# Step1資料準備"
   ]
  },
  {
   "cell_type": "code",
   "execution_count": 1,
   "metadata": {},
   "outputs": [],
   "source": [
    "import tensorflow as tf\n",
    "from tensorflow.keras.datasets import cifar10\n",
    "from tensorflow.keras.utils import to_categorical\n",
    "(x_train_10,y_train_10),(x_test_10,y_test_10)=cifar10.load_data()\n",
    "y_train_10 = to_categorical(y_train_10)\n",
    "y_test_10 = to_categorical(y_test_10)\n",
    "\n"
   ]
  },
  {
   "cell_type": "code",
   "execution_count": 2,
   "metadata": {},
   "outputs": [],
   "source": [
    "import os\n",
    "import numpy as np\n",
    "import pandas as pd\n",
    "import tensorflow as tf\n",
    "from tensorflow import keras\n",
    "from tensorflow.keras import backend as K\n",
    "from tensorflow.keras.regularizers import l2\n",
    "from tensorflow.keras.preprocessing.image import ImageDataGenerator,array_to_img,img_to_array,load_img\n",
    "from tensorflow.keras.layers import Lambda, Dropout,Input, Activation, Dense, GlobalAveragePooling2D, Conv2D,Add, BatchNormalization,DepthwiseConv2D\n",
    "from tensorflow.keras.models import Model, load_model\n",
    "from tensorflow.keras import optimizers,regularizers\n",
    "from tensorflow.keras.initializers import he_normal\n",
    "from tensorflow.keras.callbacks import Callback,LearningRateScheduler, TensorBoard, ModelCheckpoint, EarlyStopping,ReduceLROnPlateau\n",
    "import Model_mobilenet\n",
    "from Model_mobilenet import MobileNet,MobileNet_drop\n",
    "from image_noise import Rand_Augment"
   ]
  },
  {
   "cell_type": "code",
   "execution_count": 3,
   "metadata": {},
   "outputs": [
    {
     "name": "stdout",
     "output_type": "stream",
     "text": [
      "1 Physical GPUs, 1 Logical GPUs\n"
     ]
    }
   ],
   "source": [
    "def solve_cudnn_error():\n",
    "    gpus = tf.config.experimental.list_physical_devices('GPU')\n",
    "    if gpus:\n",
    "        try:\n",
    "            # Currently, memory growth needs to be the same across GPUs\n",
    "            for gpu in gpus:\n",
    "                tf.config.experimental.set_memory_growth(gpu, True)\n",
    "            logical_gpus = tf.config.experimental.list_logical_devices('GPU')\n",
    "            print(len(gpus), \"Physical GPUs,\", len(logical_gpus), \"Logical GPUs\")\n",
    "        except RuntimeError as e:\n",
    "            # Memory growth must be set before GPUs have been initialized\n",
    "            print(e)\n",
    "solve_cudnn_error()"
   ]
  },
  {
   "cell_type": "markdown",
   "metadata": {},
   "source": [
    "### unlabel data讀取,標籤,篩選"
   ]
  },
  {
   "cell_type": "code",
   "execution_count": 4,
   "metadata": {},
   "outputs": [],
   "source": [
    "##load 重新標籤完的dataset\n",
    "x_train_student=np.load('x_train_student_3.npy')\n",
    "y_train_student=np.load('y_train_student_3.npy')"
   ]
  },
  {
   "cell_type": "markdown",
   "metadata": {},
   "source": [
    "### Student_model_3的訓練資料量總共有120,000張"
   ]
  },
  {
   "cell_type": "code",
   "execution_count": 5,
   "metadata": {},
   "outputs": [
    {
     "data": {
      "text/plain": [
       "(120000, 32, 32, 3)"
      ]
     },
     "execution_count": 5,
     "metadata": {},
     "output_type": "execute_result"
    }
   ],
   "source": [
    "x_train_student.shape"
   ]
  },
  {
   "cell_type": "markdown",
   "metadata": {},
   "source": [
    "### Student_model_3 訓練"
   ]
  },
  {
   "cell_type": "code",
   "execution_count": 6,
   "metadata": {},
   "outputs": [],
   "source": [
    "img_augment = Rand_Augment(Numbers=2, max_Magnitude=10)\n",
    "\n",
    "def get_random_data(x_train_i, y_train_i, data_aug):\n",
    "    x = array_to_img(x_train_i)\n",
    "\n",
    "    if data_aug:\n",
    "\n",
    "        seed_image = img_augment(x)\n",
    "        seed_image = img_to_array(seed_image)\n",
    "\n",
    "    else:\n",
    "        seed_image = x_train_i\n",
    "\n",
    "    seed_image = seed_image / 255\n",
    "\n",
    "    return seed_image, y_train_i\n",
    "\n",
    "def data_generator(x_train, y_train, batch_size, data_aug):\n",
    "    '''data generator for fit_generator'''\n",
    "    n = len(x_train)\n",
    "    i = 0\n",
    "    while True:\n",
    "        image_data = []\n",
    "        label_data = []\n",
    "        for b in range(batch_size):\n",
    "            if i==0:\n",
    "                p = np.random.permutation(len(x_train))\n",
    "                x_train = x_train[p]\n",
    "                y_train = y_train[p]\n",
    "            image, label = get_random_data(x_train[i], y_train[i], data_aug)\n",
    "            image_data.append(image)\n",
    "            label_data.append(label)\n",
    "            i = (i+1) % n\n",
    "        image_data = np.array(image_data)\n",
    "        label_data = np.array(label_data)\n",
    "        yield image_data, label_data"
   ]
  },
  {
   "cell_type": "code",
   "execution_count": 7,
   "metadata": {},
   "outputs": [
    {
     "name": "stdout",
     "output_type": "stream",
     "text": [
      "Model: \"model\"\n",
      "_________________________________________________________________\n",
      "Layer (type)                 Output Shape              Param #   \n",
      "=================================================================\n",
      "input_1 (InputLayer)         [(None, 32, 32, 3)]       0         \n",
      "_________________________________________________________________\n",
      "conv2d (Conv2D)              (None, 16, 16, 24)        672       \n",
      "_________________________________________________________________\n",
      "batch_normalization (BatchNo (None, 16, 16, 24)        96        \n",
      "_________________________________________________________________\n",
      "activation (Activation)      (None, 16, 16, 24)        0         \n",
      "_________________________________________________________________\n",
      "depthwise_conv2d (DepthwiseC (None, 16, 16, 24)        240       \n",
      "_________________________________________________________________\n",
      "batch_normalization_1 (Batch (None, 16, 16, 24)        96        \n",
      "_________________________________________________________________\n",
      "activation_1 (Activation)    (None, 16, 16, 24)        0         \n",
      "_________________________________________________________________\n",
      "conv2d_1 (Conv2D)            (None, 16, 16, 48)        1200      \n",
      "_________________________________________________________________\n",
      "batch_normalization_2 (Batch (None, 16, 16, 48)        192       \n",
      "_________________________________________________________________\n",
      "activation_2 (Activation)    (None, 16, 16, 48)        0         \n",
      "_________________________________________________________________\n",
      "depthwise_conv2d_1 (Depthwis (None, 8, 8, 48)          480       \n",
      "_________________________________________________________________\n",
      "batch_normalization_3 (Batch (None, 8, 8, 48)          192       \n",
      "_________________________________________________________________\n",
      "activation_3 (Activation)    (None, 8, 8, 48)          0         \n",
      "_________________________________________________________________\n",
      "conv2d_2 (Conv2D)            (None, 8, 8, 96)          4704      \n",
      "_________________________________________________________________\n",
      "batch_normalization_4 (Batch (None, 8, 8, 96)          384       \n",
      "_________________________________________________________________\n",
      "activation_4 (Activation)    (None, 8, 8, 96)          0         \n",
      "_________________________________________________________________\n",
      "depthwise_conv2d_2 (Depthwis (None, 8, 8, 96)          960       \n",
      "_________________________________________________________________\n",
      "batch_normalization_5 (Batch (None, 8, 8, 96)          384       \n",
      "_________________________________________________________________\n",
      "activation_5 (Activation)    (None, 8, 8, 96)          0         \n",
      "_________________________________________________________________\n",
      "conv2d_3 (Conv2D)            (None, 8, 8, 96)          9312      \n",
      "_________________________________________________________________\n",
      "batch_normalization_6 (Batch (None, 8, 8, 96)          384       \n",
      "_________________________________________________________________\n",
      "activation_6 (Activation)    (None, 8, 8, 96)          0         \n",
      "_________________________________________________________________\n",
      "depthwise_conv2d_3 (Depthwis (None, 4, 4, 96)          960       \n",
      "_________________________________________________________________\n",
      "batch_normalization_7 (Batch (None, 4, 4, 96)          384       \n",
      "_________________________________________________________________\n",
      "activation_7 (Activation)    (None, 4, 4, 96)          0         \n",
      "_________________________________________________________________\n",
      "conv2d_4 (Conv2D)            (None, 4, 4, 192)         18624     \n",
      "_________________________________________________________________\n",
      "batch_normalization_8 (Batch (None, 4, 4, 192)         768       \n",
      "_________________________________________________________________\n",
      "activation_8 (Activation)    (None, 4, 4, 192)         0         \n",
      "_________________________________________________________________\n",
      "depthwise_conv2d_4 (Depthwis (None, 4, 4, 192)         1920      \n",
      "_________________________________________________________________\n",
      "batch_normalization_9 (Batch (None, 4, 4, 192)         768       \n",
      "_________________________________________________________________\n",
      "activation_9 (Activation)    (None, 4, 4, 192)         0         \n",
      "_________________________________________________________________\n",
      "conv2d_5 (Conv2D)            (None, 4, 4, 192)         37056     \n",
      "_________________________________________________________________\n",
      "batch_normalization_10 (Batc (None, 4, 4, 192)         768       \n",
      "_________________________________________________________________\n",
      "activation_10 (Activation)   (None, 4, 4, 192)         0         \n",
      "_________________________________________________________________\n",
      "depthwise_conv2d_5 (Depthwis (None, 2, 2, 192)         1920      \n",
      "_________________________________________________________________\n",
      "batch_normalization_11 (Batc (None, 2, 2, 192)         768       \n",
      "_________________________________________________________________\n",
      "activation_11 (Activation)   (None, 2, 2, 192)         0         \n",
      "_________________________________________________________________\n",
      "conv2d_6 (Conv2D)            (None, 2, 2, 384)         74112     \n",
      "_________________________________________________________________\n",
      "batch_normalization_12 (Batc (None, 2, 2, 384)         1536      \n",
      "_________________________________________________________________\n",
      "activation_12 (Activation)   (None, 2, 2, 384)         0         \n",
      "_________________________________________________________________\n",
      "depthwise_conv2d_6 (Depthwis (None, 2, 2, 384)         3840      \n",
      "_________________________________________________________________\n",
      "batch_normalization_13 (Batc (None, 2, 2, 384)         1536      \n",
      "_________________________________________________________________\n",
      "activation_13 (Activation)   (None, 2, 2, 384)         0         \n",
      "_________________________________________________________________\n",
      "conv2d_7 (Conv2D)            (None, 2, 2, 384)         147840    \n",
      "_________________________________________________________________\n",
      "batch_normalization_14 (Batc (None, 2, 2, 384)         1536      \n",
      "_________________________________________________________________\n",
      "activation_14 (Activation)   (None, 2, 2, 384)         0         \n",
      "_________________________________________________________________\n",
      "depthwise_conv2d_7 (Depthwis (None, 2, 2, 384)         3840      \n",
      "_________________________________________________________________\n",
      "batch_normalization_15 (Batc (None, 2, 2, 384)         1536      \n",
      "_________________________________________________________________\n",
      "activation_15 (Activation)   (None, 2, 2, 384)         0         \n",
      "_________________________________________________________________\n",
      "conv2d_8 (Conv2D)            (None, 2, 2, 384)         147840    \n",
      "_________________________________________________________________\n",
      "batch_normalization_16 (Batc (None, 2, 2, 384)         1536      \n",
      "_________________________________________________________________\n",
      "activation_16 (Activation)   (None, 2, 2, 384)         0         \n",
      "_________________________________________________________________\n",
      "depthwise_conv2d_8 (Depthwis (None, 2, 2, 384)         3840      \n",
      "_________________________________________________________________\n",
      "batch_normalization_17 (Batc (None, 2, 2, 384)         1536      \n",
      "_________________________________________________________________\n",
      "activation_17 (Activation)   (None, 2, 2, 384)         0         \n",
      "_________________________________________________________________\n",
      "conv2d_9 (Conv2D)            (None, 2, 2, 384)         147840    \n",
      "_________________________________________________________________\n",
      "batch_normalization_18 (Batc (None, 2, 2, 384)         1536      \n",
      "_________________________________________________________________\n",
      "activation_18 (Activation)   (None, 2, 2, 384)         0         \n",
      "_________________________________________________________________\n",
      "depthwise_conv2d_9 (Depthwis (None, 2, 2, 384)         3840      \n",
      "_________________________________________________________________\n",
      "batch_normalization_19 (Batc (None, 2, 2, 384)         1536      \n",
      "_________________________________________________________________\n",
      "activation_19 (Activation)   (None, 2, 2, 384)         0         \n",
      "_________________________________________________________________\n",
      "conv2d_10 (Conv2D)           (None, 2, 2, 384)         147840    \n",
      "_________________________________________________________________\n",
      "batch_normalization_20 (Batc (None, 2, 2, 384)         1536      \n",
      "_________________________________________________________________\n",
      "activation_20 (Activation)   (None, 2, 2, 384)         0         \n",
      "_________________________________________________________________\n",
      "depthwise_conv2d_10 (Depthwi (None, 2, 2, 384)         3840      \n",
      "_________________________________________________________________\n",
      "batch_normalization_21 (Batc (None, 2, 2, 384)         1536      \n",
      "_________________________________________________________________\n",
      "activation_21 (Activation)   (None, 2, 2, 384)         0         \n",
      "_________________________________________________________________\n",
      "conv2d_11 (Conv2D)           (None, 2, 2, 384)         147840    \n",
      "_________________________________________________________________\n",
      "batch_normalization_22 (Batc (None, 2, 2, 384)         1536      \n",
      "_________________________________________________________________\n",
      "activation_22 (Activation)   (None, 2, 2, 384)         0         \n",
      "_________________________________________________________________\n",
      "depthwise_conv2d_11 (Depthwi (None, 1, 1, 384)         3840      \n",
      "_________________________________________________________________\n",
      "batch_normalization_23 (Batc (None, 1, 1, 384)         1536      \n",
      "_________________________________________________________________\n",
      "activation_23 (Activation)   (None, 1, 1, 384)         0         \n",
      "_________________________________________________________________\n",
      "conv2d_12 (Conv2D)           (None, 1, 1, 768)         295680    \n",
      "_________________________________________________________________\n",
      "batch_normalization_24 (Batc (None, 1, 1, 768)         3072      \n",
      "_________________________________________________________________\n",
      "activation_24 (Activation)   (None, 1, 1, 768)         0         \n",
      "_________________________________________________________________\n",
      "depthwise_conv2d_12 (Depthwi (None, 1, 1, 768)         7680      \n",
      "_________________________________________________________________\n",
      "batch_normalization_25 (Batc (None, 1, 1, 768)         3072      \n",
      "_________________________________________________________________\n",
      "activation_25 (Activation)   (None, 1, 1, 768)         0         \n",
      "_________________________________________________________________\n",
      "conv2d_13 (Conv2D)           (None, 1, 1, 768)         590592    \n",
      "_________________________________________________________________\n",
      "batch_normalization_26 (Batc (None, 1, 1, 768)         3072      \n",
      "_________________________________________________________________\n",
      "activation_26 (Activation)   (None, 1, 1, 768)         0         \n",
      "_________________________________________________________________\n",
      "global_average_pooling2d (Gl (None, 768)               0         \n",
      "_________________________________________________________________\n",
      "dropout (Dropout)            (None, 768)               0         \n",
      "_________________________________________________________________\n",
      "dense (Dense)                (None, 10)                7690      \n",
      "=================================================================\n",
      "Total params: 1,848,874\n",
      "Trainable params: 1,832,458\n",
      "Non-trainable params: 16,416\n",
      "_________________________________________________________________\n"
     ]
    }
   ],
   "source": [
    "img_input=Input(shape=(32,32,3))\n",
    "output = MobileNet_drop(img_input,dropout_set=0.1)\n",
    "student_model_3 = Model(img_input,output)\n",
    "student_model_3.summary()"
   ]
  },
  {
   "cell_type": "code",
   "execution_count": 8,
   "metadata": {},
   "outputs": [],
   "source": [
    "import os"
   ]
  },
  {
   "cell_type": "code",
   "execution_count": 9,
   "metadata": {},
   "outputs": [
    {
     "name": "stdout",
     "output_type": "stream",
     "text": [
      "WARNING:tensorflow:`period` argument is deprecated. Please use `save_freq` to specify the frequency in number of samples seen.\n",
      "Epoch 1/50\n",
      "1875/1875 [==============================] - 229s 122ms/step - loss: 2.0242 - accuracy: 0.2687 - val_loss: 2.2525 - val_accuracy: 0.3357\n",
      "Epoch 2/50\n",
      "1875/1875 [==============================] - 228s 121ms/step - loss: 1.7770 - accuracy: 0.3825 - val_loss: 1.6041 - val_accuracy: 0.4436\n",
      "Epoch 3/50\n",
      "1875/1875 [==============================] - 230s 123ms/step - loss: 1.6270 - accuracy: 0.4585 - val_loss: 1.3215 - val_accuracy: 0.5142\n",
      "Epoch 4/50\n",
      "1875/1875 [==============================] - 222s 119ms/step - loss: 1.5181 - accuracy: 0.5127 - val_loss: 1.1767 - val_accuracy: 0.5843\n",
      "Epoch 5/50\n",
      "1875/1875 [==============================] - 227s 121ms/step - loss: 1.4261 - accuracy: 0.5576 - val_loss: 1.1131 - val_accuracy: 0.6051\n",
      "Epoch 6/50\n",
      "1875/1875 [==============================] - 233s 124ms/step - loss: 1.3570 - accuracy: 0.5931 - val_loss: 1.0219 - val_accuracy: 0.6362\n",
      "Epoch 7/50\n",
      "1875/1875 [==============================] - 228s 121ms/step - loss: 1.3059 - accuracy: 0.6182 - val_loss: 0.8820 - val_accuracy: 0.7014\n",
      "Epoch 8/50\n",
      "1875/1875 [==============================] - 225s 120ms/step - loss: 1.2650 - accuracy: 0.6386 - val_loss: 0.8486 - val_accuracy: 0.7067\n",
      "Epoch 9/50\n",
      "1875/1875 [==============================] - 226s 120ms/step - loss: 1.2377 - accuracy: 0.6522 - val_loss: 0.8780 - val_accuracy: 0.6968\n",
      "Epoch 10/50\n",
      "1875/1875 [==============================] - 225s 120ms/step - loss: 1.2153 - accuracy: 0.6644 - val_loss: 0.8280 - val_accuracy: 0.7109\n",
      "Epoch 11/50\n",
      "1875/1875 [==============================] - 229s 122ms/step - loss: 1.1887 - accuracy: 0.6771 - val_loss: 0.8505 - val_accuracy: 0.7056\n",
      "Epoch 12/50\n",
      "1875/1875 [==============================] - 229s 122ms/step - loss: 1.1807 - accuracy: 0.6810 - val_loss: 1.0188 - val_accuracy: 0.6544\n",
      "Epoch 13/50\n",
      "1875/1875 [==============================] - 226s 121ms/step - loss: 1.1756 - accuracy: 0.6835 - val_loss: 0.8109 - val_accuracy: 0.7361\n",
      "Epoch 14/50\n",
      "1875/1875 [==============================] - 225s 120ms/step - loss: 1.1519 - accuracy: 0.6950 - val_loss: 0.7740 - val_accuracy: 0.7344\n",
      "Epoch 15/50\n",
      "1875/1875 [==============================] - 223s 119ms/step - loss: 1.1355 - accuracy: 0.7025 - val_loss: 0.9809 - val_accuracy: 0.7364\n",
      "Epoch 16/50\n",
      "1875/1875 [==============================] - 220s 118ms/step - loss: 1.1273 - accuracy: 0.7071 - val_loss: 0.7991 - val_accuracy: 0.7662\n",
      "Epoch 17/50\n",
      "1874/1875 [============================>.] - ETA: 0s - loss: 1.1231 - accuracy: 0.7098\n",
      "Epoch 00017: ReduceLROnPlateau reducing learning rate to 0.00010000000474974513.\n",
      "1875/1875 [==============================] - 221s 118ms/step - loss: 1.1231 - accuracy: 0.7098 - val_loss: 2.3919 - val_accuracy: 0.2344\n",
      "Epoch 18/50\n",
      "1875/1875 [==============================] - 221s 118ms/step - loss: 1.1929 - accuracy: 0.6721 - val_loss: 0.7135 - val_accuracy: 0.7731\n",
      "Epoch 19/50\n",
      "1875/1875 [==============================] - 222s 118ms/step - loss: 1.1088 - accuracy: 0.7154 - val_loss: 0.6716 - val_accuracy: 0.7877\n",
      "Epoch 20/50\n",
      "1875/1875 [==============================] - 222s 118ms/step - loss: 1.0860 - accuracy: 0.7278 - val_loss: 0.6818 - val_accuracy: 0.7853\n",
      "Epoch 21/50\n",
      "1875/1875 [==============================] - 222s 118ms/step - loss: 1.0712 - accuracy: 0.7359 - val_loss: 0.7465 - val_accuracy: 0.7884\n",
      "Epoch 22/50\n",
      "1874/1875 [============================>.] - ETA: 0s - loss: 1.0615 - accuracy: 0.7408\n",
      "Epoch 00022: ReduceLROnPlateau reducing learning rate to 1.0000000474974514e-05.\n",
      "1875/1875 [==============================] - 225s 120ms/step - loss: 1.0615 - accuracy: 0.7408 - val_loss: 0.6872 - val_accuracy: 0.7965\n",
      "Epoch 23/50\n",
      "1875/1875 [==============================] - 227s 121ms/step - loss: 1.0557 - accuracy: 0.7433 - val_loss: 0.7224 - val_accuracy: 0.7921\n",
      "Epoch 24/50\n",
      "1875/1875 [==============================] - 229s 122ms/step - loss: 1.0559 - accuracy: 0.7438 - val_loss: 0.6983 - val_accuracy: 0.7949\n",
      "Epoch 25/50\n",
      "1874/1875 [============================>.] - ETA: 0s - loss: 1.0551 - accuracy: 0.7441\n",
      "Epoch 00025: ReduceLROnPlateau reducing learning rate to 1.0000000656873453e-06.\n",
      "1875/1875 [==============================] - 232s 123ms/step - loss: 1.0550 - accuracy: 0.7441 - val_loss: 0.7063 - val_accuracy: 0.7963\n",
      "Epoch 26/50\n",
      "1875/1875 [==============================] - 224s 120ms/step - loss: 1.0538 - accuracy: 0.7449 - val_loss: 0.7017 - val_accuracy: 0.7958\n",
      "Epoch 27/50\n",
      "1875/1875 [==============================] - 224s 120ms/step - loss: 1.0534 - accuracy: 0.7450 - val_loss: 0.7046 - val_accuracy: 0.7964\n",
      "Epoch 28/50\n",
      "1874/1875 [============================>.] - ETA: 0s - loss: 1.0542 - accuracy: 0.7449\n",
      "Epoch 00028: ReduceLROnPlateau reducing learning rate to 1.0000001111620805e-07.\n",
      "1875/1875 [==============================] - 224s 120ms/step - loss: 1.0542 - accuracy: 0.7449 - val_loss: 0.6803 - val_accuracy: 0.8001\n",
      "Epoch 29/50\n",
      "1875/1875 [==============================] - 245s 131ms/step - loss: 1.0528 - accuracy: 0.7477 - val_loss: 0.7017 - val_accuracy: 0.7970\n",
      "Epoch 00029: early stopping\n"
     ]
    }
   ],
   "source": [
    "log_dir = 'logs/softlabel/student1_2/'\n",
    "\n",
    "checkpoint = ModelCheckpoint(log_dir + 'ep{epoch:03d}-loss{loss:.3f}-val_loss{val_loss:.3f}.h5',\\\n",
    "    monitor='val_loss', save_weights_only=True, save_best_only=True, period=1)\n",
    "reduce_lr = ReduceLROnPlateau(monitor='val_loss', factor=0.1, patience=3, verbose=1)\n",
    "early_stopping = EarlyStopping(monitor='val_loss', min_delta=0, patience=10, verbose=1)\n",
    "\n",
    "student_model_3.compile(loss = \"categorical_crossentropy\",optimizer = \"adam\", metrics = [\"accuracy\"])\n",
    "\n",
    "batch_size = 64\n",
    "steps_per_epoch = x_train_student.shape[0] // batch_size\n",
    "validation_steps = x_test_10.shape[0] // batch_size\n",
    "history = student_model_3.fit_generator(data_generator(x_train_student, y_train_student, batch_size, data_aug = True),\n",
    "                                      initial_epoch=0,\n",
    "                                      epochs=50,\n",
    "                                      steps_per_epoch = steps_per_epoch,\n",
    "                                      validation_data = data_generator(x_test_10, y_test_10, batch_size, data_aug = False),\n",
    "                                      validation_steps = validation_steps,\n",
    "                                      callbacks=[checkpoint, reduce_lr, early_stopping])\n",
    "\n",
    "\n"
   ]
  },
  {
   "cell_type": "code",
   "execution_count": 10,
   "metadata": {},
   "outputs": [],
   "source": [
    "student_model_3.save('student_model_3_624.h5')\n",
    "history.history.keys()\n",
    "student_3 = pd.DataFrame(history.history, index=range(1,len(history.history['loss'])+1))\n",
    "student_3.to_csv('E:/NCHU_PHD/10902sml/report2/final_624/student_3.CSV')\n",
    "\n"
   ]
  },
  {
   "cell_type": "code",
   "execution_count": 11,
   "metadata": {},
   "outputs": [
    {
     "data": {
      "text/plain": [
       "<matplotlib.legend.Legend at 0x27ab2c8e1c8>"
      ]
     },
     "execution_count": 11,
     "metadata": {},
     "output_type": "execute_result"
    },
    {
     "data": {
      "image/png": "[encoded data removed]",
      "text/plain": [
       "<Figure size 432x288 with 1 Axes>"
      ]
     },
     "metadata": {
      "needs_background": "light"
     },
     "output_type": "display_data"
    }
   ],
   "source": [
    "from matplotlib import pyplot as plt\n",
    "plt.plot(student_3['loss'], marker='o', label='training_loss')\n",
    "plt.plot(student_3['val_loss'], marker='d', label='validation_loss')\n",
    "plt.ylabel('Loss', fontsize=12)\n",
    "plt.xlabel('Training Epochs-Mobilenet_alpha=0.75,student_3', fontsize=12)\n",
    "plt.grid()\n",
    "plt.legend()"
   ]
  },
  {
   "cell_type": "code",
   "execution_count": 12,
   "metadata": {},
   "outputs": [
    {
     "data": {
      "text/plain": [
       "<matplotlib.legend.Legend at 0x27ab2d4f2c8>"
      ]
     },
     "execution_count": 12,
     "metadata": {},
     "output_type": "execute_result"
    },
    {
     "data": {
      "image/png": "[encoded data removed]",
      "text/plain": [
       "<Figure size 432x288 with 1 Axes>"
      ]
     },
     "metadata": {
      "needs_background": "light"
     },
     "output_type": "display_data"
    }
   ],
   "source": [
    "plt.plot(student_3['accuracy'], marker='o', label='training_accuracy')\n",
    "plt.plot(student_3['val_accuracy'], marker='d', label='validation_accuracy')\n",
    "plt.ylabel('Accuracy', fontsize=12)\n",
    "plt.xlabel('Training Epochs-Mobilenet_alpha=0.75,student_3', fontsize=12)\n",
    "plt.grid()\n",
    "plt.legend()"
   ]
  },
  {
   "cell_type": "code",
   "execution_count": 13,
   "metadata": {},
   "outputs": [
    {
     "name": "stdout",
     "output_type": "stream",
     "text": [
      "\r",
      "500/1 [========================================================================================================================================================================================================================================================================================================================================================================================================================================================================================================================================================================================================================================================================================================================================================================================================================================================================================================================================================================================================================================================================================================================================================================================================================================================================================================================================================================================================================================================================================================================================================================================================================================================================================================================================================================================================================================================================================================================================================================================================================================================================================================================================================================================================================================================================================================================================================================================================================================================================================================================================================================================================================================================================================================================================================================================================================================================================================================================================================================================================================================================================================================================================================================================================================================================================================================================================================================================================================================================================================================================================================================================================================================================================================================================================================================================================================================================================================================================================================================================================================================================================================================================================================================================================================================================================================================================================================================================================================================================================================================================================================================================================================================================================================================================================================================================================================================================================================================================================================================================================================================================================================================================================================================================================================================================================================================================================================================================================================================================================================================================================================================================================================================================================================================================================================================================================================================================================================================================================================================================================================================================================================================================================================================================================================================================================================================================================================================================================================================================================================================================================================================================================================================================================================================================================================================================================================================================================================================================================================================================================================================================================================================================================================================================================================================================================================================================================================================================================================================================================================================================================================================================================================================================================================================================================================================================================================================================================================================================================================================================================================================================================================================================================================================================================================================================================================================================================================================================================================================================================================================================================================================================================================================================================================================================================================================================================================================================================================================================================================================================================================================================================================================================================================================================================================================================================================================================================================================================================================================================================================================================================================================================================================================================================================================================================================================================================================================================================================================================================================================================================================================================================================================================================================================================================================================================================================================================================================================================================================================================================================================================================================================================================================================================================================================================================================================================================================================================================================================================================================================================================================================================================================================================================================================================================================================================================================================================================================================================================================================================================================================================================================================================================================================================================================================================================================================================================================================================================================================================================================================================================================================================================================================================================================================================================================================================================================================================================================================================================================================================================================================================================================================================================================================================================================================================================================================================================================================================================================================================================================================================================================================================================================================================================================================================================================================================================================================================================================================================================================================================================================================================================================================================================================================================================================================================================================================================================================================================================================================================================================================================================================================================================================================================================================================================================================================================================================================================================================================================================================================================================================================================================================================================================================================================================================================================================================================================================================================================================================================================================================================================================================================================================================================================================================================================================================================================================================================================================================================================================================================================================================================================================================================================================================] - 1s 2ms/sample - loss: 1.4611 - accuracy: 0.5600\n"
     ]
    },
    {
     "name": "stdout",
     "output_type": "stream",
     "text": [
      "loss:1.6917\n",
      "acc: 0.56\n"
     ]
    }
   ],
   "source": [
    "###test\n",
    "img_path = \"E:/NCHU_PHD/10902sml/data_set/add_test\"\n",
    "img_list = os.listdir(img_path)\n",
    "\n",
    "x_test = []\n",
    "y_test = []\n",
    "\n",
    "for i in img_list:\n",
    "    img_list_= img_path +\"/\"+i\n",
    "    for j in os.listdir(img_list_):\n",
    "        abs_path = img_path +\"/\"+i +\"/\"+j\n",
    "        temp = load_img(abs_path)\n",
    "        temp = img_to_array(temp)\n",
    "        x_test.append(temp)\n",
    "        y_test.append(i)\n",
    "    \n",
    "x_test = np.array(x_test)\n",
    "y_test = np.array(y_test).reshape((500, 1))\n",
    "y_test = to_categorical(y_test)\n",
    "\n",
    "def my_eval(model,x,t):\n",
    "    ev = model.evaluate(x,t, batch_size=10)\n",
    "    print(\"loss:\"+str(round(ev[0],4)))\n",
    "    print(\"acc: \"+str(ev[1]))\n",
    "\n",
    "my_eval(student_model_3,x_test/255,y_test)"
   ]
  },
  {
   "cell_type": "code",
   "execution_count": null,
   "metadata": {},
   "outputs": [],
   "source": []
  }
 ],
 "metadata": {
  "kernelspec": {
   "display_name": "Python [conda env:tensorflow-gpu]",
   "language": "python",
   "name": "conda-env-tensorflow-gpu-py"
  },
  "language_info": {
   "codemirror_mode": {
    "name": "ipython",
    "version": 3
   },
   "file_extension": ".py",
   "mimetype": "text/x-python",
   "name": "python",
   "nbconvert_exporter": "python",
   "pygments_lexer": "ipython3",
   "version": "3.7.7"
  }
 },
 "nbformat": 4,
 "nbformat_minor": 2
}

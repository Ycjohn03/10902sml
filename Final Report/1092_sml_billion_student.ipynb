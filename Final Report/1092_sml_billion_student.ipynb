{
 "cells": [
  {
   "cell_type": "markdown",
   "metadata": {},
   "source": [
    "# Step1資料準備"
   ]
  },
  {
   "cell_type": "code",
   "execution_count": 2,
   "metadata": {},
   "outputs": [],
   "source": [
    "import tensorflow as tf\n",
    "from tensorflow.keras.datasets import cifar10\n",
    "from tensorflow.keras.utils import to_categorical\n",
    "(x_train_10,y_train_10),(x_test_10,y_test_10)=cifar10.load_data()\n",
    "y_train_10 = to_categorical(y_train_10)\n",
    "y_test_10 = to_categorical(y_test_10)\n",
    "\n"
   ]
  },
  {
   "cell_type": "code",
   "execution_count": 3,
   "metadata": {},
   "outputs": [],
   "source": [
    "import os\n",
    "import numpy as np\n",
    "import pandas as pd\n",
    "import tensorflow as tf\n",
    "from tensorflow import keras\n",
    "from tensorflow.keras import backend as K\n",
    "from tensorflow.keras.regularizers import l2\n",
    "from tensorflow.keras.preprocessing.image import ImageDataGenerator,array_to_img,img_to_array,load_img\n",
    "from tensorflow.keras.layers import Lambda, Dropout,Input, Activation, Dense, GlobalAveragePooling2D, Conv2D,Add, BatchNormalization,DepthwiseConv2D\n",
    "from tensorflow.keras.models import Model, load_model\n",
    "from tensorflow.keras import optimizers,regularizers\n",
    "from tensorflow.keras.initializers import he_normal\n",
    "from tensorflow.keras.callbacks import Callback,LearningRateScheduler, TensorBoard, ModelCheckpoint, EarlyStopping,ReduceLROnPlateau\n",
    "import Model_mobilenet\n",
    "from Model_mobilenet import MobileNet,MobileNet_drop\n",
    "from image_noise import Rand_Augment"
   ]
  },
  {
   "cell_type": "code",
   "execution_count": 4,
   "metadata": {},
   "outputs": [
    {
     "name": "stdout",
     "output_type": "stream",
     "text": [
      "1 Physical GPUs, 1 Logical GPUs\n"
     ]
    }
   ],
   "source": [
    "def solve_cudnn_error():\n",
    "    gpus = tf.config.experimental.list_physical_devices('GPU')\n",
    "    if gpus:\n",
    "        try:\n",
    "            # Currently, memory growth needs to be the same across GPUs\n",
    "            for gpu in gpus:\n",
    "                tf.config.experimental.set_memory_growth(gpu, True)\n",
    "            logical_gpus = tf.config.experimental.list_logical_devices('GPU')\n",
    "            print(len(gpus), \"Physical GPUs,\", len(logical_gpus), \"Logical GPUs\")\n",
    "        except RuntimeError as e:\n",
    "            # Memory growth must be set before GPUs have been initialized\n",
    "            print(e)\n",
    "solve_cudnn_error()"
   ]
  },
  {
   "cell_type": "code",
   "execution_count": 5,
   "metadata": {},
   "outputs": [],
   "source": [
    "teacher_model = teacher_model = load_model('teacher_model_624.h5')"
   ]
  },
  {
   "cell_type": "code",
   "execution_count": 6,
   "metadata": {},
   "outputs": [
    {
     "name": "stdout",
     "output_type": "stream",
     "text": [
      "1750\n"
     ]
    }
   ],
   "source": [
    "img_path = r\"E:\\NCHU_PHD\\10902sml\\data_set\\add\"\n",
    "img_list = os.listdir(img_path)\n",
    "\n",
    "x_train_imgnet = []\n",
    "\n",
    "for i in img_list:\n",
    "    abs_path = os.path.join(img_path, i)\n",
    "    temp = load_img(abs_path)\n",
    "    temp = img_to_array(temp)\n",
    "    x_train_imgnet.append(temp)\n",
    "\n",
    "x_train_imgnet = np.array(x_train_imgnet)\n",
    "\n",
    "batch_size = 40\n",
    "step = int(x_train_imgnet.shape[0] / batch_size)\n",
    "print(step)\n",
    "\n",
    "y_train_imgnet_dummy = []\n",
    "\n",
    "for i in range(step):\n",
    "    x_temp = x_train_imgnet[batch_size*i:batch_size*(i+1)]\n",
    "    x_temp = x_temp / 255.\n",
    "    temp = teacher_model.predict(x_temp)\n",
    "    y_train_imgnet_dummy.extend(temp)\n",
    "\n",
    "y_train_imgnet_dummy = np.array(y_train_imgnet_dummy)"
   ]
  },
  {
   "cell_type": "code",
   "execution_count": 8,
   "metadata": {},
   "outputs": [
    {
     "name": "stdout",
     "output_type": "stream",
     "text": [
      "[0 1 2 3 4 5 6 7 8 9] [8857 7104 6319 7199 8944 4746 8508 6691 4780 6852]\n",
      "0 : (8857, 10)\n",
      "0 : (8857, 32, 32, 3)\n",
      "1 : (7104, 10)\n",
      "1 : (7104, 32, 32, 3)\n",
      "2 : (6319, 10)\n",
      "2 : (6319, 32, 32, 3)\n",
      "3 : (7199, 10)\n",
      "3 : (7199, 32, 32, 3)\n",
      "4 : (8944, 10)\n",
      "4 : (8944, 32, 32, 3)\n",
      "5 : (4746, 10)\n",
      "5 : (4746, 32, 32, 3)\n",
      "6 : (8508, 10)\n",
      "6 : (8508, 32, 32, 3)\n",
      "7 : (6691, 10)\n",
      "7 : (6691, 32, 32, 3)\n",
      "8 : (4780, 10)\n",
      "8 : (4780, 32, 32, 3)\n",
      "9 : (6852, 10)\n",
      "9 : (6852, 32, 32, 3)\n"
     ]
    }
   ],
   "source": [
    "y_train_imgnet_dummy_th =  y_train_imgnet_dummy\n",
    "x_train_imgnet_th = x_train_imgnet\n",
    "\n",
    "\n",
    "y_student_all_dummy_label = np.argmax(y_train_imgnet_dummy_th, axis=1)\n",
    "\n",
    "u, counts = np.unique(y_student_all_dummy_label, return_counts=True)\n",
    "print(u, counts)\n",
    "\n",
    "student_label_max =  max(counts)\n",
    "\n",
    "y_student_per_label = []\n",
    "y_student_per_img_path = []\n",
    "\n",
    "for i in range(10):\n",
    "    temp_l = y_train_imgnet_dummy_th[y_student_all_dummy_label == i]\n",
    "    print(i, \":\", temp_l.shape)\n",
    "    y_student_per_label.append(temp_l)\n",
    "    temp_i = x_train_imgnet_th[y_student_all_dummy_label == i]\n",
    "    print(i, \":\", temp_i.shape)\n",
    "    y_student_per_img_path.append(temp_i)"
   ]
  },
  {
   "cell_type": "code",
   "execution_count": 9,
   "metadata": {},
   "outputs": [
    {
     "name": "stdout",
     "output_type": "stream",
     "text": [
      "[4500, 4500, 4500, 4500, 4500, 4500, 4500, 4500, 4500, 4500]\n"
     ]
    }
   ],
   "source": [
    "y_student_per_label_add = []\n",
    "y_student_per_img_add = []\n",
    "\n",
    "for i in range(10):\n",
    "    num = y_student_per_label[i].shape[0]\n",
    "    temp_l = y_student_per_label[i]\n",
    "    temp_i = y_student_per_img_path[i]\n",
    "    add_num = student_label_max - num\n",
    "    \n",
    "\n",
    "    p = (-temp_l[:,0]).argsort()\n",
    "    temp_l_new = temp_l[p]\n",
    "    temp_i_new= temp_i[p]\n",
    "    y_student_per_label_add.append(temp_l_new[:4500])\n",
    "    y_student_per_img_add.append(temp_i_new[:4500])\n",
    "\n",
    "print([len(i) for i in y_student_per_label_add])\n",
    "\n",
    "student_train_img = np.concatenate(y_student_per_img_add, axis=0)\n",
    "student_train_label = np.concatenate(y_student_per_label_add, axis=0)\n",
    "\n",
    "x_train_student = student_train_img\n",
    "y_train_student = student_train_label"
   ]
  },
  {
   "cell_type": "markdown",
   "metadata": {},
   "source": [
    "# Step2 模型建立\n"
   ]
  },
  {
   "cell_type": "code",
   "execution_count": 10,
   "metadata": {},
   "outputs": [
    {
     "data": {
      "text/plain": [
       "(45000, 32, 32, 3)"
      ]
     },
     "execution_count": 10,
     "metadata": {},
     "output_type": "execute_result"
    }
   ],
   "source": [
    "x_train_student.shape"
   ]
  },
  {
   "cell_type": "markdown",
   "metadata": {},
   "source": [
    "### Student_model 訓練"
   ]
  },
  {
   "cell_type": "code",
   "execution_count": 11,
   "metadata": {},
   "outputs": [
    {
     "name": "stdout",
     "output_type": "stream",
     "text": [
      "Model: \"model\"\n",
      "_________________________________________________________________\n",
      "Layer (type)                 Output Shape              Param #   \n",
      "=================================================================\n",
      "input_1 (InputLayer)         [(None, 32, 32, 3)]       0         \n",
      "_________________________________________________________________\n",
      "conv2d (Conv2D)              (None, 16, 16, 24)        672       \n",
      "_________________________________________________________________\n",
      "batch_normalization (BatchNo (None, 16, 16, 24)        96        \n",
      "_________________________________________________________________\n",
      "activation (Activation)      (None, 16, 16, 24)        0         \n",
      "_________________________________________________________________\n",
      "depthwise_conv2d (DepthwiseC (None, 16, 16, 24)        240       \n",
      "_________________________________________________________________\n",
      "batch_normalization_1 (Batch (None, 16, 16, 24)        96        \n",
      "_________________________________________________________________\n",
      "activation_1 (Activation)    (None, 16, 16, 24)        0         \n",
      "_________________________________________________________________\n",
      "conv2d_1 (Conv2D)            (None, 16, 16, 48)        1200      \n",
      "_________________________________________________________________\n",
      "batch_normalization_2 (Batch (None, 16, 16, 48)        192       \n",
      "_________________________________________________________________\n",
      "activation_2 (Activation)    (None, 16, 16, 48)        0         \n",
      "_________________________________________________________________\n",
      "depthwise_conv2d_1 (Depthwis (None, 8, 8, 48)          480       \n",
      "_________________________________________________________________\n",
      "batch_normalization_3 (Batch (None, 8, 8, 48)          192       \n",
      "_________________________________________________________________\n",
      "activation_3 (Activation)    (None, 8, 8, 48)          0         \n",
      "_________________________________________________________________\n",
      "conv2d_2 (Conv2D)            (None, 8, 8, 96)          4704      \n",
      "_________________________________________________________________\n",
      "batch_normalization_4 (Batch (None, 8, 8, 96)          384       \n",
      "_________________________________________________________________\n",
      "activation_4 (Activation)    (None, 8, 8, 96)          0         \n",
      "_________________________________________________________________\n",
      "depthwise_conv2d_2 (Depthwis (None, 8, 8, 96)          960       \n",
      "_________________________________________________________________\n",
      "batch_normalization_5 (Batch (None, 8, 8, 96)          384       \n",
      "_________________________________________________________________\n",
      "activation_5 (Activation)    (None, 8, 8, 96)          0         \n",
      "_________________________________________________________________\n",
      "conv2d_3 (Conv2D)            (None, 8, 8, 96)          9312      \n",
      "_________________________________________________________________\n",
      "batch_normalization_6 (Batch (None, 8, 8, 96)          384       \n",
      "_________________________________________________________________\n",
      "activation_6 (Activation)    (None, 8, 8, 96)          0         \n",
      "_________________________________________________________________\n",
      "depthwise_conv2d_3 (Depthwis (None, 4, 4, 96)          960       \n",
      "_________________________________________________________________\n",
      "batch_normalization_7 (Batch (None, 4, 4, 96)          384       \n",
      "_________________________________________________________________\n",
      "activation_7 (Activation)    (None, 4, 4, 96)          0         \n",
      "_________________________________________________________________\n",
      "conv2d_4 (Conv2D)            (None, 4, 4, 192)         18624     \n",
      "_________________________________________________________________\n",
      "batch_normalization_8 (Batch (None, 4, 4, 192)         768       \n",
      "_________________________________________________________________\n",
      "activation_8 (Activation)    (None, 4, 4, 192)         0         \n",
      "_________________________________________________________________\n",
      "depthwise_conv2d_4 (Depthwis (None, 4, 4, 192)         1920      \n",
      "_________________________________________________________________\n",
      "batch_normalization_9 (Batch (None, 4, 4, 192)         768       \n",
      "_________________________________________________________________\n",
      "activation_9 (Activation)    (None, 4, 4, 192)         0         \n",
      "_________________________________________________________________\n",
      "conv2d_5 (Conv2D)            (None, 4, 4, 192)         37056     \n",
      "_________________________________________________________________\n",
      "batch_normalization_10 (Batc (None, 4, 4, 192)         768       \n",
      "_________________________________________________________________\n",
      "activation_10 (Activation)   (None, 4, 4, 192)         0         \n",
      "_________________________________________________________________\n",
      "depthwise_conv2d_5 (Depthwis (None, 2, 2, 192)         1920      \n",
      "_________________________________________________________________\n",
      "batch_normalization_11 (Batc (None, 2, 2, 192)         768       \n",
      "_________________________________________________________________\n",
      "activation_11 (Activation)   (None, 2, 2, 192)         0         \n",
      "_________________________________________________________________\n",
      "conv2d_6 (Conv2D)            (None, 2, 2, 384)         74112     \n",
      "_________________________________________________________________\n",
      "batch_normalization_12 (Batc (None, 2, 2, 384)         1536      \n",
      "_________________________________________________________________\n",
      "activation_12 (Activation)   (None, 2, 2, 384)         0         \n",
      "_________________________________________________________________\n",
      "depthwise_conv2d_6 (Depthwis (None, 2, 2, 384)         3840      \n",
      "_________________________________________________________________\n",
      "batch_normalization_13 (Batc (None, 2, 2, 384)         1536      \n",
      "_________________________________________________________________\n",
      "activation_13 (Activation)   (None, 2, 2, 384)         0         \n",
      "_________________________________________________________________\n",
      "conv2d_7 (Conv2D)            (None, 2, 2, 384)         147840    \n",
      "_________________________________________________________________\n",
      "batch_normalization_14 (Batc (None, 2, 2, 384)         1536      \n",
      "_________________________________________________________________\n",
      "activation_14 (Activation)   (None, 2, 2, 384)         0         \n",
      "_________________________________________________________________\n",
      "depthwise_conv2d_7 (Depthwis (None, 2, 2, 384)         3840      \n",
      "_________________________________________________________________\n",
      "batch_normalization_15 (Batc (None, 2, 2, 384)         1536      \n",
      "_________________________________________________________________\n",
      "activation_15 (Activation)   (None, 2, 2, 384)         0         \n",
      "_________________________________________________________________\n",
      "conv2d_8 (Conv2D)            (None, 2, 2, 384)         147840    \n",
      "_________________________________________________________________\n",
      "batch_normalization_16 (Batc (None, 2, 2, 384)         1536      \n",
      "_________________________________________________________________\n",
      "activation_16 (Activation)   (None, 2, 2, 384)         0         \n",
      "_________________________________________________________________\n",
      "depthwise_conv2d_8 (Depthwis (None, 2, 2, 384)         3840      \n",
      "_________________________________________________________________\n",
      "batch_normalization_17 (Batc (None, 2, 2, 384)         1536      \n",
      "_________________________________________________________________\n",
      "activation_17 (Activation)   (None, 2, 2, 384)         0         \n",
      "_________________________________________________________________\n",
      "conv2d_9 (Conv2D)            (None, 2, 2, 384)         147840    \n",
      "_________________________________________________________________\n",
      "batch_normalization_18 (Batc (None, 2, 2, 384)         1536      \n",
      "_________________________________________________________________\n",
      "activation_18 (Activation)   (None, 2, 2, 384)         0         \n",
      "_________________________________________________________________\n",
      "depthwise_conv2d_9 (Depthwis (None, 2, 2, 384)         3840      \n",
      "_________________________________________________________________\n",
      "batch_normalization_19 (Batc (None, 2, 2, 384)         1536      \n",
      "_________________________________________________________________\n",
      "activation_19 (Activation)   (None, 2, 2, 384)         0         \n",
      "_________________________________________________________________\n",
      "conv2d_10 (Conv2D)           (None, 2, 2, 384)         147840    \n",
      "_________________________________________________________________\n",
      "batch_normalization_20 (Batc (None, 2, 2, 384)         1536      \n",
      "_________________________________________________________________\n",
      "activation_20 (Activation)   (None, 2, 2, 384)         0         \n",
      "_________________________________________________________________\n",
      "depthwise_conv2d_10 (Depthwi (None, 2, 2, 384)         3840      \n",
      "_________________________________________________________________\n",
      "batch_normalization_21 (Batc (None, 2, 2, 384)         1536      \n",
      "_________________________________________________________________\n",
      "activation_21 (Activation)   (None, 2, 2, 384)         0         \n",
      "_________________________________________________________________\n",
      "conv2d_11 (Conv2D)           (None, 2, 2, 384)         147840    \n",
      "_________________________________________________________________\n",
      "batch_normalization_22 (Batc (None, 2, 2, 384)         1536      \n",
      "_________________________________________________________________\n",
      "activation_22 (Activation)   (None, 2, 2, 384)         0         \n",
      "_________________________________________________________________\n",
      "depthwise_conv2d_11 (Depthwi (None, 1, 1, 384)         3840      \n",
      "_________________________________________________________________\n",
      "batch_normalization_23 (Batc (None, 1, 1, 384)         1536      \n",
      "_________________________________________________________________\n",
      "activation_23 (Activation)   (None, 1, 1, 384)         0         \n",
      "_________________________________________________________________\n",
      "conv2d_12 (Conv2D)           (None, 1, 1, 768)         295680    \n",
      "_________________________________________________________________\n",
      "batch_normalization_24 (Batc (None, 1, 1, 768)         3072      \n",
      "_________________________________________________________________\n",
      "activation_24 (Activation)   (None, 1, 1, 768)         0         \n",
      "_________________________________________________________________\n",
      "depthwise_conv2d_12 (Depthwi (None, 1, 1, 768)         7680      \n",
      "_________________________________________________________________\n",
      "batch_normalization_25 (Batc (None, 1, 1, 768)         3072      \n",
      "_________________________________________________________________\n",
      "activation_25 (Activation)   (None, 1, 1, 768)         0         \n",
      "_________________________________________________________________\n",
      "conv2d_13 (Conv2D)           (None, 1, 1, 768)         590592    \n",
      "_________________________________________________________________\n",
      "batch_normalization_26 (Batc (None, 1, 1, 768)         3072      \n",
      "_________________________________________________________________\n",
      "activation_26 (Activation)   (None, 1, 1, 768)         0         \n",
      "_________________________________________________________________\n",
      "global_average_pooling2d (Gl (None, 768)               0         \n",
      "_________________________________________________________________\n",
      "dense (Dense)                (None, 10)                7690      \n",
      "=================================================================\n",
      "Total params: 1,848,874\n",
      "Trainable params: 1,832,458\n",
      "Non-trainable params: 16,416\n",
      "_________________________________________________________________\n"
     ]
    }
   ],
   "source": [
    "img_input=Input(shape=(32,32,3))\n",
    "output = MobileNet(img_input)\n",
    "student_model_billion = Model(img_input,output)\n",
    "student_model_billion.summary()"
   ]
  },
  {
   "cell_type": "code",
   "execution_count": 12,
   "metadata": {},
   "outputs": [],
   "source": [
    "import os"
   ]
  },
  {
   "cell_type": "code",
   "execution_count": 15,
   "metadata": {},
   "outputs": [
    {
     "name": "stdout",
     "output_type": "stream",
     "text": [
      "WARNING:tensorflow:`period` argument is deprecated. Please use `save_freq` to specify the frequency in number of samples seen.\n",
      "Epoch 1/50\n",
      "703/703 [==============================] - 77s 109ms/step - loss: 2.0828 - accuracy: 0.2328 - val_loss: 2.0107 - val_accuracy: 0.2549\n",
      "Epoch 2/50\n",
      "703/703 [==============================] - 77s 110ms/step - loss: 1.8145 - accuracy: 0.3470 - val_loss: 1.6914 - val_accuracy: 0.3825\n",
      "Epoch 3/50\n",
      "703/703 [==============================] - 77s 109ms/step - loss: 1.7220 - accuracy: 0.3900 - val_loss: 2.5591 - val_accuracy: 0.3218\n",
      "Epoch 4/50\n",
      "703/703 [==============================] - 78s 111ms/step - loss: 1.6625 - accuracy: 0.4159 - val_loss: 1.4721 - val_accuracy: 0.4581\n",
      "Epoch 5/50\n",
      "703/703 [==============================] - 77s 110ms/step - loss: 1.5821 - accuracy: 0.4569 - val_loss: 1.4361 - val_accuracy: 0.4666\n",
      "Epoch 6/50\n",
      "703/703 [==============================] - 78s 110ms/step - loss: 1.5200 - accuracy: 0.4828 - val_loss: 1.4352 - val_accuracy: 0.4671\n",
      "Epoch 7/50\n",
      "703/703 [==============================] - 78s 111ms/step - loss: 1.4834 - accuracy: 0.5044 - val_loss: 1.3419 - val_accuracy: 0.5070\n",
      "Epoch 8/50\n",
      "703/703 [==============================] - 78s 111ms/step - loss: 1.4407 - accuracy: 0.5235 - val_loss: 1.3112 - val_accuracy: 0.5222\n",
      "Epoch 9/50\n",
      "703/703 [==============================] - 78s 111ms/step - loss: 1.4375 - accuracy: 0.5274 - val_loss: 1.4820 - val_accuracy: 0.4762\n",
      "Epoch 10/50\n",
      "703/703 [==============================] - 78s 111ms/step - loss: 1.3990 - accuracy: 0.5406 - val_loss: 1.3071 - val_accuracy: 0.5349\n",
      "Epoch 11/50\n",
      "703/703 [==============================] - 78s 110ms/step - loss: 1.3335 - accuracy: 0.5679 - val_loss: 1.1562 - val_accuracy: 0.5802\n",
      "Epoch 12/50\n",
      "703/703 [==============================] - 78s 110ms/step - loss: 1.3119 - accuracy: 0.5843 - val_loss: 1.1681 - val_accuracy: 0.5710\n",
      "Epoch 13/50\n",
      "703/703 [==============================] - 78s 111ms/step - loss: 1.2589 - accuracy: 0.6057 - val_loss: 1.1570 - val_accuracy: 0.5880\n",
      "Epoch 14/50\n",
      "702/703 [============================>.] - ETA: 0s - loss: 1.2594 - accuracy: 0.6073\n",
      "Epoch 00014: ReduceLROnPlateau reducing learning rate to 0.00010000000474974513.\n",
      "703/703 [==============================] - 77s 110ms/step - loss: 1.2596 - accuracy: 0.6071 - val_loss: 1.5638 - val_accuracy: 0.4983\n",
      "Epoch 15/50\n",
      "703/703 [==============================] - 78s 111ms/step - loss: 1.1793 - accuracy: 0.6490 - val_loss: 1.0186 - val_accuracy: 0.6355\n",
      "Epoch 16/50\n",
      "703/703 [==============================] - 78s 111ms/step - loss: 1.1142 - accuracy: 0.6774 - val_loss: 1.0048 - val_accuracy: 0.6402\n",
      "Epoch 17/50\n",
      "703/703 [==============================] - 78s 111ms/step - loss: 1.0821 - accuracy: 0.6957 - val_loss: 0.9977 - val_accuracy: 0.6434\n",
      "Epoch 18/50\n",
      "703/703 [==============================] - 78s 111ms/step - loss: 1.0567 - accuracy: 0.7075 - val_loss: 1.0031 - val_accuracy: 0.6403\n",
      "Epoch 19/50\n",
      "703/703 [==============================] - 77s 110ms/step - loss: 1.0370 - accuracy: 0.7236 - val_loss: 1.0039 - val_accuracy: 0.6402\n",
      "Epoch 20/50\n",
      "702/703 [============================>.] - ETA: 0s - loss: 1.0211 - accuracy: 0.7332 ETA: 0s - loss: 1.0206 - accura\n",
      "Epoch 00020: ReduceLROnPlateau reducing learning rate to 1.0000000474974514e-05.\n",
      "703/703 [==============================] - 79s 112ms/step - loss: 1.0210 - accuracy: 0.7332 - val_loss: 1.0064 - val_accuracy: 0.6414\n",
      "Epoch 21/50\n",
      "703/703 [==============================] - 78s 111ms/step - loss: 0.9925 - accuracy: 0.7501 - val_loss: 1.0019 - val_accuracy: 0.6439\n",
      "Epoch 22/50\n",
      "703/703 [==============================] - 78s 111ms/step - loss: 0.9912 - accuracy: 0.7497 - val_loss: 1.0022 - val_accuracy: 0.6432\n",
      "Epoch 23/50\n",
      "702/703 [============================>.] - ETA: 0s - loss: 0.9860 - accuracy: 0.7529\n",
      "Epoch 00023: ReduceLROnPlateau reducing learning rate to 1.0000000656873453e-06.\n",
      "703/703 [==============================] - 78s 111ms/step - loss: 0.9859 - accuracy: 0.7530 - val_loss: 1.0048 - val_accuracy: 0.6436\n",
      "Epoch 24/50\n",
      "703/703 [==============================] - 78s 111ms/step - loss: 0.9796 - accuracy: 0.7564 - val_loss: 1.0059 - val_accuracy: 0.6435\n",
      "Epoch 25/50\n",
      "703/703 [==============================] - 77s 110ms/step - loss: 0.9853 - accuracy: 0.7541 - val_loss: 1.0061 - val_accuracy: 0.6436\n",
      "Epoch 26/50\n",
      "702/703 [============================>.] - ETA: 0s - loss: 0.9833 - accuracy: 0.7580\n",
      "Epoch 00026: ReduceLROnPlateau reducing learning rate to 1.0000001111620805e-07.\n",
      "703/703 [==============================] - 78s 110ms/step - loss: 0.9836 - accuracy: 0.7579 - val_loss: 1.0057 - val_accuracy: 0.6435\n",
      "Epoch 27/50\n",
      "703/703 [==============================] - 78s 110ms/step - loss: 0.9827 - accuracy: 0.7560 - val_loss: 1.0046 - val_accuracy: 0.6437\n",
      "Epoch 00027: early stopping\n"
     ]
    }
   ],
   "source": [
    "log_dir = 'logs/softlabel/student1_2/'\n",
    "batch_size = 64\n",
    "\n",
    "checkpoint = ModelCheckpoint(log_dir + 'ep{epoch:03d}-loss{loss:.3f}-val_loss{val_loss:.3f}.h5',\\\n",
    "    monitor='val_loss', save_weights_only=True, save_best_only=True, period=1)\n",
    "reduce_lr = ReduceLROnPlateau(monitor='val_loss', factor=0.1, patience=3, verbose=1)\n",
    "early_stopping = EarlyStopping(monitor='val_loss', min_delta=0, patience=10, verbose=1)\n",
    "\n",
    "student_model_billion.compile(loss = \"categorical_crossentropy\",optimizer = \"adam\", metrics = [\"accuracy\"])\n",
    "\n",
    "batch_size = 64\n",
    "steps_per_epoch = x_train_student.shape[0] // batch_size\n",
    "validation_steps = x_test_10.shape[0] // batch_size\n",
    "train_gen = ImageDataGenerator(rescale = 1./255.).flow(x_train_student,y_train_student, batch_size)\n",
    "val_gen = ImageDataGenerator(rescale = 1./255.).flow(x_test_10,y_test_10, batch_size)\n",
    "\n",
    "\n",
    "history = student_model_billion.fit_generator(train_gen,\n",
    "                                      initial_epoch=0,\n",
    "                                      epochs=50,\n",
    "                                      steps_per_epoch = steps_per_epoch,\n",
    "                          validation_data = val_gen, validation_steps = validation_steps,\n",
    "                          callbacks=[checkpoint, reduce_lr, early_stopping])\n",
    "\n",
    "\n",
    "\n"
   ]
  },
  {
   "cell_type": "code",
   "execution_count": 16,
   "metadata": {},
   "outputs": [],
   "source": [
    "student_model_billion.save('student_model_billion_624_part.h5')\n"
   ]
  },
  {
   "cell_type": "code",
   "execution_count": 17,
   "metadata": {},
   "outputs": [
    {
     "name": "stdout",
     "output_type": "stream",
     "text": [
      "WARNING:tensorflow:`period` argument is deprecated. Please use `save_freq` to specify the frequency in number of samples seen.\n"
     ]
    }
   ],
   "source": [
    "batch_size = 64\n",
    "steps_per_epoch = y_train_10.shape[0] // batch_size\n",
    "validation_steps = x_test_10.shape[0] // batch_size\n",
    "\n",
    "log_dir = 'logs/softlabel/student_billion/'\n",
    "\n",
    "checkpoint = ModelCheckpoint(log_dir + 'ep{epoch:03d}-loss{loss:.3f}-val_loss{val_loss:.3f}.h5',\n",
    "    monitor='val_loss', save_weights_only=True, save_best_only=True, period=1)\n",
    "reduce_lr = ReduceLROnPlateau(monitor='val_loss', factor=0.1, patience=3, verbose=1)\n",
    "early_stopping = EarlyStopping(monitor='val_loss', min_delta=0, patience=10, verbose=1)"
   ]
  },
  {
   "cell_type": "code",
   "execution_count": 18,
   "metadata": {},
   "outputs": [
    {
     "name": "stdout",
     "output_type": "stream",
     "text": [
      "Epoch 28/100\n",
      "781/781 [==============================] - 91s 116ms/step - loss: 0.9798 - accuracy: 0.6555 - val_loss: 1.0023 - val_accuracy: 0.6457\n",
      "Epoch 29/100\n",
      "781/781 [==============================] - 85s 109ms/step - loss: 0.9792 - accuracy: 0.6578 - val_loss: 1.0028 - val_accuracy: 0.6461\n",
      "Epoch 30/100\n",
      "781/781 [==============================] - 85s 109ms/step - loss: 0.9774 - accuracy: 0.6557 - val_loss: 1.0012 - val_accuracy: 0.6461\n",
      "Epoch 31/100\n",
      "781/781 [==============================] - 87s 111ms/step - loss: 0.9783 - accuracy: 0.6562 - val_loss: 1.0012 - val_accuracy: 0.6461\n",
      "Epoch 32/100\n",
      "781/781 [==============================] - 86s 110ms/step - loss: 0.9804 - accuracy: 0.6555 - val_loss: 1.0010 - val_accuracy: 0.6460\n",
      "Epoch 33/100\n",
      "781/781 [==============================] - 85s 108ms/step - loss: 0.9765 - accuracy: 0.6553 - val_loss: 1.0026 - val_accuracy: 0.6463\n",
      "Epoch 34/100\n",
      "781/781 [==============================] - 85s 109ms/step - loss: 0.9786 - accuracy: 0.6548 - val_loss: 0.9994 - val_accuracy: 0.6468\n",
      "Epoch 35/100\n",
      "781/781 [==============================] - 85s 108ms/step - loss: 0.9786 - accuracy: 0.6554 - val_loss: 1.0009 - val_accuracy: 0.6462\n",
      "Epoch 36/100\n",
      "781/781 [==============================] - 85s 109ms/step - loss: 0.9752 - accuracy: 0.6568 - val_loss: 0.9998 - val_accuracy: 0.6459\n",
      "Epoch 37/100\n",
      "780/781 [============================>.] - ETA: 0s - loss: 0.9729 - accuracy: 0.65 - ETA: 0s - loss: 0.9730 - accuracy: 0.6565\n",
      "Epoch 00037: ReduceLROnPlateau reducing learning rate to 1.000000082740371e-08.\n",
      "781/781 [==============================] - 85s 108ms/step - loss: 0.9729 - accuracy: 0.6564 - val_loss: 0.9997 - val_accuracy: 0.6468\n",
      "Epoch 38/100\n",
      "781/781 [==============================] - 85s 108ms/step - loss: 0.9752 - accuracy: 0.6584 - val_loss: 0.9998 - val_accuracy: 0.6466\n",
      "Epoch 39/100\n",
      "781/781 [==============================] - 84s 107ms/step - loss: 0.9716 - accuracy: 0.6570 - val_loss: 1.0004 - val_accuracy: 0.6460\n",
      "Epoch 40/100\n",
      "781/781 [==============================] - 84s 108ms/step - loss: 0.9774 - accuracy: 0.6565 - val_loss: 0.9988 - val_accuracy: 0.6476\n",
      "Epoch 41/100\n",
      "781/781 [==============================] - 84s 108ms/step - loss: 0.9748 - accuracy: 0.6555 - val_loss: 0.9994 - val_accuracy: 0.6467\n",
      "Epoch 42/100\n",
      "781/781 [==============================] - 85s 109ms/step - loss: 0.9743 - accuracy: 0.6569 - val_loss: 0.9976 - val_accuracy: 0.6477\n",
      "Epoch 43/100\n",
      "781/781 [==============================] - 84s 108ms/step - loss: 0.9755 - accuracy: 0.6569 - val_loss: 0.9990 - val_accuracy: 0.6468\n",
      "Epoch 44/100\n",
      "781/781 [==============================] - 85s 109ms/step - loss: 0.9752 - accuracy: 0.6551 - val_loss: 0.9996 - val_accuracy: 0.6459\n",
      "Epoch 45/100\n",
      "780/781 [============================>.] - ETA: 0s - loss: 0.9747 - accuracy: 0.6564\n",
      "Epoch 00045: ReduceLROnPlateau reducing learning rate to 1.000000082740371e-09.\n",
      "781/781 [==============================] - 85s 109ms/step - loss: 0.9747 - accuracy: 0.6563 - val_loss: 0.9985 - val_accuracy: 0.6471\n",
      "Epoch 46/100\n",
      "781/781 [==============================] - 85s 109ms/step - loss: 0.9736 - accuracy: 0.6578 - val_loss: 0.9990 - val_accuracy: 0.6469\n",
      "Epoch 47/100\n",
      "781/781 [==============================] - 85s 108ms/step - loss: 0.9732 - accuracy: 0.6564 - val_loss: 1.0003 - val_accuracy: 0.6464\n",
      "Epoch 48/100\n",
      "780/781 [============================>.] - ETA: 0s - loss: 0.9740 - accuracy: 0.6566\n",
      "Epoch 00048: ReduceLROnPlateau reducing learning rate to 1.000000082740371e-10.\n",
      "781/781 [==============================] - 85s 109ms/step - loss: 0.9739 - accuracy: 0.6567 - val_loss: 1.0002 - val_accuracy: 0.6464\n",
      "Epoch 49/100\n",
      "781/781 [==============================] - 86s 110ms/step - loss: 0.9738 - accuracy: 0.6574 - val_loss: 0.9994 - val_accuracy: 0.6469\n",
      "Epoch 50/100\n",
      "781/781 [==============================] - 85s 109ms/step - loss: 0.9770 - accuracy: 0.6574 - val_loss: 0.9985 - val_accuracy: 0.6470\n",
      "Epoch 51/100\n",
      "780/781 [============================>.] - ETA: 0s - loss: 0.9745 - accuracy: 0.6562 ETA: \n",
      "Epoch 00051: ReduceLROnPlateau reducing learning rate to 1.000000082740371e-11.\n",
      "781/781 [==============================] - 85s 109ms/step - loss: 0.9744 - accuracy: 0.6563 - val_loss: 0.9993 - val_accuracy: 0.6458\n",
      "Epoch 52/100\n",
      "781/781 [==============================] - 85s 109ms/step - loss: 0.9728 - accuracy: 0.6568 - val_loss: 1.0005 - val_accuracy: 0.6466\n",
      "Epoch 00052: early stopping\n"
     ]
    }
   ],
   "source": [
    "train_gen = ImageDataGenerator(rescale = 1./255.).flow(x_train_10,y_train_10, batch_size)\n",
    "val_gen = ImageDataGenerator(rescale = 1./255.).flow(x_test_10,y_test_10, batch_size)\n",
    "\n",
    "history = student_model_billion.fit_generator(train_gen,\n",
    "                                      initial_epoch=27,\n",
    "                                      epochs=100,\n",
    "                                      steps_per_epoch = steps_per_epoch,\n",
    "                          validation_data = val_gen, validation_steps = validation_steps,\n",
    "                          callbacks=[checkpoint, reduce_lr, early_stopping])"
   ]
  },
  {
   "cell_type": "code",
   "execution_count": 19,
   "metadata": {},
   "outputs": [],
   "source": [
    "student_model_billion.save('student_model_billion_624.h5')\n",
    "history.history.keys()\n",
    "student_billion = pd.DataFrame(history.history, index=range(1,len(history.history['loss'])+1))\n",
    "student_billion.to_csv('E:/NCHU_PHD/10902sml/report2/final_624/student_billion.CSV')\n",
    "\n"
   ]
  },
  {
   "cell_type": "code",
   "execution_count": 20,
   "metadata": {},
   "outputs": [
    {
     "data": {
      "text/plain": [
       "<matplotlib.legend.Legend at 0x2804db0c3c8>"
      ]
     },
     "execution_count": 20,
     "metadata": {},
     "output_type": "execute_result"
    },
    {
     "data": {
      "image/png": "[encoded data removed]",
      "text/plain": [
       "<Figure size 432x288 with 1 Axes>"
      ]
     },
     "metadata": {
      "needs_background": "light"
     },
     "output_type": "display_data"
    }
   ],
   "source": [
    "from matplotlib import pyplot as plt\n",
    "plt.plot(student_billion['loss'], marker='o', label='training_loss')\n",
    "plt.plot(student_billion['val_loss'], marker='d', label='validation_loss')\n",
    "plt.ylabel('Loss', fontsize=12)\n",
    "plt.xlabel('Training Epochs-Mobilenet_alpha=0.75,student_billion', fontsize=12)\n",
    "plt.grid()\n",
    "plt.legend()"
   ]
  },
  {
   "cell_type": "code",
   "execution_count": 21,
   "metadata": {},
   "outputs": [
    {
     "data": {
      "text/plain": [
       "<matplotlib.legend.Legend at 0x2804bbe1508>"
      ]
     },
     "execution_count": 21,
     "metadata": {},
     "output_type": "execute_result"
    },
    {
     "data": {
      "image/png": "[encoded data removed]",
      "text/plain": [
       "<Figure size 432x288 with 1 Axes>"
      ]
     },
     "metadata": {
      "needs_background": "light"
     },
     "output_type": "display_data"
    }
   ],
   "source": [
    "plt.plot(student_billion['accuracy'], marker='o', label='training_accuracy')\n",
    "plt.plot(student_billion['val_accuracy'], marker='d', label='validation_accuracy')\n",
    "plt.ylabel('Accuracy', fontsize=12)\n",
    "plt.xlabel('Training Epochs-Mobilenet_alpha=0.75,student_billion', fontsize=12)\n",
    "plt.grid()\n",
    "plt.legend()"
   ]
  },
  {
   "cell_type": "markdown",
   "metadata": {},
   "source": [
    "### Test"
   ]
  },
  {
   "cell_type": "code",
   "execution_count": 22,
   "metadata": {},
   "outputs": [
    {
     "name": "stdout",
     "output_type": "stream",
     "text": [
      "\r",
      "500/1 [========================================================================================================================================================================================================================================================================================================================================================================================================================================================================================================================================================================================================================================================================================================================================================================================================================================================================================================================================================================================================================================================================================================================================================================================================================================================================================================================================================================================================================================================================================================================================================================================================================================================================================================================================================================================================================================================================================================================================================================================================================================================================================================================================================================================================================================================================================================================================================================================================================================================================================================================================================================================================================================================================================================================================================================================================================================================================================================================================================================================================================================================================================================================================================================================================================================================================================================================================================================================================================================================================================================================================================================================================================================================================================================================================================================================================================================================================================================================================================================================================================================================================================================================================================================================================================================================================================================================================================================================================================================================================================================================================================================================================================================================================================================================================================================================================================================================================================================================================================================================================================================================================================================================================================================================================================================================================================================================================================================================================================================================================================================================================================================================================================================================================================================================================================================================================================================================================================================================================================================================================================================================================================================================================================================================================================================================================================================================================================================================================================================================================================================================================================================================================================================================================================================================================================================================================================================================================================================================================================================================================================================================================================================================================================================================================================================================================================================================================================================================================================================================================================================================================================================================================================================================================================================================================================================================================================================================================================================================================================================================================================================================================================================================================================================================================================================================================================================================================================================================================================================================================================================================================================================================================================================================================================================================================================================================================================================================================================================================================================================================================================================================================================================================================================================================================================================================================================================================================================================================================================================================================================================================================================================================================================================================================================================================================================================================================================================================================================================================================================================================================================================================================================================================================================================================================================================================================================================================================================================================================================================================================================================================================================================================================================================================================================================================================================================================================================================================================================================================================================================================================================================================================================================================================================================================================================================================================================================================================================================================================================================================================================================================================================================================================================================================================================================================================================================================================================================================================================================================================================================================================================================================================================================================================================================================================================================================================================================================================================================================================================================================================================================================================================================================================================================================================================================================================================================================================================================================================================================================================================================================================================================================================================================================================================================================================================================================================================================================================================================================================================================================================================================================================================================================================================================================================================================================================================================================================================================================================================================================================================================================================================================================================================================================================================================================================================================================================================================================================================================================================================================================================================================================================================================================================================================================================================================================================================================================================================================================================================================================================================================================================================================================================================================================================================================================================================================================================================================================================================================================================================================================================================================================================================================================================================] - 1s 1ms/sample - loss: 1.8948 - accuracy: 0.4880\n"
     ]
    },
    {
     "name": "stdout",
     "output_type": "stream",
     "text": [
      "loss:1.6358\n",
      "acc: 0.488\n"
     ]
    }
   ],
   "source": [
    "###test\n",
    "img_path = \"E:/NCHU_PHD/10902sml/data_set/add_test\"\n",
    "img_list = os.listdir(img_path)\n",
    "\n",
    "x_test = []\n",
    "y_test = []\n",
    "\n",
    "for i in img_list:\n",
    "    img_list_= img_path +\"/\"+i\n",
    "    for j in os.listdir(img_list_):\n",
    "        abs_path = img_path +\"/\"+i +\"/\"+j\n",
    "        temp = load_img(abs_path)\n",
    "        temp = img_to_array(temp)\n",
    "        x_test.append(temp)\n",
    "        y_test.append(i)\n",
    "    \n",
    "x_test = np.array(x_test)\n",
    "y_test = np.array(y_test).reshape((500, 1))\n",
    "y_test = to_categorical(y_test)\n",
    "\n",
    "def my_eval(model,x,t):\n",
    "    ev = model.evaluate(x,t, batch_size=10)\n",
    "    print(\"loss:\"+str(round(ev[0],4)))\n",
    "    print(\"acc: \"+str(ev[1]))\n",
    "\n",
    "my_eval(student_model_billion,x_test/255,y_test)"
   ]
  },
  {
   "cell_type": "code",
   "execution_count": null,
   "metadata": {},
   "outputs": [],
   "source": []
  }
 ],
 "metadata": {
  "kernelspec": {
   "display_name": "Python [conda env:tensorflow-gpu]",
   "language": "python",
   "name": "conda-env-tensorflow-gpu-py"
  },
  "language_info": {
   "codemirror_mode": {
    "name": "ipython",
    "version": 3
   },
   "file_extension": ".py",
   "mimetype": "text/x-python",
   "name": "python",
   "nbconvert_exporter": "python",
   "pygments_lexer": "ipython3",
   "version": "3.7.7"
  }
 },
 "nbformat": 4,
 "nbformat_minor": 2
}

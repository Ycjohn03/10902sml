{
 "cells": [
  {
   "cell_type": "markdown",
   "metadata": {},
   "source": [
    "# Step1資料準備"
   ]
  },
  {
   "cell_type": "code",
   "execution_count": 1,
   "metadata": {},
   "outputs": [],
   "source": [
    "import tensorflow as tf\n",
    "from tensorflow.keras.datasets import cifar10\n",
    "from tensorflow.keras.utils import to_categorical\n",
    "(x_train_10,y_train_10),(x_test_10,y_test_10)=cifar10.load_data()\n",
    "y_train_10 = to_categorical(y_train_10)\n",
    "y_test_10 = to_categorical(y_test_10)\n"
   ]
  },
  {
   "cell_type": "code",
   "execution_count": 2,
   "metadata": {},
   "outputs": [],
   "source": [
    "import os\n",
    "import numpy as np\n",
    "import pandas as pd\n",
    "import tensorflow as tf\n",
    "from tensorflow import keras\n",
    "from tensorflow.keras import backend as K\n",
    "from tensorflow.keras.regularizers import l2\n",
    "from tensorflow.keras.preprocessing.image import ImageDataGenerator,array_to_img,img_to_array,load_img\n",
    "from tensorflow.keras.layers import Lambda, Dropout,Input, Activation, Dense, GlobalAveragePooling2D, Conv2D,Add, BatchNormalization,DepthwiseConv2D\n",
    "from tensorflow.keras.models import Model, load_model\n",
    "from tensorflow.keras import optimizers,regularizers\n",
    "from tensorflow.keras.initializers import he_normal\n",
    "from tensorflow.keras.callbacks import Callback,LearningRateScheduler, TensorBoard, ModelCheckpoint, EarlyStopping,ReduceLROnPlateau\n",
    "import Model_mobilenet\n",
    "from Model_mobilenet import MobileNet"
   ]
  },
  {
   "cell_type": "code",
   "execution_count": 8,
   "metadata": {},
   "outputs": [
    {
     "data": {
      "text/plain": [
       "<function Model_mobilenet.MobileNet(img_input, shallow=False, classes=10)>"
      ]
     },
     "execution_count": 8,
     "metadata": {},
     "output_type": "execute_result"
    }
   ],
   "source": [
    "MobileNet"
   ]
  },
  {
   "cell_type": "code",
   "execution_count": 3,
   "metadata": {},
   "outputs": [
    {
     "name": "stdout",
     "output_type": "stream",
     "text": [
      "1 Physical GPUs, 1 Logical GPUs\n"
     ]
    }
   ],
   "source": [
    "def solve_cudnn_error():\n",
    "    gpus = tf.config.experimental.list_physical_devices('GPU')\n",
    "    if gpus:\n",
    "        try:\n",
    "            # Currently, memory growth needs to be the same across GPUs\n",
    "            for gpu in gpus:\n",
    "                tf.config.experimental.set_memory_growth(gpu, True)\n",
    "            logical_gpus = tf.config.experimental.list_logical_devices('GPU')\n",
    "            print(len(gpus), \"Physical GPUs,\", len(logical_gpus), \"Logical GPUs\")\n",
    "        except RuntimeError as e:\n",
    "            # Memory growth must be set before GPUs have been initialized\n",
    "            print(e)\n",
    "solve_cudnn_error()"
   ]
  },
  {
   "cell_type": "markdown",
   "metadata": {},
   "source": [
    "### 建立teacher model\n"
   ]
  },
  {
   "cell_type": "code",
   "execution_count": 10,
   "metadata": {},
   "outputs": [
    {
     "name": "stdout",
     "output_type": "stream",
     "text": [
      "Model: \"model_1\"\n",
      "_________________________________________________________________\n",
      "Layer (type)                 Output Shape              Param #   \n",
      "=================================================================\n",
      "input_2 (InputLayer)         [(None, 32, 32, 3)]       0         \n",
      "_________________________________________________________________\n",
      "conv2d_14 (Conv2D)           (None, 16, 16, 24)        672       \n",
      "_________________________________________________________________\n",
      "batch_normalization_27 (Batc (None, 16, 16, 24)        96        \n",
      "_________________________________________________________________\n",
      "activation_27 (Activation)   (None, 16, 16, 24)        0         \n",
      "_________________________________________________________________\n",
      "depthwise_conv2d_13 (Depthwi (None, 16, 16, 24)        240       \n",
      "_________________________________________________________________\n",
      "batch_normalization_28 (Batc (None, 16, 16, 24)        96        \n",
      "_________________________________________________________________\n",
      "activation_28 (Activation)   (None, 16, 16, 24)        0         \n",
      "_________________________________________________________________\n",
      "conv2d_15 (Conv2D)           (None, 16, 16, 48)        1200      \n",
      "_________________________________________________________________\n",
      "batch_normalization_29 (Batc (None, 16, 16, 48)        192       \n",
      "_________________________________________________________________\n",
      "activation_29 (Activation)   (None, 16, 16, 48)        0         \n",
      "_________________________________________________________________\n",
      "depthwise_conv2d_14 (Depthwi (None, 8, 8, 48)          480       \n",
      "_________________________________________________________________\n",
      "batch_normalization_30 (Batc (None, 8, 8, 48)          192       \n",
      "_________________________________________________________________\n",
      "activation_30 (Activation)   (None, 8, 8, 48)          0         \n",
      "_________________________________________________________________\n",
      "conv2d_16 (Conv2D)           (None, 8, 8, 96)          4704      \n",
      "_________________________________________________________________\n",
      "batch_normalization_31 (Batc (None, 8, 8, 96)          384       \n",
      "_________________________________________________________________\n",
      "activation_31 (Activation)   (None, 8, 8, 96)          0         \n",
      "_________________________________________________________________\n",
      "depthwise_conv2d_15 (Depthwi (None, 8, 8, 96)          960       \n",
      "_________________________________________________________________\n",
      "batch_normalization_32 (Batc (None, 8, 8, 96)          384       \n",
      "_________________________________________________________________\n",
      "activation_32 (Activation)   (None, 8, 8, 96)          0         \n",
      "_________________________________________________________________\n",
      "conv2d_17 (Conv2D)           (None, 8, 8, 96)          9312      \n",
      "_________________________________________________________________\n",
      "batch_normalization_33 (Batc (None, 8, 8, 96)          384       \n",
      "_________________________________________________________________\n",
      "activation_33 (Activation)   (None, 8, 8, 96)          0         \n",
      "_________________________________________________________________\n",
      "depthwise_conv2d_16 (Depthwi (None, 4, 4, 96)          960       \n",
      "_________________________________________________________________\n",
      "batch_normalization_34 (Batc (None, 4, 4, 96)          384       \n",
      "_________________________________________________________________\n",
      "activation_34 (Activation)   (None, 4, 4, 96)          0         \n",
      "_________________________________________________________________\n",
      "conv2d_18 (Conv2D)           (None, 4, 4, 192)         18624     \n",
      "_________________________________________________________________\n",
      "batch_normalization_35 (Batc (None, 4, 4, 192)         768       \n",
      "_________________________________________________________________\n",
      "activation_35 (Activation)   (None, 4, 4, 192)         0         \n",
      "_________________________________________________________________\n",
      "depthwise_conv2d_17 (Depthwi (None, 4, 4, 192)         1920      \n",
      "_________________________________________________________________\n",
      "batch_normalization_36 (Batc (None, 4, 4, 192)         768       \n",
      "_________________________________________________________________\n",
      "activation_36 (Activation)   (None, 4, 4, 192)         0         \n",
      "_________________________________________________________________\n",
      "conv2d_19 (Conv2D)           (None, 4, 4, 192)         37056     \n",
      "_________________________________________________________________\n",
      "batch_normalization_37 (Batc (None, 4, 4, 192)         768       \n",
      "_________________________________________________________________\n",
      "activation_37 (Activation)   (None, 4, 4, 192)         0         \n",
      "_________________________________________________________________\n",
      "depthwise_conv2d_18 (Depthwi (None, 2, 2, 192)         1920      \n",
      "_________________________________________________________________\n",
      "batch_normalization_38 (Batc (None, 2, 2, 192)         768       \n",
      "_________________________________________________________________\n",
      "activation_38 (Activation)   (None, 2, 2, 192)         0         \n",
      "_________________________________________________________________\n",
      "conv2d_20 (Conv2D)           (None, 2, 2, 384)         74112     \n",
      "_________________________________________________________________\n",
      "batch_normalization_39 (Batc (None, 2, 2, 384)         1536      \n",
      "_________________________________________________________________\n",
      "activation_39 (Activation)   (None, 2, 2, 384)         0         \n",
      "_________________________________________________________________\n",
      "depthwise_conv2d_19 (Depthwi (None, 2, 2, 384)         3840      \n",
      "_________________________________________________________________\n",
      "batch_normalization_40 (Batc (None, 2, 2, 384)         1536      \n",
      "_________________________________________________________________\n",
      "activation_40 (Activation)   (None, 2, 2, 384)         0         \n",
      "_________________________________________________________________\n",
      "conv2d_21 (Conv2D)           (None, 2, 2, 384)         147840    \n",
      "_________________________________________________________________\n",
      "batch_normalization_41 (Batc (None, 2, 2, 384)         1536      \n",
      "_________________________________________________________________\n",
      "activation_41 (Activation)   (None, 2, 2, 384)         0         \n",
      "_________________________________________________________________\n",
      "depthwise_conv2d_20 (Depthwi (None, 2, 2, 384)         3840      \n",
      "_________________________________________________________________\n",
      "batch_normalization_42 (Batc (None, 2, 2, 384)         1536      \n",
      "_________________________________________________________________\n",
      "activation_42 (Activation)   (None, 2, 2, 384)         0         \n",
      "_________________________________________________________________\n",
      "conv2d_22 (Conv2D)           (None, 2, 2, 384)         147840    \n",
      "_________________________________________________________________\n",
      "batch_normalization_43 (Batc (None, 2, 2, 384)         1536      \n",
      "_________________________________________________________________\n",
      "activation_43 (Activation)   (None, 2, 2, 384)         0         \n",
      "_________________________________________________________________\n",
      "depthwise_conv2d_21 (Depthwi (None, 2, 2, 384)         3840      \n",
      "_________________________________________________________________\n",
      "batch_normalization_44 (Batc (None, 2, 2, 384)         1536      \n",
      "_________________________________________________________________\n",
      "activation_44 (Activation)   (None, 2, 2, 384)         0         \n",
      "_________________________________________________________________\n",
      "conv2d_23 (Conv2D)           (None, 2, 2, 384)         147840    \n",
      "_________________________________________________________________\n",
      "batch_normalization_45 (Batc (None, 2, 2, 384)         1536      \n",
      "_________________________________________________________________\n",
      "activation_45 (Activation)   (None, 2, 2, 384)         0         \n",
      "_________________________________________________________________\n",
      "depthwise_conv2d_22 (Depthwi (None, 2, 2, 384)         3840      \n",
      "_________________________________________________________________\n",
      "batch_normalization_46 (Batc (None, 2, 2, 384)         1536      \n",
      "_________________________________________________________________\n",
      "activation_46 (Activation)   (None, 2, 2, 384)         0         \n",
      "_________________________________________________________________\n",
      "conv2d_24 (Conv2D)           (None, 2, 2, 384)         147840    \n",
      "_________________________________________________________________\n",
      "batch_normalization_47 (Batc (None, 2, 2, 384)         1536      \n",
      "_________________________________________________________________\n",
      "activation_47 (Activation)   (None, 2, 2, 384)         0         \n",
      "_________________________________________________________________\n",
      "depthwise_conv2d_23 (Depthwi (None, 2, 2, 384)         3840      \n",
      "_________________________________________________________________\n",
      "batch_normalization_48 (Batc (None, 2, 2, 384)         1536      \n",
      "_________________________________________________________________\n",
      "activation_48 (Activation)   (None, 2, 2, 384)         0         \n",
      "_________________________________________________________________\n",
      "conv2d_25 (Conv2D)           (None, 2, 2, 384)         147840    \n",
      "_________________________________________________________________\n",
      "batch_normalization_49 (Batc (None, 2, 2, 384)         1536      \n",
      "_________________________________________________________________\n",
      "activation_49 (Activation)   (None, 2, 2, 384)         0         \n",
      "_________________________________________________________________\n",
      "depthwise_conv2d_24 (Depthwi (None, 1, 1, 384)         3840      \n",
      "_________________________________________________________________\n",
      "batch_normalization_50 (Batc (None, 1, 1, 384)         1536      \n",
      "_________________________________________________________________\n",
      "activation_50 (Activation)   (None, 1, 1, 384)         0         \n",
      "_________________________________________________________________\n",
      "conv2d_26 (Conv2D)           (None, 1, 1, 768)         295680    \n",
      "_________________________________________________________________\n",
      "batch_normalization_51 (Batc (None, 1, 1, 768)         3072      \n",
      "_________________________________________________________________\n",
      "activation_51 (Activation)   (None, 1, 1, 768)         0         \n",
      "_________________________________________________________________\n",
      "depthwise_conv2d_25 (Depthwi (None, 1, 1, 768)         7680      \n",
      "_________________________________________________________________\n",
      "batch_normalization_52 (Batc (None, 1, 1, 768)         3072      \n",
      "_________________________________________________________________\n",
      "activation_52 (Activation)   (None, 1, 1, 768)         0         \n",
      "_________________________________________________________________\n",
      "conv2d_27 (Conv2D)           (None, 1, 1, 768)         590592    \n",
      "_________________________________________________________________\n",
      "batch_normalization_53 (Batc (None, 1, 1, 768)         3072      \n",
      "_________________________________________________________________\n",
      "activation_53 (Activation)   (None, 1, 1, 768)         0         \n",
      "_________________________________________________________________\n",
      "global_average_pooling2d_1 ( (None, 768)               0         \n",
      "_________________________________________________________________\n",
      "dense_1 (Dense)              (None, 10)                7690      \n",
      "=================================================================\n",
      "Total params: 1,848,874\n",
      "Trainable params: 1,832,458\n",
      "Non-trainable params: 16,416\n",
      "_________________________________________________________________\n"
     ]
    }
   ],
   "source": [
    "img_input=Input(shape=(32,32,3))\n",
    "output = MobileNet(img_input)\n",
    "teacher_model = Model(img_input,output)\n",
    "teacher_model.summary()"
   ]
  },
  {
   "cell_type": "code",
   "execution_count": 11,
   "metadata": {},
   "outputs": [
    {
     "name": "stdout",
     "output_type": "stream",
     "text": [
      "WARNING:tensorflow:`period` argument is deprecated. Please use `save_freq` to specify the frequency in number of samples seen.\n"
     ]
    }
   ],
   "source": [
    "batch_size = 64\n",
    "steps_per_epoch = y_train_10.shape[0] // batch_size\n",
    "validation_steps = x_test_10.shape[0] // batch_size\n",
    "\n",
    "log_dir = 'logs/softlabel/teacher/'\n",
    "\n",
    "checkpoint = ModelCheckpoint(log_dir + 'ep{epoch:03d}-loss{loss:.3f}-val_loss{val_loss:.3f}.h5',\n",
    "    monitor='val_loss', save_weights_only=True, save_best_only=True, period=1)\n",
    "reduce_lr = ReduceLROnPlateau(monitor='val_loss', factor=0.1, patience=3, verbose=1)\n",
    "early_stopping = EarlyStopping(monitor='val_loss', min_delta=0, patience=10, verbose=1)\n",
    "\n",
    "teacher_model.compile(loss = \"categorical_crossentropy\",optimizer = \"adam\", metrics = [\"accuracy\"])\n",
    "train_gen = ImageDataGenerator(rescale = 1./255.).flow(x_train_10,y_train_10, batch_size)\n",
    "val_gen = ImageDataGenerator(rescale = 1./255.).flow(x_test_10,y_test_10, batch_size)"
   ]
  },
  {
   "cell_type": "code",
   "execution_count": 12,
   "metadata": {},
   "outputs": [
    {
     "name": "stdout",
     "output_type": "stream",
     "text": [
      "Epoch 1/50\n",
      "781/781 [==============================] - 87s 111ms/step - loss: 1.8918 - accuracy: 0.3120 - val_loss: 1.7163 - val_accuracy: 0.3702 4:03 - loss: 2.6308 - accuracy: 0.10 - ETA: 3:39 - loss: 2.6048 - accuracy: 0. - ETA: 3:07 - loss: - ETA: 2:00 -  - ETA: 58s - loss: 2.1756 -  - ETA: 56s - loss: 2.1623 - accuracy: 0.21 - ETA: 56s - loss: 2.1605 - accuracy: 0. - ETA: 56s - loss: 2.1575 - accuracy:  - ETA: 50s - loss: 2.1176 - accuracy - ETA: 49s - loss: 2.1091 - accura - ETA: 48s - loss: 2.1028 - accura - ETA: 47s - loss: 2.0956 - accuracy: 0.240 - ETA: 47s - loss:   - ETA: 39s - loss: 2.0503 - accuracy:  - ETA: 38s - loss: 2.0463 - acc - ETA: 37s - loss: 2.0383 - accuracy: 0 - ETA: 37s - loss: 2.0365 - accuracy: - ETA: 36s - loss: 2.0337 - accuracy: 0.2 - ETA: 36s - loss: 2.032 - ETA: 33s - loss: 2.0216 - accuracy: 0.26 - ETA: 33s - loss: 2.0208 - accuracy:  - ETA: 33s - loss: 2.0164 - accuracy: 0.26 - ETA: 32s - loss: - ETA: 30s - loss: 2.0027 - accur - ETA: 29s - loss: 1.9984 - accur - ETA: 27s -  - ETA: 24s - loss: 1.97 - E - ETA: 13s - loss: 1.9383 - accurac - ETA: 12s - loss: 1.9358 - - ETA: 11s - loss: 1.9302 - - ETA: 2s - loss: 1.9014 - accuracy:  - ETA: 2s - loss: 1.9002  - ETA: 1s - loss: 1.8973 - accuracy: 0.31 - ETA: 1s - loss: 1.8968  - ETA: 0s - loss: 1.8937 - accu\n",
      "Epoch 2/50\n",
      "781/781 [==============================] - 83s 106ms/step - loss: 1.5407 - accuracy: 0.4351 - val_loss: 1.5470 - val_accuracy: 0.46421.6065 - accuracy: 0.41 - ETA: 1:11 - loss: 1.6 - ETA: 1: - ETA: 1:09 - loss: 1.5898 - accuracy: 0. - ETA:  - ETA: 1:04 - ETA: 1:03 - loss: 1.5868 - accu - ETA: 1:02 - - ETA: 1:01 - loss: 1.5838 - ac - ETA: 1:00 - loss: 1.5830 - acc - ETA: 59s - loss: 1.5822 - accuracy: 0 - ETA: 59s - loss: 1.5831 - accuracy: 0 - ETA: 58s - loss: 1.5827 - accuracy: 0.416 - ETA: 58s - loss: 1.5824 - accuracy:  - ETA: 57s - loss: 1.5785 - accu - ETA: 56s - loss: 1.5763 - accura - ETA: 51s - loss: 1.5809 - accuracy:  - ETA: 50s - loss: 1.5801 - accuracy:  - ETA: 50s - loss: 1.5796 - ETA: 48s - loss: 1.5762 - accuracy: 0.422 - ETA: 48s - loss: 1.5764 - accuracy: - ETA: 47s - loss: 1.5772  - ETA: 45s - loss: 1.5774 - accuracy: - ETA: 45s - loss: 1.5766 - accuracy: 0.4 - ETA: 44s - loss: 1.5774 - a - ETA: 43s - loss: 1.5782 - accur - ETA: 42s - loss: 1.5775 - accuracy:  - ETA: 41s - loss: 1.5787 - accuracy:  - ETA: 41s - loss: 1.5791 - acc - ETA: 39s - loss: 1.5763 - accur - ETA: 38s - loss: 1 - ETA: 36s - loss: 1.5722 - acc - ETA: 35s - loss: 1.5733 - accuracy:  - ETA: 34s - loss: 1.5736 - a - ETA: 33s - loss: 1.5738 - accuracy: 0.425 - ETA: 32s - loss: 1.5735 - accuracy: 0. - ETA: 32s - loss: 1.5733 - acc - ETA: 31s - loss: 1.5731 - accuracy: 0.4 - ETA: 31s - loss: 1.5728 - accuracy - ETA: 30s - l - ETA: 27s - loss:  - ETA: 24s - loss: 1.5677 - accuracy: 0. - ETA: 24s - loss: 1.5679 - accur - ETA: 2  - ETA: 15s - loss: 1.5 - ETA: 1 - ETA: 1s - loss:\n",
      "Epoch 3/50\n",
      "781/781 [==============================] - 84s 107ms/step - loss: 1.4151 - accuracy: 0.4913 - val_loss: 1.4218 - val_accuracy: 0.4923ss: 1.4102 - accuracy:  - ETA: 1: - ETA: 1:12 - loss: 1.4126 -  - ETA: 1:07 - loss: 1.4139 - accuracy:  - ETA: 1:06 - loss: 1.4132 - accura - ETA: 1:06 - l - ETA: 1:05 - - ETA: 1:01 - loss: 1.4183 - accuracy: 0. - ETA: 1:01 - loss: 1.4165 - accura - ETA: 1:00 - - ETA: 54s - loss: 1.4129 - accuracy: 0.491 - ETA: 54s - loss: 1.4120 - accuracy: 0.491 - ETA: 53s - loss: 1.4115 - accuracy: 0.491 - ETA: 53s -  - ETA: 50s - loss: 1.4116 - accuracy:  - ETA: 50s - loss: 1.4123 - accuracy: 0 - ETA: 49s - loss: 1.4111 -  - ETA: 48s - los - ETA: 45s - loss: 1.4078 - accuracy: 0.49 - ETA: 45s - loss: 1.408 - ETA: 43s - loss: 1.4069 - accuracy: 0.4 - ETA: 42s - loss: 1.4058 -  - ETA: 41s - loss: 1.4068 - accuracy: 0.492 - ETA: 41s - loss: 1.4070 - accuracy: - ETA: 40s - loss: 1.4071 - accuracy - ETA: 39s - loss: 1.4040  - ETA: 37s - loss: 1.4016 - accuracy: 0.49 - ETA: 37s - loss: 1.4016 - accuracy: 0.4 - ETA: 37s - loss: 1.4008 - ac - ETA: 35s - loss: 1.3996 - accur - ETA: 34s - loss: 1. - ETA: 32s - loss: 1.3995 - accuracy: 0.494 - ETA: 32s - loss: 1.3992 - accur - ETA: 31s - loss: 1.3995 - accuracy: 0 - ETA: 30s - loss: 1.3998 - ac - ETA: 29s -  - ETA: 26s - loss: 1.3990 -  - ETA: 24 - ETA: - ETA: 9s - loss: 1.4140 - accu - ETA:  - ETA: 7s - loss: 1.4141 - accuracy:  - ETA: 6s - los - ETA:  - ETA: 1s - loss: 1 - ETA: 0s - loss: 1.4153 - accuracy: 0.49 - ETA: 0s - loss: 1.4152 - accuracy: 0.\n",
      "Epoch 4/50\n",
      "781/781 [==============================] - 83s 106ms/step - loss: 1.2901 - accuracy: 0.5402 - val_loss: 1.3008 - val_accuracy: 0.5498A: 1:12 - l - ETA: 1:10 - loss: 1.3261 - accuracy:  - ETA: 1:10 - loss: 1.3280 - ac - ETA: 1:09 - ETA: 1:05 - loss: 1.3307 - accuracy: 0. - ETA: 1:05 - loss: 1 - ETA: 1:04 - loss: 1 - ETA: 1:03 - loss: 1.3289 - accuracy - ETA: 1:00 - loss: 1.3275 - accu - ETA: 59s - loss: 1.3284 - accuracy: - ETA: 58s - loss: - ETA: 56s - loss: 1.3231 - accuracy: 0.520 - ETA: 56s - loss: 1.3233 - acc - ETA: 55s - loss:  - ETA: 52s - loss: 1.3204 - accuracy: - ETA: 51s - loss: 1.3193 - accur - ETA: 50s - loss: 1.3177 -  - ETA: 49s - loss: 1.3149 - accuracy:  - ETA: 48s - loss: 1.3135 - accu - ETA: 47s - loss: 1.3148 - accuracy: 0.526 - ETA: 47s - loss: 1.3148 - accuracy: 0.526 - ETA: 47s - loss: 1.3146 - - ETA: 45s - loss: 1.3134 - accuracy: 0 - ETA: 45s - loss: 1.3125 - accuracy: 0.527 - ETA: 45s - loss: 1.3119 - accuracy: 0.528 - ETA: 45s - loss: 1.3115 - accuracy: 0.52 - ETA: 44s - loss: 1.3109 - a - ETA: 43s - loss: 1.3 - ETA: 41s - loss: 1.3095 - accuracy: 0.529 - ETA: 41s - loss: 1.3094 - accuracy:  - ETA: 40s - loss: 1.3095 - accura - ETA: 39s - los - ETA: 36s - loss: 1.3030 - accuracy:  - ETA: 31s - loss: 1.3006 - accuracy: 0.533 - ETA: 31s - loss: 1.3007 - acc - ETA: 30s - loss: 1.3015 - - ETA: 28s - loss: 1.3048 - accuracy - ETA: 28s - loss: 1.3049 - accura - ETA: 27s - loss - ETA: 24s - loss: 1.3039 - accurac - ETA: 23s - loss:  - ETA: 21s - loss: 1.3027 - accuracy: 0.533 - ETA: 21s - los - ETA: 18s - loss: 1.3007 - accuracy: 0.53 - ETA: 18s - loss: 1.30 - ETA: 16s - loss: 1.3005 - accuracy: 0.5 - ETA: 16s - loss: 1.3008 - accur - ETA: 15s - loss: 1.300 - ETA: 13s - loss: 1.2991 - accura - ETA: 12s - loss: 1.2989 -   - ETA: 3s - loss: 1 - ETA - ETA: 0s - loss: 1.2918 \n",
      "Epoch 5/50\n",
      "781/781 [==============================] - 83s 106ms/step - loss: 1.1820 - accuracy: 0.5833 - val_loss: 1.3066 - val_accuracy: 0.5506: 1.169 - ETA - ETA: 1:00 - loss: 1.1525 - - ETA: 59s - loss: 1.1490 - a - ETA: 58s - loss: 1.1508 - accuracy: 0.595 - ETA: 58s - loss: 1.1510 - accuracy:  - ETA: 57s - loss: 1.1512 - accur - ETA: 56s - loss: 1.1586 - accuracy - ETA: 55s - loss: 1.1608 - ETA: 53s - loss: 1.1662 - accu - ETA: 52s - loss: 1.1664 - accuracy: 0.5 - ETA: 52s - loss: 1.1683 - accuracy: 0 - ETA: 52s - loss: 1.16 - ETA: 49s - loss: 1.1776 - accuracy: 0 - ETA: 49s - loss: 1.1768 -  - ETA: 47s - loss: 1.1784 - accura - ETA: 46s - loss: 1.1792 - accuracy: 0. - ETA: 46s - loss: 1.1792 - acc - ETA: 45s - loss: 1.1778  - ETA: 43s - loss: 1.1789 - accuracy: - ETA: 42s - loss: 1.178 - ETA: 40s - loss: 1.1781 - accuracy: 0.5 - ETA: 40s - loss: 1.1782 - accuracy: 0 - ETA: 40s - loss: 1.1791 -  - ETA: 38s - loss: 1.1796 - accuracy: 0.5 - ETA: 38s - loss: 1. - ETA: 36s - loss: 1.1795 - accuracy: 0.5 - ETA: 35s - loss: 1.1804 - accurac - ETA: 34s - loss: 1.1796 - accuracy: 0.5 - ETA: 34s - loss: 1.1798 - accuracy: 0 - ETA: 34s - loss: 1.1795 -  - ETA: 32s - loss: 1.1805 - accuracy: 0.5 - ETA: 32s - loss: 1.1800 - a - ETA: 30s - loss: 1.1817 - accuracy: 0.581 - ETA: 30s - loss: 1.1815 - accuracy: - ETA: 29s - loss: 1.1808 - accuracy: 0.581 - ETA:  - ETA: 26s - loss: 1.1831 - accuracy: 0. - ETA: 25s - loss: 1.1831 - accura - ETA: 24s - loss: 1.1828 - accur - ETA: 23s - loss: 1.1831 - accuracy: 0.5 - ETA: 23s - loss: 1.1830 - accu - ETA: 22s - loss: 1. - ETA: 20s - loss: 1.1810 - accuracy: 0.58 - ETA: 19s - loss: 1.1811 - acc - ETA: 18s - loss: 1.1792 - accuracy: 0.582 - ETA: 18s - loss: 1.1 - ETA: 16s - loss: 1.1821 - accurac - ETA: 15s - loss: 1.1819 - accuracy - ETA: 14s - lo - ETA: 11s - loss: 1.1825 - ac - ETA: 10s - loss: 1.1 - ETA: 9s - loss: 1.1806 - accuracy:  - ETA: 8s - los - ETA: 5s - loss: 1.1818 - accura - ETA: 4s - loss: 1.1816 - ac - ETA: 4s - loss: 1.1818 - accuracy:  - ETA: 3s - loss: 1.1819 -  - ETA: 3s - loss: 1.1818 - accuracy: 0. - ETA: 2s - loss: 1.1814 - accuracy: 0. - ETA: 2s - loss: 1.1820 - accuracy:  - ETA: 2s - loss: 1.1816 - accuracy: 0. - ETA: 2s - los - ETA: 0s - loss: 1.1817 - \n",
      "Epoch 6/50\n",
      "781/781 [==============================] - 84s 108ms/step - loss: 1.0935 - accuracy: 0.6194 - val_loss: 1.1759 - val_accuracy: 0.5963A: 1:07 - loss: 1.1 - ETA: 1:01 - loss: 1.1377  - ETA: 57s - loss: 1.1416 - a - ETA: 55s - loss: 1.1400 - accuracy: 0 - ETA: 55s - loss: 1.1360 - accuracy: 0 - ETA: 54s - loss: 1.1340 - accuracy: 0 - ETA: 54s - loss: 1.1332 - accuracy: - ETA: 53s - loss: 1.1314 - accuracy: 0.60 - ETA: 53s - loss: 1.1 - ETA: 51s - loss: 1.12 - ETA: 49s - loss: 1.1 - ETA: 46s - loss: 1.1204 - accur - ETA: 45s - loss: 1.1188 - accuracy: 0.61 - ETA: 45s - loss: 1 - ETA: 43s - loss: 1.1189 -  - ETA: 41s - loss: 1.1190 - accura - ETA: 40s - loss: 1.1175 - accuracy - ETA: 39s - loss: 1.11 - ETA: 37s - loss: 1.1143 - - ETA: 36s - lo - ETA: 33s - lo - ETA: 30s - loss: 1.1067  - ETA: 28s - loss: 1.1071 - accurac - ETA: 27s  - ETA: 24s - loss: 1.103 - ETA: 22s - loss: 1.1041 - ETA: 20s - loss: 1.1044 - ETA: 18s - loss: 1.1031 - accuracy: 0.6 - ETA: 18s - loss: 1.1037 - accuracy: 0. - ETA: 18s - loss: 1.1036 - acc - ETA: 16s - loss: 1.1041 - accuracy: - ETA: 16s - loss: 1.1029 - accuracy: - ETA: 15s - loss: 1.1028 - accuracy: - ETA: 14s - loss: 1.1015 - accuracy: 0.6 - ETA: 14s - loss: 1.1011 - accuracy - ETA:  - - ETA: 3s - loss: 1.093 - ETA: 2s - loss: 1.0941 - accuracy: \n",
      "Epoch 7/50\n",
      "781/781 [==============================] - 83s 107ms/step - loss: 1.0452 - accuracy: 0.6375 - val_loss: 1.2951 - val_accuracy: 0.5650A: 1:13 - loss: 1.0376 - accuracy: 0. - ETA: 1:13 - loss: 1.0277 - accuracy - ETA: 1:13 - loss: 1.0320 - accuracy: 0.65 - ETA: 1:13 - loss: 1.0324 - accuracy: 0. - ETA: 1:12 - loss: 1.0164 - accuracy: 0.66 - ETA: 1:12 - loss: 1.0120 - accuracy: 0. - ETA: 1:12 - ETA: 1:11 - ETA: 1:09 - loss: 1.0067 - accuracy: 0.66 - ETA: 1:09 - loss: 1.0063 - ac - ETA: 1:08 - loss: 1.0026 -  - ETA: 1:07 - loss: 0.9949 -  - ETA: 1:06 - loss: 0.9956 - accu - ETA: 1:06 - loss: - ETA: 1:04 - loss: 0.9953 - accuracy:  - ETA: 1:04 - loss: 0.9980  - ETA: 1: - ETA: 59s - loss: 0.9968 - accuracy:  - ETA: 59s - loss: 0.9973 - a - ETA: 57s - loss: 0.9973 - accuracy:  - ETA: 57s - loss: 0.9974 - a - ETA: 55s - loss: 1.0003 - accuracy: 0 - ETA: 55s - loss: 0.9989 - accuracy - ETA: 54s - los - ETA: 51s - loss: 1.0084 - - ETA: 50s - loss: 1.0116 - accuracy: 0 - ETA: 49s - loss: 1.0112 - accuracy: 0 - ETA: 49s - loss: 1.0101 - accuracy: 0.65 - ETA: 48s - loss: 1.0 - ETA: 42s - loss: 1.0263 - accuracy: 0.64 - ETA: 42s - loss: 1 - ETA: 40s - loss: 1.0305 - a - ETA: 38s - loss: 1.0319 - accuracy: 0.641 - ETA: 38s - loss: 1.0323 - accuracy: 0.641 - ETA: 38s - loss: 1.0322 - accuracy: 0.6 - ETA: 38s - loss: 1.0332 - accurac - ETA: 37s - loss: 1.03 -  - ETA: 31s -  - E - ETA: 15s - loss: 1.0505 - accuracy:  - ETA: 15s - loss: 1.0505 - accurac - ETA: 14s - loss: 1.0508 -  - ETA: 12s - loss: 1.0496 - accurac - ETA: 11s - loss: 1.0497 - ETA: 9s - loss: 1.0491 - accuracy: 0 - ETA: 9s - loss: 1.0490 - accuracy:  - ETA: 9s - loss: 1.0487 - accuracy - ETA: 9s - loss: 1.0487 - accuracy: 0.63 - ETA: 8s - loss: 1.0487  - ETA: 8s - loss: 1.0491 -  - ETA - ETA: 5s - loss: 1.0484  - E - ETA: 2s - ETA: 0s - loss: 1.0447 -  - ETA: 0s - loss: 1.0452 - accuracy: 0.63\n",
      "Epoch 8/50\n",
      "781/781 [==============================] - 86s 110ms/step - loss: 0.9544 - accuracy: 0.6678 - val_loss: 4.0985 - val_accuracy: 0.3778loss: 0.9791 - accuracy: 0. - ETA: 58s - loss: 0.9791 - accuracy: - ETA: 57s - lo - ETA: 54s - lo - ETA: 51s - loss: 0.9742 - - ETA: 50s - loss: 0.9698 - accuracy: 0.66 - ETA: 49s - loss: 0.9709 - accuracy: 0.66 - ETA: 49s - loss: 0.9 - ETA: 47s - loss: 0.9697 - accuracy: 0 - ETA: 47s - ETA: 43s - loss: 0.9651 - accuracy - ETA: 42s - loss: 0.9672 - accuracy: - ETA: 42s - loss: 0.9665 - a - ETA: 40s - loss: 0.9663 - accurac - ETA: 39s - l - ETA: 36s - loss: 0.9634 - accuracy: - ETA: 36s - loss: 0.9638 - accuracy: 0.6 - ETA: 35s - loss: 0.9 - ETA: 33s - loss: 0.9601 - accurac - ETA: 3 - ETA: 28s - loss - ETA: 26s - loss - ETA: 23s - loss: 0.955 - ETA: 21s - loss: 0.9528 - ac - ETA:   - ETA\n",
      "Epoch 9/50\n",
      "781/781 [==============================] - 83s 106ms/step - loss: 0.9710 - accuracy: 0.6654 - val_loss: 1.0531 - val_accuracy: 0.6451- ETA: 1:04 - - E - ETA: 57s - loss: 1.0294  - ET - ETA: 52s - loss: 1.0077 - accuracy: 0.652 - ETA: 51s - loss: 1.0071 - ETA: 50s - loss: 1.0049 - accuracy: 0.6 - ETA: 49s - loss: 1.0043 - ac - ETA: 48s - loss: 0.9999 - accuracy: 0. - ETA: 48s - loss: 0.9991 - accur - ETA: 46s - loss: 1.0002 - accuracy: 0.65 - ETA: 46s - loss: 0.9999 - accuracy: 0.656 - ET - ETA: 34s - loss: 0.9937 - - ETA: 32s - loss: 0.9919 - accuracy: 0.658 - ETA: 32s - loss: 0.9922 - accuracy: 0.6 - ETA: 27s - loss: 0.9873 -  - ETA: 26s - loss: 0.9887 - accuracy:  - ETA: 25s - loss: 0.9883 - ac - ETA: 24s - loss: 0.9856 - accuracy: 0.6 - ETA: 23s - loss:  - ETA: 21s - l - ETA: 18s - loss: 0.9841 - accur - ETA: 17s - loss: 0.9849 - ETA: 15s - loss: 0.9837 - accurac - ETA: 14s - loss: 0.9832  - ETA: 12s - loss: 0.9819 - accuracy: - ETA: 12s - loss: 0.9816 - accurac - ETA: 11s - loss: 0.9829 - accuracy: 0.6 - ETA: 11s -  - ETA: 8s - loss: 0.9816 - accura - ETA: 8s - loss: 0.9811 - accuracy - ETA - ETA: 1s - loss: 0.9 - ETA: 0s - loss: 0.9717 - accuracy:  - ETA: 0s - loss: 0.9716 - accu\n",
      "Epoch 10/50\n"
     ]
    },
    {
     "name": "stdout",
     "output_type": "stream",
     "text": [
      "781/781 [==============================] - 83s 106ms/step - loss: 0.8340 - accuracy: 0.7134 - val_loss: 1.2406 - val_accuracy: 0.62164 - loss: - ETA: 1:12 - loss: 0.8069 - accuracy: 0.71 - ETA: 1:12 - loss: - ETA: 1:11 - loss: 0.8098 - accuracy:  - ETA: 1:11 - loss: 0.8014 - accuracy:  - ETA: 1:10 - loss: 0.8035 - accuracy - ETA: 1:10 - loss: 0.8100 - accura - ETA: 1:10 - loss: 0.8016 - accuracy: 0. - ETA: 1:09 - loss: 0.7973 - accura - ETA: 1:09 - loss: 0.8000 -  - ETA: 1:06 - loss: 0 - ETA: 1:05 - loss: 0.7885 - accura - ETA: 1:04 - - ETA: 1:00 - loss - ETA: 59s - loss: 0.7929 - accuracy: 0 - ETA: 58s - loss: 0.7912 - accuracy:  - ETA: 58s - loss: 0.7896 - accuracy: 0. - ETA: 57s - loss: 0.7929 -  - ETA: 56s - loss: 0.7970 - accuracy - ETA: 55s - loss: 0.7992 - accuracy: 0 - ETA: 54s - loss: - ETA: 52s - loss: 0.7995 - accuracy:  - ETA: 51s - loss: 0.8013 - accuracy: 0.72 - ETA: 51s - loss: 0 - ETA: 49s - loss: 0.8061 - a - ETA: 47s - loss:  - ETA: 45s - loss: 0.8053 - accuracy: 0 - ETA: 44s - loss: 0.8053 - accurac - ETA: 43s - loss: 0.8071 - accuracy: 0.719 - ETA: 43s - loss: 0.8064 - accuracy: 0. - ETA: 43s - loss: 0.8061 - acc - ETA: 42s - l - ETA: 39s - loss: 0.8113 - acc - ETA: 38s - loss: 0.8105 - accuracy: 0.7 - ETA: 37s - loss: 0.8114 - accuracy:  - ETA: 37s - loss: 0.8119 - accuracy: 0.7 - ETA: 36s - loss: 0.8112 - accuracy: 0. - ETA: 36s - loss: 0.8122 - accuracy: 0.71 - ETA: 36s - loss: 0.8120 - acc - ETA: 35s - loss: 0.8135 - accuracy: 0.71 -  - ETA: 30s - loss: 0.8146 - ETA: 28s - loss: 0.8174 - accura - ETA: 27s - loss: 0.8170 - accuracy: - ETA: 27s - loss:  - ETA: 24s - loss: 0.8178 - accuracy:  - ETA: 24s -  - ETA: 21s - loss: 0.8193 - accuracy: 0.718 - ETA: 21s - loss: 0.8 - ETA: 18s - loss: 0.8186 - accuracy: 0.71 - ETA: 18s - loss: 0.8191 - accurac - ETA: 17s - loss: 0.8196 - accuracy: 0.71 - ETA: 17s - loss: 0.8193 - accuracy: 0 - ETA: 17s - loss: 0.8191 - accuracy: 0.71 - ETA: 17s - loss: 0.8191 - acc - ETA: 15s - loss: 0.8194 - accuracy: 0.718 - ETA: 15s - loss: 0. - ETA: 13s - loss: 0.8197 - accuracy: 0.7 - ETA: 13s - loss: 0.8198 - accuracy: 0 - ETA: 12s - loss: 0.8191 - accura - ETA: 11s - loss: 0.8194 - accur - ETA: 10s - loss: 0.8213 - accuracy: - ETA: 9s - lo - ETA: 4s - loss: 0.8306 - ac - ETA: 3s - loss: 0 - ETA: 2s - loss: 0.8327 - accura - ETA: 1s - loss: 0.8332 - accu - ETA: 1s - loss:\n",
      "Epoch 11/50\n",
      "781/781 [==============================] - 83s 107ms/step - loss: 0.7820 - accuracy: 0.7302 - val_loss: 1.0030 - val_accuracy: 0.6715- E - ETA: 1:10 - loss: 0.814 - E - ETA: 1:07 - loss: 0.7850 - accuracy - E - ETA: 1:05 - loss: 0.7809  - ETA: 1:04 - ETA: 1:02 - ETA: 1:00 - loss: - ETA: 54s - loss: 0.7842 - accuracy: 0.7 - ETA: 54s - loss: 0.7834 - ac - ETA: 53s - loss: 0.7863 - accuracy: - ETA: 52s - loss: 0.7870 - accuracy - ETA: 51s - loss: 0.7869 - accuracy: 0 - ETA: 51s - loss: 0.7861 -  - ETA: 49s - loss: 0.7825 - accu - ETA: 48s - loss: 0.7808 - accuracy: 0.731 - ETA: 48s - loss: 0.7813 - accuracy: 0. - ETA: 48s - loss: 0.7802 - accurac - ETA: 47s - loss: 0.7826 - accuracy: 0.7 - ETA: 46s - loss: 0.7826 - accur - ETA: 45s - loss: 0.7812 - ac - - ETA: 40s - loss: 0.777 - ETA: 38s - loss: 0.7758 - accuracy: 0.73 - ETA: 38s - loss: 0.7759 - acc - ETA: 36s - loss: 0.7785 - accu - ETA: 35s - loss: 0.7782 - accuracy: 0.7 - ETA: 35s - loss: 0.7784 - accuracy: 0.73 - ETA: 35s  - ETA: 32s - loss: 0.7761 - accuracy: 0.73 - ETA: 31s - loss: 0.7762 - accu - ETA: 30s - loss: 0.7770 - accuracy: 0.73 - ETA: 30s - loss: 0.7771 - accuracy: - ETA: 29s - loss: 0.7787 - accuracy: 0 - ETA: 29s - loss: 0.7789 - accuracy: 0. - ETA: 28s - loss: 0.7790 - accuracy: 0. - ETA: 28s - loss: 0.7787 - accuracy: 0.73 - ETA: 28s - loss: 0.7793 - accuracy: 0.7 - ETA: 28s - loss: 0.7789 - accuracy: 0.73 - ETA: 27s - ETA: 24s -  - ETA: 21s - loss:  - ETA: 19s - loss: 0.7779 - accuracy:  - - ETA: 14s - loss: 0.7762 - accurac - ETA: 13s - l - ETA: 3s - loss: 0.7797 - accu - ETA: 3s - loss: 0 - E\n",
      "Epoch 12/50\n",
      "781/781 [==============================] - 84s 108ms/step - loss: 0.7376 - accuracy: 0.7489 - val_loss: 1.1315 - val_accuracy: 0.6335: 0.6810 -  - ETA: 1:08 - - ETA: 1:06 - loss: 0.7092 - accura - ETA: 1:06 - loss: 0.7099 - ac - ETA: 1:05 - l - ETA: 1:04 - loss: 0.7103 - accuracy: 0.75 - ETA: 1:04 - loss: 0.7084 - ac - ETA: 1:03 - loss: 0 - ETA: 1:02 - loss: 0.709 - ETA:  - ETA: 58s - loss: 0.7045 -  - ETA: 57s - loss: 0.7067 - accuracy: 0.7 - ETA: 56s - loss: 0.7064 - accuracy - ETA: 56s - loss: 0.7096 - accura - ETA: 55s - loss: 0.7114 - accu - ETA: 53s - loss: 0.7\n",
      "Epoch 13/50\n",
      "781/781 [==============================] - 84s 107ms/step - loss: 0.7282 - accuracy: 0.7494 - val_loss: 1.2910 - val_accuracy: 0.62531 - ETA: 1:00 - loss: 0.6582 - accuracy: 0.77 - ETA: 1:00 - loss: 0.6578 - accur - ETA: 54s - loss: 0.6503 - acc - ETA: 53s - loss: 0.6508 - accuracy: 0.77 - ETA: 52s - loss: 0.6505 - accuracy: 0.7 - ETA: 52s - loss: 0.6503 - accuracy: 0.77 - ETA: 52s - loss: 0.6492 - ETA: 50s - loss: 0.6507 - accura - ETA: 49s - loss: 0.6570 - ac - ETA: 48s - loss: 0.6743 - accuracy: 0. - ETA: 47s - loss: 0.6774 - accuracy - ETA: 46s - loss: 0.6 - ETA: 44s - loss: 0.6984 - accuracy: 0.760 - ETA: - ETA: 40s - loss: 0.7164 - ETA: 38s - loss: 0.7214 - accuracy: 0 - ETA: 38s - loss: 0.7224 - accuracy: 0. - ETA: 38s - loss: 0.7231 - accuracy: 0.752 - ETA: 37s - loss: 0.7233  - ETA: 36s - loss: 0.7213 - accuracy: - ETA: 35s - loss: 0.7209 - accuracy: 0. - ETA: 35s - loss: 0.7212 - accuracy - ETA: 34s - loss: 0.7209 - accuracy - ETA: 33s - loss: 0.7204 - accuracy: 0.753 - ETA: 33s - loss: 0.7212 - accuracy:  - ETA: 32s - - ETA: 29s - loss: 0.7192 - accur - ETA: 28s - loss: - ETA: 25s - loss: 0.7 - ETA: 23s - loss: 0. - ETA: 21s - loss: 0.7222 - accuracy: 0.7 - ETA: 21s - loss: 0.7225 - accuracy: 0 - ETA: 2 - ETA: 12s - loss: 0.7251 -  - ETA: 11s - loss: 0.7246 - accuracy: 0.751 - ETA: 11s - loss: 0.72 - ETA: 7s - loss: 0.7225 - accuracy:  - ETA: 6s - l - - ETA: 3s - loss: 0.7250 - accura - ETA: 2s - loss: 0.7252 - ac - ETA: 2s - loss: 0.7255 - accuracy: 0. - ETA: 2s - loss: 0.7259 - accuracy: 0.75 - ETA: 1s - loss: 0.7257 - accuracy: 0.75 - ETA: 1s - ETA: 0s - loss: 0.7278 - accuracy: 0.\n",
      "Epoch 14/50\n",
      "780/781 [============================>.] - ETA: 0s - loss: 0.7421 - accuracy: 0.7489   ETA: 1:14 - loss: 0.8201 - accuracy:  - ETA: 1:14 - loss: 0.7937 -  - ETA: 1:14 - loss: 0.7 - ETA: 1: - ETA: 1:11 - - ETA: 1:07 - loss: 0.9494 - accu - ETA: 1: - ETA: 1:00 - loss: 0.8842 - accuracy - ETA: 1:00 - loss: 0.8821 - accurac - ETA: 59s - loss: 0.8813 - accuracy: 0.7 - ETA: 59s - loss: 0.8810 - accuracy:  - ETA: 58s - loss: 0.8745 - accura - ETA: 57s - loss: 0.8687 -  - ETA: 56s - loss: 0.8613 - accuracy - ETA: 51s - loss - ETA: 48s - loss: 0.8328 - accuracy: 0.72 - ETA: 48s - loss: 0.8334 - ac - ETA: 46s - loss: 0.8319 - accuracy: 0. - ETA: 46s - loss: 0.8315 - accurac - ETA: 45s - loss: 0.8281 - accuracy: 0.7 - ETA: 45s - loss: 0.8277 - accuracy:  - ETA: 44s - loss: 0.8263 - accuracy: 0.7 - ETA: 44s - loss: 0.8276 - accuracy: 0. - ETA: 44s - loss: 0.8284 - accuracy: 0. - ETA: 43s - loss: 0.8258 -  - ETA: 42s - loss: 0.8186 - accuracy:  - ETA: 41 - ETA: 38s - loss: 0.8050 - accuracy: 0. - ETA: 37s - loss - ETA: 35s - loss: 0.7932 - - ETA: 33s - loss: 0.7908 - accuracy:  - ETA: 32s - lo - ETA: 29s - loss: 0.7836 - accuracy: 0 - ETA: 29s - loss: 0.7836 - accuracy: 0.73 - ETA: 29s - loss: 0.7830 - accurac - ETA: 28s - loss: 0.7808 - accuracy: 0. - ETA: 23s - loss: 0.7716 - ETA: 21s - loss: 0.7675 - accuracy: 0.742 - ETA: 21s - loss: 0.7673 - accuracy:  - ETA: 20s - loss: 0.7664 - acc - ETA: 19s - loss: 0.7651 - accuracy: - ETA: 18s - - ETA: 15s - loss: 0.7597 - accuracy: - ETA: 15s - loss: 0.7593 - accuracy: - ETA: 14s - loss:  - ETA: 12s - loss - ETA: 9s - loss: 0.7532 - accuracy: 0. - ETA: 9s - loss: 0.753 - ETA: 8s - loss: 0.7520 - accura - ETA: 7s - loss: 0.7506 - accuracy - ETA: 7s - loss: 0.7506 - accuracy: 0.74 - ETA: 7s - loss: 0.750 -\n",
      "Epoch 00014: ReduceLROnPlateau reducing learning rate to 0.00010000000474974513.\n",
      "781/781 [==============================] - 84s 107ms/step - loss: 0.7420 - accuracy: 0.7489 - val_loss: 1.0406 - val_accuracy: 0.6640\n",
      "Epoch 15/50\n",
      "781/781 [==============================] - 85s 109ms/step - loss: 0.4925 - accuracy: 0.8293 - val_loss: 0.8133 - val_accuracy: 0.7317ss: 0.6684 - accuracy: 0. - ETA:  - ETA: 1:13 - loss: 0.5713 - accuracy - ETA: 1:13 - loss: 0.5690 - accuracy - ETA: 1:13 - loss: 0.5 - ETA: 1:12 - - ETA: 1:10 - loss: 0 - ETA: 1:09 - loss: 0.5472 - ac - ETA: 1:06 - los - ETA: 1:02 - l - ETA: 1:0 - ETA: 58s - loss: 0.5273 - accuracy: 0 - ETA: 58s - loss: 0.5287 - accuracy: 0. - ETA: 57s - loss: 0.5282 - accuracy: 0.82 - ETA: 57s - loss: 0.5274 - accuracy: 0. - ETA: 5 - ETA: 53s - l - ETA: 50s - loss: 0.5125 - accuracy: - ETA: 49s - loss: 0.5133 - accuracy: - ETA: 49s - loss: 0.5128 - ac - ETA: 47s - loss:  - ETA: 45s - loss: 0.5115 - accuracy: 0.823 - ETA: 45s - loss - ETA: 42s - loss: 0.5068 - accuracy:  - ETA: 42s - - ETA: 38s - loss: 0.5052 - accuracy: 0 - ETA: 38s - loss: - ETA: 35s - loss: 0.5 - ETA: 33s - loss: 0.5030 - accurac - ETA: 32s - loss: 0.5015 - - ETA: 30s - loss: 0.4994 - accuracy: - ETA: 30s - los - ETA: 27s - loss: 0.4996 - accur - ETA: 26s - loss: 0.4998 - accuracy: 0 - ETA: 25s - loss: 0.4998 - accuracy: 0 - ETA: 25s - loss: 0. - ETA: 23s - loss: 0.4981 -  - ETA: 21s - loss: 0.4980 - accuracy: 0.82 - ETA: 21s - loss: 0.4981 - accuracy: 0.8 - ETA: 20s - loss: 0.4977 - accurac - ETA: 20s - loss: 0.4987 - acc - ETA: 18s - loss: 0.4981 - accuracy: 0.827 - ETA: 18s - loss: 0.4982 - accuracy: 0.8 - ETA: 18s - - ETA: 15s - loss: 0.4959 - accuracy: 0 - ETA: 14s - - ETA: 8s - loss: 0.4930 -  - ETA: 7s - loss: 0.4928 - accuracy:  - ETA: 7s - loss: 0.4928 - \n",
      "Epoch 16/50\n",
      "781/781 [==============================] - 83s 107ms/step - loss: 0.4284 - accuracy: 0.8527 - val_loss: 0.8308 - val_accuracy: 0.7328- ETA: 1:04 - loss: 0.4443 - accuracy: 0. - ETA: 1:03 - loss: 0.4439 - accura - ETA: 1:01 - loss: 0.4376 - accu - ETA: 1:00 - loss: 0.4338 - accura - ETA: 1:00 - loss: 0.4335 - accurac - ETA: 59s - loss: 0.4322 - a - ETA: 57s - loss: 0.4315 -  - ETA: 56s - loss: - ETA: 53s - loss: 0.4289 - accu - ETA: 52s - loss: 0.4275 - accuracy: 0.8 - ETA: 52s - loss: 0.4280 - accuracy: 0 - ETA: 51s - loss: 0.4295 -  - ETA: 49s - loss: 0.4300 - accuracy:  - ETA: 49s - loss: 0.4304 - accuracy: 0.85 - ETA: 49s - loss: 0.4 - ETA: 46s - loss: 0.4283 - accuracy: - ETA: 46s - loss: 0.4290 - accuracy: 0. - ETA: 45s - loss: 0.4286 - accura - ETA: 44s - loss: 0.4290 - accuracy: 0.85 - ETA: 44s - loss: 0.4290 - accuracy: 0.852 - ETA: 44s - loss: 0.4298 - accur - ETA: 43s - loss: 0.4307 - accuracy: 0.851 - ETA:  - ETA: 39s - loss: 0.4306 - accuracy: 0.851 - ETA: 39s - l - E - ETA: 28s - loss: 0.4316 - accuracy: 0 - ETA: 27s - loss: 0.4312 - accuracy:  - ETA: 27s -  - ETA: 24s - loss: 0.4310 - accuracy: 0. - - ETA: 19s - loss: 0.4316 - a - ETA: 18s - loss: 0.431 - ETA: 16s - loss: 0.4311 - accuracy: 0.8 - ETA: 15s - loss: 0.4315 - a - ETA: 14s - loss: 0.4308 - ETA: 12s - loss: 0.4292 - accuracy: 0. - ETA: 12s - loss: 0.4294 - accuracy:  - ETA: 11s - loss: 0.4292 - accuracy: 0.8 - ETA: 11s - loss: 0.4288 - accuracy: 0.8 - ETA: 10s - loss: 0.4293 - accuracy: 0. - ETA: 10s - loss: 0.4294 - accuracy:  -  - ETA: 7s - loss: 0.4297 - accuracy: 0.85 - ETA: 7s - - ETA: 6s - loss: 0.4299 - accu - ETA: 3s - loss: 0.4293 - accuracy: 0. - ETA:  - ETA: 1s - loss: 0.4289 - accuracy: 0.85 - ETA: 1s - l\n",
      "Epoch 17/50\n",
      "781/781 [==============================] - 83s 107ms/step - loss: 0.3793 - accuracy: 0.8690 - val_loss: 0.8657 - val_accuracy: 0.7294:15 - loss: 0.3880 - accuracy:  - ETA: 1:14 - loss: 0.3796 - accura - E - ETA: 59s - loss: 0.3821 -  - ETA: 58s - loss: 0.379 - ETA: 56s - loss: 0.3830 -  - ETA: 54s - loss: 0.3812 - acc - ETA: 53s - loss: 0.3834 - accurac - ETA: 52s - loss: 0.3826 - accuracy:  - ETA: 51s - loss: 0.3834 - accuracy: 0.866 - ETA: 51s - loss: - ETA: 44s - loss: 0.3816 - accuracy: 0 - ETA: 44s - loss: 0.381 - ETA: 42s - loss: 0.3789 - accurac - ETA: 32s - loss: 0.3781 -  - ETA: 30s - loss: 0.3779 - accuracy - ETA: 30s - l - ETA: 27s - loss: 0.3780 - accuracy: - ETA: 26s - loss: 0.3777 - accuracy: 0.86 - ETA: 26s - loss: 0.3776 - accuracy: 0.8 - ETA: 25s - loss: 0.3771 - accu - ETA: 24s - loss: 0.3776 - accuracy: 0. - ETA: 24s - loss: 0.3774 - acc - ETA: 23s - loss: 0.3765 - accuracy: 0.8 - ETA:  - ETA: 19s - loss: 0.3781 - ETA: 17s - loss: 0.3775 - accura - ETA: 16s - loss: 0.3778 - accu - ETA: 15s - loss: 0.3773 - ETA: 13s - loss: 0.3777 - - ETA: 11s - loss: 0.3787 - accuracy: 0.86 - ETA: 11s - loss: 0.3787 - accuracy - ETA:  - ETA: 4s - loss: 0.3780 - accu - ETA: 3s - loss: 0 - ETA: 2s - loss: 0.3782 - accuracy: 0.\n",
      "Epoch 18/50\n",
      "780/781 [============================>.] - ETA: 0s - loss: 0.3458 - accuracy: 0.8806   ETA: 1:14 - l - ETA: 1:13 - l -  - ETA: 57s - loss: 0.3374 - accura - ETA: 56s - loss: 0.3348 - accuracy: 0.88 - ETA: 55s - loss: 0.3360 - acc - ETA: 54s - loss: 0.3341 - accur - ETA: 53s - loss: 0.3322 - accuracy: 0. - ETA: 53s - loss: 0.3331 - accuracy: 0 - ETA:  - ETA: 40s - loss: - ETA: 38s - loss: 0.3396 - accuracy: 0.8 - ETA: 37s - loss: 0.3395 - accuracy:  - ETA: 37s - loss: 0.3412 - accuracy: 0. - ETA: 36s - loss: 0.341 - ETA: 34s - lo - ETA: 27s - loss: 0.3445 - accuracy - ETA: 26s - loss: 0. - ETA: 24s - ETA: 21s - loss: 0.3443 - acc - ETA: 20s - loss: 0.3439 - accuracy: 0. - ETA: 19s - loss: 0.3437 - accuracy: 0. - ETA: 19s - loss: 0.3430 - accuracy: 0.881 - ETA: 19s - loss: 0.3429 - accuracy: 0 - ETA: 18s - loss: 0.3430 - accur - ETA: 17s - loss: 0.3422 - accurac - ETA: 16s - loss - ETA: 7s - loss: 0.3448 - accuracy:  - - ETA: 3s - loss: 0.3\n",
      "Epoch 00018: ReduceLROnPlateau reducing learning rate to 1.0000000474974514e-05.\n",
      "781/781 [==============================] - 83s 106ms/step - loss: 0.3458 - accuracy: 0.8806 - val_loss: 0.8901 - val_accuracy: 0.7311\n",
      "Epoch 19/50\n",
      "781/781 [==============================] - 83s 106ms/step - loss: 0.2957 - accuracy: 0.8981 - val_loss: 0.9057 - val_accuracy: 0.73193032 - accuracy: 0. - ETA: 1:09 - loss: 0.3040 - ac - ETA: 1:08 - loss: 0.3029 - accuracy: 0. - ETA: 1:08 - loss: 0.306 - ETA: 1:07 - loss: 0.2996 - accuracy:  - ETA: 1:06 - loss: 0.3002 - accuracy: 0.89 - ETA: 1:06 - l - ETA: 1:05 - loss: 0.2998 - accu - ETA: 1:05 - loss: 0 - ETA: 58s - loss: 0.2965 - accu - ETA: 57s - loss: 0.2947 -  - E - ETA: 51s - loss: 0.3014 - a - ETA: 50s - loss: 0.3023 - ETA: 48s - loss: 0.3046 - accuracy: 0. - ETA: 48s - loss: 0.3062 - accuracy: - ETA: 47s - loss: 0.3057 -  - ETA: 45s - loss: 0.3040 - accuracy: 0.89 - ETA: 45s - loss: 0.3041 - accuracy: 0.89 - ETA: 45s - loss: 0.304 - ETA: 43s - loss: 0.3040 - accurac - ETA: 42s - loss: 0.3045 - accuracy: 0.8 - ETA: 42s - loss: 0.3044 - accu - ETA: 41s - loss: 0.3025 - accur - ETA: 40s - loss: 0.3028 - accuracy: 0.895 - ETA: 40s - lo - ETA: 28s - los - ETA: 25s - loss: - ETA: 23s - loss: 0.3006 - accur - ETA: 22s - loss: 0.3012 - accuracy:  - ETA: 21s - loss: 0.3006 - a - ETA: 20s - loss: 0.30 - ETA: 18s - loss: 0.3000 - accuracy: 0.89 - ETA: 17s - loss: 0.2998 - accuracy: 0. - ETA: 17s - loss: 0.2994 - a - ETA: 11s - loss: 0.2972 - accuracy: 0 - ETA: 11s - loss: 0.2970 - accuracy:  - ETA: 10s - loss: 0.2968 - accuracy: 0.898 - ETA: 10s - loss: 0.2968 - accuracy:  - ETA: 9s - loss: 0.2968 - accuracy: - ETA: 9s - loss: - ETA: 8s - loss: 0.2966 - accuracy: 0.89 - ETA: 8s - loss: 0.296 - ETA: 7s - loss: 0.2964 - ac - ETA: 6s - loss: 0.2960 - accuracy: 0. - ETA: 6s - los - ETA:  - ETA: 1s - loss: 0.2961 - accuracy: 0.89 - ETA: 0s - loss: 0.296\n",
      "Epoch 20/50\n"
     ]
    },
    {
     "name": "stdout",
     "output_type": "stream",
     "text": [
      "781/781 [==============================] - 83s 106ms/step - loss: 0.2866 - accuracy: 0.9020 - val_loss: 0.9212 - val_accuracy: 0.7317ss: 0.2 - ETA: 1:14 - loss: 0.2888 - accuracy:  - ETA:  - - ETA: 1:02 - loss: 0.2939 - ac - ETA: 1:02 - loss: 0.2940 - accuracy: 0. - ETA: 1:01 - loss: 0.2939 - accuracy - ETA: 1:01 - loss: 0.2956 - accuracy: 0. - ETA: 1:01 - loss: 0.2954 - accuracy:  - ETA: 1:00 - loss: 0.2952 -  - ETA: 1:00 - loss: 0.2951 - accuracy: - ETA: 59s - loss: 0.2939 - accura - ETA: 58s - loss: 0.2949 - accuracy: 0.900 - ETA: 58s - loss: 0.2945 - accuracy: 0.9 - ETA: 58s - los - ETA: 55s - loss - ETA: 52s - loss: 0 - ETA: 46s - loss: 0.2939 - accuracy: 0.90 - ETA: 46s - loss: 0.2952 - a - ETA: 44s - loss: 0.2958 - accuracy: 0.89 - ETA: 44s - loss: 0.2948 - accura - ETA: 43s - loss: 0.2940 - accuracy: 0.9 - ETA: 43s - loss: 0.2931 - accuracy: 0. - ETA: 42s - loss - ETA: 35s - loss: 0.2932 - ETA: 33s - loss: 0.2921 - ac - ETA: 32s - loss: 0.29 - ETA: 30s - loss: 0.290 - ETA: 28s - loss: 0.2916 - accuracy: 0.9 - ETA: 28s - loss: 0.2917 - accuracy:  - ETA: 27s - loss: 0.2915 - accuracy: 0.9 - ETA: 23s - loss: 0.2902 - accuracy:  - ETA: 22s - loss: 0.2901 - - ETA: 20s - loss: 0.2 - ETA: 14s - loss: 0.2877 - acc - ETA: 13s - loss: 0.2872 - accuracy - ETA: 12s - loss: 0.2869 -  - ETA: 10s - loss: 0.2870 - a - ETA: 0s - loss: 0.2861 - accuracy - ETA: 0s - loss: 0.2862 - accu\n",
      "Epoch 21/50\n",
      "780/781 [============================>.] - ETA: 0s - loss: 0.2799 - accuracy: 0.9051   ETA: 1:14 - loss: 0.2 - ETA: 1:01 - loss: 0.2769 - accura - ETA: 1:01 - los - ETA: 59s - loss: 0.2775 - accuracy:  - ETA: 59s - loss: 0.2763 - accuracy: - ETA: 58s - loss: 0.2774 - a - ETA: 56s - loss: 0.2753 - accurac - ETA: 55s - loss: 0.2751 - accuracy: 0.906 - ETA: 55s - loss: 0.2753 - accuracy: 0.9 - ETA: 55s - loss: 0.2753 - accuracy:  - ETA: 55s - loss: 0.2769 - accuracy: 0 - ETA: 54s - loss: 0.2773 - accu -  - ETA: 49s - loss: 0.2761 - accu - ETA: 48s - loss: 0.2764 - accuracy - ETA: 47s - loss: 0.2761 - accurac - ETA: 46s - loss: 0.2762 - accura - ETA: 45s - loss: 0.2764 - accuracy: 0.90 - ETA: 45s - loss: - ETA: 42s - loss: 0.2772 - acc - ETA: 41s - loss: 0.2777 - ac - ETA: 39s - loss: 0.2791 - accuracy: 0. - ETA: 39s - loss: 0.2791 - accuracy: 0.90 - ETA: 39s - loss: 0.2791 - accu - ETA: 38s - loss: 0.2785 - accura - ETA: 37s - loss: 0. - ETA: 34s - loss: 0.2781 - accuracy: - ETA: 34s - loss: 0.2 - ETA: 27s - loss - ETA: 25s - loss: 0.2791 - accuracy: 0 - ETA: 24s - loss: 0.2787 - ac - ETA: 23s - loss: 0.2801 - accurac - ETA: 22s - loss: 0.2805 - ac - ETA: 21s - loss: 0.2797 - accuracy: 0 - ETA - ETA: 16s - loss: 0.2800 - accur - ETA: 15s - loss: 0.2802 - accura - ETA: 14s - loss: 0.2803 - ac - ETA: 13s - loss: 0.2806 - accuracy: 0.9 - ETA: 13s - loss: 0.2805 - accuracy: 0 - ETA: 12s - loss: 0.2806 - accuracy - ETA: 11s - loss: 0.2809 - accuracy: 0. - ETA: 11s - loss: 0.2809 - accuracy: 0.9 - ETA: 11s - loss: 0.2805 - accuracy: 0 - ETA: 10s - loss: 0.2801 - accuracy: 0. - ETA: 10s - loss: 0.2803 - - ETA: 7s - loss: 0.2799 - accura - ETA: 6s - loss: 0.2798 - ac - ETA: 5s - loss: 0.2795 - accuracy:  - ETA: 5s - loss: 0.2793 - accuracy: 0.90 - ETA: 5s - loss: 0.2792 - accura - ETA: 5s - los - ETA: 3s - - ETA: 2s - loss: 0.2805 - accuracy:  - ETA: 1s - loss: - ETA: 0s - loss: 0.2801 - accura\n",
      "Epoch 00021: ReduceLROnPlateau reducing learning rate to 1.0000000656873453e-06.\n",
      "781/781 [==============================] - 83s 106ms/step - loss: 0.2800 - accuracy: 0.9051 - val_loss: 0.9365 - val_accuracy: 0.7314\n",
      "Epoch 22/50\n",
      "781/781 [==============================] - 85s 109ms/step - loss: 0.2763 - accuracy: 0.9053 - val_loss: 0.9396 - val_accuracy: 0.7317ss: 0.2 - ETA: 1:06 - loss: 0.2804 - accuracy:  - ETA: 1:06 - loss: 0.2794 - accuracy: 0. - ETA: 1:05 - loss: 0.2772 -  - ETA: 1:00 - loss: 0.2778 - accura - ETA: 1:00 - loss: 0.2764 - a - ETA: 58s - loss: 0.2786 - accuracy: - ETA: 57s - loss: 0.2783 - accuracy: 0. - ETA: 57s - - ETA: 54s - loss: 0.2763 - accuracy: 0.9 - ETA: 54s - loss: 0.2766 - accuracy: - ETA: 53s - loss: 0.2790 -  - ETA: 51s - loss: 0.2788 - accur - ETA: 50s - loss: 0.2784 - a - ETA: 49s - loss: - ETA: 46s - loss: 0.2775 - accuracy: 0. - ETA: 46s - loss: 0.2770 - - ETA: 44s - loss: 0.2763 - accur - ETA: 43s - loss: 0.2755 - accuracy: 0.9 - ETA: 43s - loss: 0.2748 - a - ETA: 41s - loss: 0.2745 - acc - ETA: 40s - loss: 0.2746 - acc - ETA: 38s - loss: 0.2758 - accuracy - ETA: 38s - los - ETA: 35s - loss: 0.2754 - accuracy: 0.90 - ETA: 35s - loss: 0.2752 - accu - ETA: 33s - loss: 0.2763 - accuracy: 0 - ETA: 33s - loss: 0.2764 - accuracy: 0. - ETA: 33s - loss: 0.2765 - accuracy: - ETA: 32s - loss: 0.2766 - accuracy: 0.904 - ETA: 32s - loss: - ETA: 29s - loss: 0.2776 - a - ETA: 28s - loss: 0.2772 - acc - ETA: 26s - loss: 0.2767 - accura - ETA: 25s - loss: 0.276 - ETA: 23s - loss: 0.2758 - accurac - ETA: 22s - loss: 0.2761 - ETA: - ETA: 12s - loss: 0.277 - ET - ETA: 3s - loss: 0.2765 - accuracy - ETA: 3s - loss: - ETA: 2s - loss: 0 - ETA: 0s - loss: 0.2764 - ac - ETA: 0s - loss: 0.2761 - accuracy: \n",
      "Epoch 23/50\n",
      "781/781 [==============================] - 83s 106ms/step - loss: 0.2761 - accuracy: 0.9063 - val_loss: 0.9418 - val_accuracy: 0.7307ccu - ETA: 1:01 - loss: 0.2671 - accuracy: 0. - ETA: 1:01 - loss: 0.2672 - accuracy:  - ETA: 1:01 - loss: 0.2669  - ETA: 1:00 - loss: 0.267 - ETA: 58s - loss: 0.26 - ETA: 56s - loss: 0.2688 - accuracy: 0.908 - ETA: 56s - loss: 0.2694 - ac - ETA: 55s - loss: 0.2693 - accuracy: 0 - ETA: 54s - lo - ETA: 52s - loss: 0.2705 - accuracy: 0.90 - ETA: 51s - loss: 0.2717 - accura - ETA: 50s - loss: 0.2737 - accuracy: 0.9 - ETA: 50s - loss: 0.2739 - accuracy:  - ETA: 50s - loss: 0.2733 - accuracy: 0.90 - ETA: 49s - loss: 0.2730 - accu - ETA: 48s - loss: 0.2731 - accura - ETA: 47s - loss: 0.2743 - accuracy: 0.9 - ETA: 47s - loss: 0.2747 - accura - ETA: 46s - loss: 0.2747 - ac - ETA: 45s - loss: 0.2775 - acc - ETA: 43s - loss: 0.2767 - accuracy: 0.9 - ETA - ETA: 39s - lo - ETA: 36s - loss: 0.2747 -  - ETA: 35s - loss: 0.2744 - a - ETA: 33s - loss: 0.2731 - accurac - ETA: 33s - loss: 0.2725 - accuracy - ETA: 32s - loss: 0.2731 - accuracy:  - ETA: 31s - loss: 0.2726 - accuracy: 0.907 - ETA: 31s - loss: 0.2726 - accuracy: 0.90 - ETA: 31s - loss: 0.27 - ETA: 29s - loss: 0.2732 - accuracy: 0.90 - ETA: 29s - loss: 0.2734 - accuracy: 0.9 - ETA: 28s - loss: 0.2740 - accuracy: 0 - ETA: 28s - loss: 0.2741 - accurac - ETA: 27s - loss: 0.2741 - accuracy: 0.90 - ETA: 27s - loss: 0.2749 - accura - ETA: 26s - loss: 0.2751 - accurac - ETA: 25 - ETA: 22s - loss: 0.2743 - accuracy - ETA: 21s - loss: 0. - ETA: 19s - loss: 0. - ETA: 16s - loss: 0.2750 - accuracy: 0. - ETA: 16s - loss: 0.2752 - ETA: 14s - loss: 0.2763 - accuracy: 0 - ETA: 14s - loss: 0.2767 - accuracy: - ETA: 13s - loss: 0.276 - ETA: 11s - loss: 0.2755 - accuracy: 0.906 - ETA: 11s - loss: 0.2756 - accuracy: 0.906 - ETA: 11s - loss: 0.2754 - accu - ETA: 10s - loss: 0. - ETA: 8s - loss: 0.2766 - accura - ETA: 8s - loss: 0.276 - ETA: 5s - loss: 0.2762 - accuracy: 0.90 - ETA: 5s - loss: 0.2761  - ETA: 4s - loss: 0.2761 - accu - ETA: 3s - - ETA: 2s - loss: 0.2763 - accuracy: 0. - ETA: 2s - loss: 0.2763 - accura - ETA: 1s - loss: 0.2760 - accuracy: 0. - ETA: 1s - los\n",
      "Epoch 24/50\n",
      "780/781 [============================>.] - ETA: 0s - loss: 0.2731 - accuracy: 0.9074   ETA: 1:09 - loss: 0.2786 - accu - ETA: 1:09 - loss: 0.2801 - accuracy - ETA: 1:08 - loss: 0.2782 - accu - ETA:  - ETA: 1:06 - loss: 0.2751 - accuracy: 0. - ETA: 1:06 - loss: 0.2 - ETA: 1: - ETA: 1:03 - loss: 0.2740 - accuracy: 0. - ETA: 1:03 - loss: 0.2741 - accuracy:  - ETA: 1:03 - loss: 0.2742 - accuracy - ETA: 1:02 - loss: 0.2748 - accuracy: 0.90 - ETA: 1:02 - loss: 0.2737  - ETA: 59s - loss: 0.2734  - ETA: 57s - loss: 0.2735 - accuracy: 0.906 - ETA: 57s - loss: 0.2728 - accuracy: - ETA: 56s - loss: 0.2722 - accur - ETA: 55s - loss: 0.2713 - accuracy: 0 - ETA: 55s - loss:  - ETA: 52s - - ETA: 45s - loss: 0.2701 -  - ETA: 43s - los - ETA: 41s - loss: 0.2723 - accuracy: 0.90 - ETA: 41s - lo - ETA: 33s - loss: 0.2729 - acc - ETA: 32s - loss: 0.2732 - acc - ETA: 31s - loss:  - ETA: 28s - loss: 0.2729 - accuracy: 0 - ETA: 28s - loss: 0.2728 - accuracy: 0.9 - ETA: 28s - loss\n",
      "Epoch 00024: ReduceLROnPlateau reducing learning rate to 1.0000001111620805e-07.\n",
      "781/781 [==============================] - 84s 108ms/step - loss: 0.2730 - accuracy: 0.9074 - val_loss: 0.9429 - val_accuracy: 0.7303\n",
      "Epoch 25/50\n",
      "781/781 [==============================] - 84s 108ms/step - loss: 0.2767 - accuracy: 0.9033 - val_loss: 0.9438 - val_accuracy: 0.7301 accuracy: 0.90 - ETA: 51s - loss: 0.2764 - accuracy - ETA: 50s - loss: 0.2750 - accuracy: 0.906 - ETA: 50s - loss - ETA: 39s - loss: 0.2734 - accuracy: 0.905 - ETA: 3 - ETA: 35s - loss: 0.2716 - accuracy: 0.90 - ETA: 35s - loss: 0.2722 - accurac - ETA: 4s - loss: 0.2767 - accuracy:  - ETA: \n",
      "Epoch 00025: early stopping\n"
     ]
    }
   ],
   "source": [
    "history = teacher_model.fit_generator(train_gen,\n",
    "                                      initial_epoch=0,\n",
    "                                      epochs=50,\n",
    "                                      steps_per_epoch = steps_per_epoch,\n",
    "                          validation_data = val_gen, validation_steps = validation_steps,\n",
    "                          callbacks=[checkpoint, reduce_lr, early_stopping])\n",
    "\n"
   ]
  },
  {
   "cell_type": "code",
   "execution_count": null,
   "metadata": {},
   "outputs": [],
   "source": [
    "teacher_model.save('teacher_model_624.h5')\n",
    "\n",
    "history.history.keys()\n",
    "teacher = pd.DataFrame(history.history, index=range(1,len(history.history['loss'])+1))\n",
    "teacher.to_csv('E:/NCHU_PHD/10902sml/report2/final_624/teacher.CSV')"
   ]
  },
  {
   "cell_type": "code",
   "execution_count": 14,
   "metadata": {},
   "outputs": [
    {
     "data": {
      "text/plain": [
       "<matplotlib.legend.Legend at 0x1b8368fc908>"
      ]
     },
     "execution_count": 14,
     "metadata": {},
     "output_type": "execute_result"
    },
    {
     "data": {
      "image/png": "[encoded data removed]",
      "text/plain": [
       "<Figure size 432x288 with 1 Axes>"
      ]
     },
     "metadata": {
      "needs_background": "light"
     },
     "output_type": "display_data"
    }
   ],
   "source": [
    "from matplotlib import pyplot as plt\n",
    "plt.plot(teacher['loss'], marker='o', label='training_loss')\n",
    "plt.plot(teacher['val_loss'], marker='d', label='validation_loss')\n",
    "plt.ylabel('Loss', fontsize=12)\n",
    "plt.xlabel('Training Epochs-Mobilenet_alpha=0.75', fontsize=12)\n",
    "plt.grid()\n",
    "plt.legend()"
   ]
  },
  {
   "cell_type": "code",
   "execution_count": 15,
   "metadata": {},
   "outputs": [
    {
     "data": {
      "text/plain": [
       "<matplotlib.legend.Legend at 0x1b84e07af88>"
      ]
     },
     "execution_count": 15,
     "metadata": {},
     "output_type": "execute_result"
    },
    {
     "data": {
      "image/png": "[encoded data removed]",
      "text/plain": [
       "<Figure size 432x288 with 1 Axes>"
      ]
     },
     "metadata": {
      "needs_background": "light"
     },
     "output_type": "display_data"
    }
   ],
   "source": [
    "plt.plot(teacher['accuracy'], marker='o', label='training_accuracy')\n",
    "plt.plot(teacher['val_accuracy'], marker='d', label='validation_accuracy')\n",
    "plt.ylabel('Accuracy', fontsize=12)\n",
    "plt.xlabel('Training Epochs-Mobilenet_alpha=0.75', fontsize=12)\n",
    "plt.grid()\n",
    "plt.legend()"
   ]
  },
  {
   "cell_type": "markdown",
   "metadata": {},
   "source": [
    "### unlabel data讀取,標籤,篩選"
   ]
  },
  {
   "cell_type": "code",
   "execution_count": 16,
   "metadata": {},
   "outputs": [],
   "source": [
    "img_path = r\"E:\\NCHU_PHD\\10902sml\\data_set\\add\"\n",
    "img_list = os.listdir(img_path)\n",
    "\n",
    "x_train_imgnet = []\n",
    "\n",
    "for i in img_list:\n",
    "    abs_path = os.path.join(img_path, i)\n",
    "    temp = load_img(abs_path)\n",
    "    temp = img_to_array(temp)\n",
    "    x_train_imgnet.append(temp)\n",
    "\n",
    "x_train_imgnet = np.array(x_train_imgnet)\n",
    "\n",
    "batch_size = 40\n",
    "step = int(x_train_imgnet.shape[0] / batch_size)\n",
    "print(step)\n",
    "\n",
    "y_train_imgnet_dummy = []\n",
    "\n",
    "for i in range(step):\n",
    "    x_temp = x_train_imgnet[batch_size*i:batch_size*(i+1)]\n",
    "    x_temp = x_temp / 255.\n",
    "    temp = teacher_model.predict(x_temp)\n",
    "    y_train_imgnet_dummy.extend(temp)\n",
    "\n",
    "y_train_imgnet_dummy = np.array(y_train_imgnet_dummy)\n",
    "\n",
    "#np.save('y_train_imgnet_dummy',y_train_imgnet_dummy)\n",
    "\n",
    "\n",
    "threhold = 0.3\n",
    "y_train_imgnet_dummy_th =  y_train_imgnet_dummy[np.max(y_train_imgnet_dummy, axis=1) > threhold]\n",
    "x_train_imgnet_th = x_train_imgnet[np.max(y_train_imgnet_dummy, axis=1) > threhold]\n",
    "\n",
    "### 挑出confindence score > 0.3的圖片總共有  18354 張\n",
    "\n",
    "### 將label data 與unlabel data合併\n",
    "\n",
    "####用list包\n",
    "\n",
    "temp_l_tile.shape\n",
    "\n",
    "y_student_all_dummy_label = np.argmax(y_train_imgnet_dummy_th, axis=1)\n",
    "\n",
    "u, counts = np.unique(y_student_all_dummy_label, return_counts=True)\n",
    "print(u, counts)\n",
    "\n",
    "student_label_max =  max(counts)\n",
    "\n",
    "y_student_per_label = []\n",
    "y_student_per_img_path = []\n",
    "\n",
    "for i in range(10):\n",
    "    temp_l = y_train_imgnet_dummy_th[y_student_all_dummy_label == i]\n",
    "    print(i, \":\", temp_l.shape)\n",
    "    y_student_per_label.append(temp_l)\n",
    "    temp_i = x_train_imgnet_th[y_student_all_dummy_label == i]\n",
    "    print(i, \":\", temp_i.shape)\n",
    "    y_student_per_img_path.append(temp_i)\n",
    "\n",
    "y_student_per_label_add = []\n",
    "y_student_per_img_add = []\n",
    "\n",
    "for i in range(10):\n",
    "    num = y_student_per_label[i].shape[0]\n",
    "    temp_l = y_student_per_label[i]\n",
    "    temp_i = y_student_per_img_path[i]\n",
    "    add_num = student_label_max - num\n",
    "    q, mod = divmod(add_num, num)\n",
    "    print(q, mod)\n",
    "    temp_l_tile = np.tile(temp_l, (q+1, 1))\n",
    "    temp_i_tile = np.tile(temp_i, (q+1, 1, 1, 1))\n",
    "    temp_l_add = temp_l[:mod]\n",
    "    temp_i_add = temp_i[:mod]\n",
    "    temp_l_new = np.concatenate([temp_l_tile, temp_l_add], axis=0)\n",
    "\n",
    "    temp_i_new = np.concatenate([temp_i_tile, temp_i_add], axis=0)\n",
    "\n",
    "    p = (-temp_l_new[:,0]).argsort()\n",
    "    temp_l_new = temp_l_new[p]\n",
    "    temp_i_new= temp_i_new[p]\n",
    "    y_student_per_label_add.append(temp_l_new[:7000])\n",
    "    y_student_per_img_add.append(temp_i_new[:7000])\n",
    "\n",
    "print([len(i) for i in y_student_per_label_add])\n",
    "\n",
    "student_train_img = np.concatenate(y_student_per_img_add, axis=0)\n",
    "student_train_label = np.concatenate(y_student_per_label_add, axis=0)\n",
    "\n",
    "x_train_student = np.concatenate([x_train_10, student_train_img], axis=0)\n",
    "y_train_student = np.concatenate([y_train_10, student_train_label], axis=0)\n"
   ]
  },
  {
   "cell_type": "code",
   "execution_count": 98,
   "metadata": {},
   "outputs": [],
   "source": [
    "np.save('x_train_student',x_train_student)\n",
    "np.save('y_train_student',y_train_student)"
   ]
  },
  {
   "cell_type": "code",
   "execution_count": 25,
   "metadata": {},
   "outputs": [],
   "source": [
    "##load 重新標籤完的dataset\n",
    "#x_train_student=np.load('x_1.npy')\n",
    "#y_train_student=np.load('y_1.npy')"
   ]
  },
  {
   "cell_type": "markdown",
   "metadata": {},
   "source": [
    "### Student_model_1的訓練資料量總共有120000張"
   ]
  },
  {
   "cell_type": "code",
   "execution_count": 99,
   "metadata": {},
   "outputs": [
    {
     "data": {
      "text/plain": [
       "(120000, 32, 32, 3)"
      ]
     },
     "execution_count": 99,
     "metadata": {},
     "output_type": "execute_result"
    }
   ],
   "source": [
    "x_train_student.shape"
   ]
  },
  {
   "cell_type": "code",
   "execution_count": 5,
   "metadata": {},
   "outputs": [],
   "source": [
    "teacher_model = teacher_model = load_model('teacher_model_624.h5')\n"
   ]
  },
  {
   "cell_type": "code",
   "execution_count": 6,
   "metadata": {},
   "outputs": [
    {
     "name": "stdout",
     "output_type": "stream",
     "text": [
      "\r",
      "500/1 [========================================================================================================================================================================================================================================================================================================================================================================================================================================================================================================================================================================================================================================================================================================================================================================================================================================================================================================================================================================================================================================================================================================================================================================================================================================================================================================================================================================================================================================================================================================================================================================================================================================================================================================================================================================================================================================================================================================================================================================================================================================================================================================================================================================================================================================================================================================================================================================================================================================================================================================================================================================================================================================================================================================================================================================================================================================================================================================================================================================================================================================================================================================================================================================================================================================================================================================================================================================================================================================================================================================================================================================================================================================================================================================================================================================================================================================================================================================================================================================================================================================================================================================================================================================================================================================================================================================================================================================================================================================================================================================================================================================================================================================================================================================================================================================================================================================================================================================================================================================================================================================================================================================================================================================================================================================================================================================================================================================================================================================================================================================================================================================================================================================================================================================================================================================================================================================================================================================================================================================================================================================================================================================================================================================================================================================================================================================================================================================================================================================================================================================================================================================================================================================================================================================================================================================================================================================================================================================================================================================================================================================================================================================================================================================================================================================================================================================================================================================================================================================================================================================================================================================================================================================================================================================================================================================================================================================================================================================================================================================================================================================================================================================================================================================================================================================================================================================================================================================================================================================================================================================================================================================================================================================================================================================================================================================================================================================================================================================================================================================================================================================================================================================================================================================================================================================================================================================================================================================================================================================================================================================================================================================================================================================================================================================================================================================================================================================================================================================================================================================================================================================================================================================================================================================================================================================================================================================================================================================================================================================================================================================================================================================================================================================================================================================================================================================================================================================================================================================================================================================================================================================================================================================================================================================================================================================================================================================================================================================================================================================================================================================================================================================================================================================================================================================================================================================================================================================================================================================================================================================================================================================================================================================================================================================================================================================================================================================================================================================================================================================================================================================================================================================================================================================================================================================================================================================================================================================================================================================================================================================================================================================================================================================================================================================================================================================================================================================================================================================================================================================================================================================================================================================================================================================================================================================================================================================================================================================================================================================================================================================================================================================================================================================================================================================================================================================================================================================================================================================================================================================================================================================================================================================================================================================================================================================================================================================================================================================================================================================================================================================================================================================================================================================================================================================================================================================================================================================================================================================================================================================================================================================================================================================================================================] - 2s 4ms/sample - loss: 2.2830 - accuracy: 0.5200\n"
     ]
    },
    {
     "name": "stdout",
     "output_type": "stream",
     "text": [
      "loss:2.1933\n",
      "acc: 0.52\n"
     ]
    }
   ],
   "source": [
    "###test\n",
    "img_path = \"E:/NCHU_PHD/10902sml/data_set/add_test\"\n",
    "img_list = os.listdir(img_path)\n",
    "\n",
    "x_test = []\n",
    "y_test = []\n",
    "\n",
    "for i in img_list:\n",
    "    img_list_= img_path +\"/\"+i\n",
    "    for j in os.listdir(img_list_):\n",
    "        abs_path = img_path +\"/\"+i +\"/\"+j\n",
    "        temp = load_img(abs_path)\n",
    "        temp = img_to_array(temp)\n",
    "        x_test.append(temp)\n",
    "        y_test.append(i)\n",
    "    \n",
    "x_test = np.array(x_test)\n",
    "y_test = np.array(y_test).reshape((500, 1))\n",
    "y_test = to_categorical(y_test)\n",
    "\n",
    "def my_eval(model,x,t):\n",
    "    ev = model.evaluate(x,t, batch_size=10)\n",
    "    print(\"loss:\"+str(round(ev[0],4)))\n",
    "    print(\"acc: \"+str(ev[1]))\n",
    "\n",
    "my_eval(teacher_model,x_test/255,y_test)"
   ]
  },
  {
   "cell_type": "code",
   "execution_count": null,
   "metadata": {},
   "outputs": [],
   "source": []
  }
 ],
 "metadata": {
  "kernelspec": {
   "display_name": "Python [conda env:tensorflow-gpu]",
   "language": "python",
   "name": "conda-env-tensorflow-gpu-py"
  },
  "language_info": {
   "codemirror_mode": {
    "name": "ipython",
    "version": 3
   },
   "file_extension": ".py",
   "mimetype": "text/x-python",
   "name": "python",
   "nbconvert_exporter": "python",
   "pygments_lexer": "ipython3",
   "version": "3.7.7"
  }
 },
 "nbformat": 4,
 "nbformat_minor": 2
}

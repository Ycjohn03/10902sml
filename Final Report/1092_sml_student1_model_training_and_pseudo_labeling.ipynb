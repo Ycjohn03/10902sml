{
 "cells": [
  {
   "cell_type": "markdown",
   "metadata": {},
   "source": [
    "# Step1資料準備"
   ]
  },
  {
   "cell_type": "code",
   "execution_count": 1,
   "metadata": {},
   "outputs": [],
   "source": [
    "import tensorflow as tf\n",
    "from tensorflow.keras.datasets import cifar10\n",
    "from tensorflow.keras.utils import to_categorical\n",
    "(x_train_10,y_train_10),(x_test_10,y_test_10)=cifar10.load_data()\n",
    "y_train_10 = to_categorical(y_train_10)\n",
    "y_test_10 = to_categorical(y_test_10)\n",
    "\n"
   ]
  },
  {
   "cell_type": "code",
   "execution_count": 2,
   "metadata": {},
   "outputs": [],
   "source": [
    "import os\n",
    "import numpy as np\n",
    "import pandas as pd\n",
    "import tensorflow as tf\n",
    "from tensorflow import keras\n",
    "from tensorflow.keras import backend as K\n",
    "from tensorflow.keras.regularizers import l2\n",
    "from tensorflow.keras.preprocessing.image import ImageDataGenerator,array_to_img,img_to_array,load_img\n",
    "from tensorflow.keras.layers import Lambda, Dropout,Input, Activation, Dense, GlobalAveragePooling2D, Conv2D,Add, BatchNormalization,DepthwiseConv2D\n",
    "from tensorflow.keras.models import Model, load_model\n",
    "from tensorflow.keras import optimizers,regularizers\n",
    "from tensorflow.keras.initializers import he_normal\n",
    "from tensorflow.keras.callbacks import Callback,LearningRateScheduler, TensorBoard, ModelCheckpoint, EarlyStopping,ReduceLROnPlateau\n",
    "import Model_mobilenet\n",
    "from Model_mobilenet import MobileNet,MobileNet_drop\n",
    "from image_noise import Rand_Augment"
   ]
  },
  {
   "cell_type": "code",
   "execution_count": 3,
   "metadata": {},
   "outputs": [
    {
     "name": "stdout",
     "output_type": "stream",
     "text": [
      "1 Physical GPUs, 1 Logical GPUs\n"
     ]
    }
   ],
   "source": [
    "def solve_cudnn_error():\n",
    "    gpus = tf.config.experimental.list_physical_devices('GPU')\n",
    "    if gpus:\n",
    "        try:\n",
    "            # Currently, memory growth needs to be the same across GPUs\n",
    "            for gpu in gpus:\n",
    "                tf.config.experimental.set_memory_growth(gpu, True)\n",
    "            logical_gpus = tf.config.experimental.list_logical_devices('GPU')\n",
    "            print(len(gpus), \"Physical GPUs,\", len(logical_gpus), \"Logical GPUs\")\n",
    "        except RuntimeError as e:\n",
    "            # Memory growth must be set before GPUs have been initialized\n",
    "            print(e)\n",
    "solve_cudnn_error()"
   ]
  },
  {
   "cell_type": "markdown",
   "metadata": {},
   "source": [
    "### unlabel data讀取,標籤,篩選"
   ]
  },
  {
   "cell_type": "code",
   "execution_count": 4,
   "metadata": {},
   "outputs": [],
   "source": [
    "##load 重新標籤完的dataset\n",
    "x_train_student=np.load('x_train_student.npy')\n",
    "y_train_student=np.load('y_train_student.npy')"
   ]
  },
  {
   "cell_type": "markdown",
   "metadata": {},
   "source": [
    "### Student_model_1的訓練資料量總共有32800張"
   ]
  },
  {
   "cell_type": "code",
   "execution_count": 5,
   "metadata": {},
   "outputs": [
    {
     "data": {
      "text/plain": [
       "(120000, 32, 32, 3)"
      ]
     },
     "execution_count": 5,
     "metadata": {},
     "output_type": "execute_result"
    }
   ],
   "source": [
    "x_train_student.shape"
   ]
  },
  {
   "cell_type": "markdown",
   "metadata": {},
   "source": [
    "### Student_model_1 訓練"
   ]
  },
  {
   "cell_type": "code",
   "execution_count": 6,
   "metadata": {},
   "outputs": [],
   "source": [
    "img_augment = Rand_Augment(Numbers=2, max_Magnitude=10)\n",
    "\n",
    "def get_random_data(x_train_i, y_train_i, data_aug):\n",
    "    x = array_to_img(x_train_i)\n",
    "\n",
    "    if data_aug:\n",
    "\n",
    "        seed_image = img_augment(x)\n",
    "        seed_image = img_to_array(seed_image)\n",
    "\n",
    "    else:\n",
    "        seed_image = x_train_i\n",
    "\n",
    "    seed_image = seed_image / 255\n",
    "\n",
    "    return seed_image, y_train_i\n",
    "\n",
    "def data_generator(x_train, y_train, batch_size, data_aug):\n",
    "    '''data generator for fit_generator'''\n",
    "    n = len(x_train)\n",
    "    i = 0\n",
    "    while True:\n",
    "        image_data = []\n",
    "        label_data = []\n",
    "        for b in range(batch_size):\n",
    "            if i==0:\n",
    "                p = np.random.permutation(len(x_train))\n",
    "                x_train = x_train[p]\n",
    "                y_train = y_train[p]\n",
    "            image, label = get_random_data(x_train[i], y_train[i], data_aug)\n",
    "            image_data.append(image)\n",
    "            label_data.append(label)\n",
    "            i = (i+1) % n\n",
    "        image_data = np.array(image_data)\n",
    "        label_data = np.array(label_data)\n",
    "        yield image_data, label_data"
   ]
  },
  {
   "cell_type": "code",
   "execution_count": 7,
   "metadata": {},
   "outputs": [
    {
     "name": "stdout",
     "output_type": "stream",
     "text": [
      "Model: \"model\"\n",
      "_________________________________________________________________\n",
      "Layer (type)                 Output Shape              Param #   \n",
      "=================================================================\n",
      "input_1 (InputLayer)         [(None, 32, 32, 3)]       0         \n",
      "_________________________________________________________________\n",
      "conv2d (Conv2D)              (None, 16, 16, 24)        672       \n",
      "_________________________________________________________________\n",
      "batch_normalization (BatchNo (None, 16, 16, 24)        96        \n",
      "_________________________________________________________________\n",
      "activation (Activation)      (None, 16, 16, 24)        0         \n",
      "_________________________________________________________________\n",
      "depthwise_conv2d (DepthwiseC (None, 16, 16, 24)        240       \n",
      "_________________________________________________________________\n",
      "batch_normalization_1 (Batch (None, 16, 16, 24)        96        \n",
      "_________________________________________________________________\n",
      "activation_1 (Activation)    (None, 16, 16, 24)        0         \n",
      "_________________________________________________________________\n",
      "conv2d_1 (Conv2D)            (None, 16, 16, 48)        1200      \n",
      "_________________________________________________________________\n",
      "batch_normalization_2 (Batch (None, 16, 16, 48)        192       \n",
      "_________________________________________________________________\n",
      "activation_2 (Activation)    (None, 16, 16, 48)        0         \n",
      "_________________________________________________________________\n",
      "depthwise_conv2d_1 (Depthwis (None, 8, 8, 48)          480       \n",
      "_________________________________________________________________\n",
      "batch_normalization_3 (Batch (None, 8, 8, 48)          192       \n",
      "_________________________________________________________________\n",
      "activation_3 (Activation)    (None, 8, 8, 48)          0         \n",
      "_________________________________________________________________\n",
      "conv2d_2 (Conv2D)            (None, 8, 8, 96)          4704      \n",
      "_________________________________________________________________\n",
      "batch_normalization_4 (Batch (None, 8, 8, 96)          384       \n",
      "_________________________________________________________________\n",
      "activation_4 (Activation)    (None, 8, 8, 96)          0         \n",
      "_________________________________________________________________\n",
      "depthwise_conv2d_2 (Depthwis (None, 8, 8, 96)          960       \n",
      "_________________________________________________________________\n",
      "batch_normalization_5 (Batch (None, 8, 8, 96)          384       \n",
      "_________________________________________________________________\n",
      "activation_5 (Activation)    (None, 8, 8, 96)          0         \n",
      "_________________________________________________________________\n",
      "conv2d_3 (Conv2D)            (None, 8, 8, 96)          9312      \n",
      "_________________________________________________________________\n",
      "batch_normalization_6 (Batch (None, 8, 8, 96)          384       \n",
      "_________________________________________________________________\n",
      "activation_6 (Activation)    (None, 8, 8, 96)          0         \n",
      "_________________________________________________________________\n",
      "depthwise_conv2d_3 (Depthwis (None, 4, 4, 96)          960       \n",
      "_________________________________________________________________\n",
      "batch_normalization_7 (Batch (None, 4, 4, 96)          384       \n",
      "_________________________________________________________________\n",
      "activation_7 (Activation)    (None, 4, 4, 96)          0         \n",
      "_________________________________________________________________\n",
      "conv2d_4 (Conv2D)            (None, 4, 4, 192)         18624     \n",
      "_________________________________________________________________\n",
      "batch_normalization_8 (Batch (None, 4, 4, 192)         768       \n",
      "_________________________________________________________________\n",
      "activation_8 (Activation)    (None, 4, 4, 192)         0         \n",
      "_________________________________________________________________\n",
      "depthwise_conv2d_4 (Depthwis (None, 4, 4, 192)         1920      \n",
      "_________________________________________________________________\n",
      "batch_normalization_9 (Batch (None, 4, 4, 192)         768       \n",
      "_________________________________________________________________\n",
      "activation_9 (Activation)    (None, 4, 4, 192)         0         \n",
      "_________________________________________________________________\n",
      "conv2d_5 (Conv2D)            (None, 4, 4, 192)         37056     \n",
      "_________________________________________________________________\n",
      "batch_normalization_10 (Batc (None, 4, 4, 192)         768       \n",
      "_________________________________________________________________\n",
      "activation_10 (Activation)   (None, 4, 4, 192)         0         \n",
      "_________________________________________________________________\n",
      "depthwise_conv2d_5 (Depthwis (None, 2, 2, 192)         1920      \n",
      "_________________________________________________________________\n",
      "batch_normalization_11 (Batc (None, 2, 2, 192)         768       \n",
      "_________________________________________________________________\n",
      "activation_11 (Activation)   (None, 2, 2, 192)         0         \n",
      "_________________________________________________________________\n",
      "conv2d_6 (Conv2D)            (None, 2, 2, 384)         74112     \n",
      "_________________________________________________________________\n",
      "batch_normalization_12 (Batc (None, 2, 2, 384)         1536      \n",
      "_________________________________________________________________\n",
      "activation_12 (Activation)   (None, 2, 2, 384)         0         \n",
      "_________________________________________________________________\n",
      "depthwise_conv2d_6 (Depthwis (None, 2, 2, 384)         3840      \n",
      "_________________________________________________________________\n",
      "batch_normalization_13 (Batc (None, 2, 2, 384)         1536      \n",
      "_________________________________________________________________\n",
      "activation_13 (Activation)   (None, 2, 2, 384)         0         \n",
      "_________________________________________________________________\n",
      "conv2d_7 (Conv2D)            (None, 2, 2, 384)         147840    \n",
      "_________________________________________________________________\n",
      "batch_normalization_14 (Batc (None, 2, 2, 384)         1536      \n",
      "_________________________________________________________________\n",
      "activation_14 (Activation)   (None, 2, 2, 384)         0         \n",
      "_________________________________________________________________\n",
      "depthwise_conv2d_7 (Depthwis (None, 2, 2, 384)         3840      \n",
      "_________________________________________________________________\n",
      "batch_normalization_15 (Batc (None, 2, 2, 384)         1536      \n",
      "_________________________________________________________________\n",
      "activation_15 (Activation)   (None, 2, 2, 384)         0         \n",
      "_________________________________________________________________\n",
      "conv2d_8 (Conv2D)            (None, 2, 2, 384)         147840    \n",
      "_________________________________________________________________\n",
      "batch_normalization_16 (Batc (None, 2, 2, 384)         1536      \n",
      "_________________________________________________________________\n",
      "activation_16 (Activation)   (None, 2, 2, 384)         0         \n",
      "_________________________________________________________________\n",
      "depthwise_conv2d_8 (Depthwis (None, 2, 2, 384)         3840      \n",
      "_________________________________________________________________\n",
      "batch_normalization_17 (Batc (None, 2, 2, 384)         1536      \n",
      "_________________________________________________________________\n",
      "activation_17 (Activation)   (None, 2, 2, 384)         0         \n",
      "_________________________________________________________________\n",
      "conv2d_9 (Conv2D)            (None, 2, 2, 384)         147840    \n",
      "_________________________________________________________________\n",
      "batch_normalization_18 (Batc (None, 2, 2, 384)         1536      \n",
      "_________________________________________________________________\n",
      "activation_18 (Activation)   (None, 2, 2, 384)         0         \n",
      "_________________________________________________________________\n",
      "depthwise_conv2d_9 (Depthwis (None, 2, 2, 384)         3840      \n",
      "_________________________________________________________________\n",
      "batch_normalization_19 (Batc (None, 2, 2, 384)         1536      \n",
      "_________________________________________________________________\n",
      "activation_19 (Activation)   (None, 2, 2, 384)         0         \n",
      "_________________________________________________________________\n",
      "conv2d_10 (Conv2D)           (None, 2, 2, 384)         147840    \n",
      "_________________________________________________________________\n",
      "batch_normalization_20 (Batc (None, 2, 2, 384)         1536      \n",
      "_________________________________________________________________\n",
      "activation_20 (Activation)   (None, 2, 2, 384)         0         \n",
      "_________________________________________________________________\n",
      "depthwise_conv2d_10 (Depthwi (None, 2, 2, 384)         3840      \n",
      "_________________________________________________________________\n",
      "batch_normalization_21 (Batc (None, 2, 2, 384)         1536      \n",
      "_________________________________________________________________\n",
      "activation_21 (Activation)   (None, 2, 2, 384)         0         \n",
      "_________________________________________________________________\n",
      "conv2d_11 (Conv2D)           (None, 2, 2, 384)         147840    \n",
      "_________________________________________________________________\n",
      "batch_normalization_22 (Batc (None, 2, 2, 384)         1536      \n",
      "_________________________________________________________________\n",
      "activation_22 (Activation)   (None, 2, 2, 384)         0         \n",
      "_________________________________________________________________\n",
      "depthwise_conv2d_11 (Depthwi (None, 1, 1, 384)         3840      \n",
      "_________________________________________________________________\n",
      "batch_normalization_23 (Batc (None, 1, 1, 384)         1536      \n",
      "_________________________________________________________________\n",
      "activation_23 (Activation)   (None, 1, 1, 384)         0         \n",
      "_________________________________________________________________\n",
      "conv2d_12 (Conv2D)           (None, 1, 1, 768)         295680    \n",
      "_________________________________________________________________\n",
      "batch_normalization_24 (Batc (None, 1, 1, 768)         3072      \n",
      "_________________________________________________________________\n",
      "activation_24 (Activation)   (None, 1, 1, 768)         0         \n",
      "_________________________________________________________________\n",
      "depthwise_conv2d_12 (Depthwi (None, 1, 1, 768)         7680      \n",
      "_________________________________________________________________\n",
      "batch_normalization_25 (Batc (None, 1, 1, 768)         3072      \n",
      "_________________________________________________________________\n",
      "activation_25 (Activation)   (None, 1, 1, 768)         0         \n",
      "_________________________________________________________________\n",
      "conv2d_13 (Conv2D)           (None, 1, 1, 768)         590592    \n",
      "_________________________________________________________________\n",
      "batch_normalization_26 (Batc (None, 1, 1, 768)         3072      \n",
      "_________________________________________________________________\n",
      "activation_26 (Activation)   (None, 1, 1, 768)         0         \n",
      "_________________________________________________________________\n",
      "global_average_pooling2d (Gl (None, 768)               0         \n",
      "_________________________________________________________________\n",
      "dropout (Dropout)            (None, 768)               0         \n",
      "_________________________________________________________________\n",
      "dense (Dense)                (None, 10)                7690      \n",
      "=================================================================\n",
      "Total params: 1,848,874\n",
      "Trainable params: 1,832,458\n",
      "Non-trainable params: 16,416\n",
      "_________________________________________________________________\n"
     ]
    }
   ],
   "source": [
    "img_input=Input(shape=(32,32,3))\n",
    "output = MobileNet_drop(img_input,dropout_set=0.1)\n",
    "student_model_1 = Model(img_input,output)\n",
    "student_model_1.summary()"
   ]
  },
  {
   "cell_type": "code",
   "execution_count": 8,
   "metadata": {},
   "outputs": [],
   "source": [
    "import os"
   ]
  },
  {
   "cell_type": "code",
   "execution_count": 9,
   "metadata": {},
   "outputs": [
    {
     "name": "stdout",
     "output_type": "stream",
     "text": [
      "WARNING:tensorflow:`period` argument is deprecated. Please use `save_freq` to specify the frequency in number of samples seen.\n",
      "Epoch 1/50\n",
      "1875/1875 [==============================] - 227s 121ms/step - loss: 1.9928 - accuracy: 0.2734 - val_loss: 1.8065 - val_accuracy: 0.4076\n",
      "Epoch 2/50\n",
      "1875/1875 [==============================] - 227s 121ms/step - loss: 1.7619 - accuracy: 0.3712 - val_loss: 1.4534 - val_accuracy: 0.4794\n",
      "Epoch 3/50\n",
      "1875/1875 [==============================] - 225s 120ms/step - loss: 1.6267 - accuracy: 0.4268 - val_loss: 1.3659 - val_accuracy: 0.5226\n",
      "Epoch 4/50\n",
      "1875/1875 [==============================] - 225s 120ms/step - loss: 1.5334 - accuracy: 0.4649 - val_loss: 1.2566 - val_accuracy: 0.5523\n",
      "Epoch 5/50\n",
      "1875/1875 [==============================] - 221s 118ms/step - loss: 1.4504 - accuracy: 0.4982 - val_loss: 1.1190 - val_accuracy: 0.5965\n",
      "Epoch 6/50\n",
      "1875/1875 [==============================] - 220s 117ms/step - loss: 1.3735 - accuracy: 0.5284 - val_loss: 0.9537 - val_accuracy: 0.6626\n",
      "Epoch 7/50\n",
      "1875/1875 [==============================] - 220s 117ms/step - loss: 1.3323 - accuracy: 0.5466 - val_loss: 0.9457 - val_accuracy: 0.6620\n",
      "Epoch 8/50\n",
      "1875/1875 [==============================] - 220s 117ms/step - loss: 1.2871 - accuracy: 0.5611 - val_loss: 0.8605 - val_accuracy: 0.7048\n",
      "Epoch 9/50\n",
      "1875/1875 [==============================] - 219s 117ms/step - loss: 1.2494 - accuracy: 0.5758 - val_loss: 0.8432 - val_accuracy: 0.7031\n",
      "Epoch 10/50\n",
      "1875/1875 [==============================] - 221s 118ms/step - loss: 1.2243 - accuracy: 0.5874 - val_loss: 1.0429 - val_accuracy: 0.6493\n",
      "Epoch 11/50\n",
      "1875/1875 [==============================] - 222s 118ms/step - loss: 1.1970 - accuracy: 0.5990 - val_loss: 0.7732 - val_accuracy: 0.7307\n",
      "Epoch 12/50\n",
      "1875/1875 [==============================] - 223s 119ms/step - loss: 1.1890 - accuracy: 0.6014 - val_loss: 0.7766 - val_accuracy: 0.7413\n",
      "Epoch 13/50\n",
      "1875/1875 [==============================] - 220s 118ms/step - loss: 1.1660 - accuracy: 0.6120 - val_loss: 0.7368 - val_accuracy: 0.7408\n",
      "Epoch 14/50\n",
      "1875/1875 [==============================] - 219s 117ms/step - loss: 1.1558 - accuracy: 0.6159 - val_loss: 0.8083 - val_accuracy: 0.7226\n",
      "Epoch 15/50\n",
      "1875/1875 [==============================] - 219s 117ms/step - loss: 1.1607 - accuracy: 0.6125 - val_loss: 0.7306 - val_accuracy: 0.7466\n",
      "Epoch 16/50\n",
      "1875/1875 [==============================] - 215s 115ms/step - loss: 1.1239 - accuracy: 0.6269 - val_loss: 0.7261 - val_accuracy: 0.7424\n",
      "Epoch 17/50\n",
      "1875/1875 [==============================] - 218s 117ms/step - loss: 1.1159 - accuracy: 0.6304 - val_loss: 0.7402 - val_accuracy: 0.7406\n",
      "Epoch 18/50\n",
      "1875/1875 [==============================] - 218s 116ms/step - loss: 1.1145 - accuracy: 0.6326 - val_loss: 0.7396 - val_accuracy: 0.7490\n",
      "Epoch 19/50\n",
      "1875/1875 [==============================] - 218s 116ms/step - loss: 1.0975 - accuracy: 0.6377 - val_loss: 0.7234 - val_accuracy: 0.7495\n",
      "Epoch 20/50\n",
      "1875/1875 [==============================] - 218s 116ms/step - loss: 1.0963 - accuracy: 0.6389 - val_loss: 0.6955 - val_accuracy: 0.7600\n",
      "Epoch 21/50\n",
      "1875/1875 [==============================] - 219s 117ms/step - loss: 1.0922 - accuracy: 0.6398 - val_loss: 0.6778 - val_accuracy: 0.7647\n",
      "Epoch 22/50\n",
      "1875/1875 [==============================] - 218s 116ms/step - loss: 1.0776 - accuracy: 0.6458 - val_loss: 0.7202 - val_accuracy: 0.7478\n",
      "Epoch 23/50\n",
      "1875/1875 [==============================] - 218s 116ms/step - loss: 1.0695 - accuracy: 0.6499 - val_loss: 0.6468 - val_accuracy: 0.7765\n",
      "Epoch 24/50\n",
      "1875/1875 [==============================] - 217s 116ms/step - loss: 1.0650 - accuracy: 0.6525 - val_loss: 0.8324 - val_accuracy: 0.7582\n",
      "Epoch 25/50\n",
      "1875/1875 [==============================] - 215s 115ms/step - loss: 1.0676 - accuracy: 0.6497 - val_loss: 0.7714 - val_accuracy: 0.7300\n",
      "Epoch 26/50\n",
      "1874/1875 [============================>.] - ETA: 0s - loss: 1.0528 - accuracy: 0.6566\n",
      "Epoch 00026: ReduceLROnPlateau reducing learning rate to 0.00010000000474974513.\n",
      "1875/1875 [==============================] - 215s 114ms/step - loss: 1.0529 - accuracy: 0.6566 - val_loss: 0.8676 - val_accuracy: 0.7269\n",
      "Epoch 27/50\n",
      "1875/1875 [==============================] - 217s 116ms/step - loss: 1.0239 - accuracy: 0.6692 - val_loss: 0.8472 - val_accuracy: 0.7718\n",
      "Epoch 28/50\n",
      "1875/1875 [==============================] - 215s 115ms/step - loss: 1.0034 - accuracy: 0.6774 - val_loss: 0.7758 - val_accuracy: 0.7767\n",
      "Epoch 29/50\n",
      "1874/1875 [============================>.] - ETA: 0s - loss: 0.9941 - accuracy: 0.6812 ETA: 1s - loss: 0\n",
      "Epoch 00029: ReduceLROnPlateau reducing learning rate to 1.0000000474974514e-05.\n",
      "1875/1875 [==============================] - 214s 114ms/step - loss: 0.9941 - accuracy: 0.6812 - val_loss: 0.7220 - val_accuracy: 0.7837\n",
      "Epoch 30/50\n",
      "1875/1875 [==============================] - 218s 116ms/step - loss: 0.9866 - accuracy: 0.6853 - val_loss: 0.7279 - val_accuracy: 0.7825\n",
      "Epoch 31/50\n",
      "1875/1875 [==============================] - 218s 116ms/step - loss: 0.9876 - accuracy: 0.6830 - val_loss: 0.8283 - val_accuracy: 0.7746\n",
      "Epoch 32/50\n",
      "1874/1875 [============================>.] - ETA: 0s - loss: 0.9846 - accuracy: 0.6850\n",
      "Epoch 00032: ReduceLROnPlateau reducing learning rate to 1.0000000656873453e-06.\n",
      "1875/1875 [==============================] - 217s 116ms/step - loss: 0.9846 - accuracy: 0.6850 - val_loss: 0.7549 - val_accuracy: 0.7829\n",
      "Epoch 33/50\n",
      "1875/1875 [==============================] - 218s 116ms/step - loss: 0.9834 - accuracy: 0.6855 - val_loss: 0.7334 - val_accuracy: 0.7820\n",
      "Epoch 00033: early stopping\n"
     ]
    }
   ],
   "source": [
    "log_dir = 'logs/softlabel/student1_2/'\n",
    "\n",
    "checkpoint = ModelCheckpoint(log_dir + 'ep{epoch:03d}-loss{loss:.3f}-val_loss{val_loss:.3f}.h5',\\\n",
    "    monitor='val_loss', save_weights_only=True, save_best_only=True, period=1)\n",
    "reduce_lr = ReduceLROnPlateau(monitor='val_loss', factor=0.1, patience=3, verbose=1)\n",
    "early_stopping = EarlyStopping(monitor='val_loss', min_delta=0, patience=10, verbose=1)\n",
    "\n",
    "student_model_1.compile(loss = \"categorical_crossentropy\",optimizer = \"adam\", metrics = [\"accuracy\"])\n",
    "\n",
    "batch_size = 64\n",
    "steps_per_epoch = x_train_student.shape[0] // batch_size\n",
    "validation_steps = x_test_10.shape[0] // batch_size\n",
    "history = student_model_1.fit_generator(data_generator(x_train_student, y_train_student, batch_size, data_aug = True),\n",
    "                                      initial_epoch=0,\n",
    "                                      epochs=50,\n",
    "                                      steps_per_epoch = steps_per_epoch,\n",
    "                                      validation_data = data_generator(x_test_10, y_test_10, batch_size, data_aug = False),\n",
    "                                      validation_steps = validation_steps,\n",
    "                                      callbacks=[checkpoint, reduce_lr, early_stopping])\n",
    "\n",
    "\n"
   ]
  },
  {
   "cell_type": "code",
   "execution_count": 10,
   "metadata": {},
   "outputs": [],
   "source": [
    "student_model_1.save('student_model_1_624.h5')\n",
    "history.history.keys()\n",
    "student_1 = pd.DataFrame(history.history, index=range(1,len(history.history['loss'])+1))\n",
    "student_1.to_csv('E:/NCHU_PHD/10902sml/report2/final_624/student_1.CSV')\n",
    "\n"
   ]
  },
  {
   "cell_type": "code",
   "execution_count": 11,
   "metadata": {},
   "outputs": [
    {
     "data": {
      "text/plain": [
       "<matplotlib.legend.Legend at 0x1ff9ba9d888>"
      ]
     },
     "execution_count": 11,
     "metadata": {},
     "output_type": "execute_result"
    },
    {
     "data": {
      "image/png": "[encoded data removed]",
      "text/plain": [
       "<Figure size 432x288 with 1 Axes>"
      ]
     },
     "metadata": {
      "needs_background": "light"
     },
     "output_type": "display_data"
    }
   ],
   "source": [
    "from matplotlib import pyplot as plt\n",
    "plt.plot(student_1['loss'], marker='o', label='training_loss')\n",
    "plt.plot(student_1['val_loss'], marker='d', label='validation_loss')\n",
    "plt.ylabel('Loss', fontsize=12)\n",
    "plt.xlabel('Training Epochs-Mobilenet_alpha=0.75,student_1', fontsize=12)\n",
    "plt.grid()\n",
    "plt.legend()"
   ]
  },
  {
   "cell_type": "code",
   "execution_count": 12,
   "metadata": {},
   "outputs": [
    {
     "data": {
      "text/plain": [
       "<matplotlib.legend.Legend at 0x1ff9bb59bc8>"
      ]
     },
     "execution_count": 12,
     "metadata": {},
     "output_type": "execute_result"
    },
    {
     "data": {
      "image/png": "[encoded data removed]",
      "text/plain": [
       "<Figure size 432x288 with 1 Axes>"
      ]
     },
     "metadata": {
      "needs_background": "light"
     },
     "output_type": "display_data"
    }
   ],
   "source": [
    "plt.plot(student_1['accuracy'], marker='o', label='training_accuracy')\n",
    "plt.plot(student_1['val_accuracy'], marker='d', label='validation_accuracy')\n",
    "plt.ylabel('Accuracy', fontsize=12)\n",
    "plt.xlabel('Training Epochs-Mobilenet_alpha=0.75,student_1', fontsize=12)\n",
    "plt.grid()\n",
    "plt.legend()"
   ]
  },
  {
   "cell_type": "markdown",
   "metadata": {},
   "source": [
    "### Student_model_1 作為教師模型對unlabel data進行偽標籤"
   ]
  },
  {
   "cell_type": "code",
   "execution_count": 14,
   "metadata": {},
   "outputs": [
    {
     "name": "stdout",
     "output_type": "stream",
     "text": [
      "1750\n",
      "[0 1 2 3 4 5 6 7 8 9] [8235 6787 5874 6078 8803 4227 8233 6750 5439 6713]\n",
      "0 : (8235, 10)\n",
      "0 : (8235, 32, 32, 3)\n",
      "1 : (6787, 10)\n",
      "1 : (6787, 32, 32, 3)\n",
      "2 : (5874, 10)\n",
      "2 : (5874, 32, 32, 3)\n",
      "3 : (6078, 10)\n",
      "3 : (6078, 32, 32, 3)\n",
      "4 : (8803, 10)\n",
      "4 : (8803, 32, 32, 3)\n",
      "5 : (4227, 10)\n",
      "5 : (4227, 32, 32, 3)\n",
      "6 : (8233, 10)\n",
      "6 : (8233, 32, 32, 3)\n",
      "7 : (6750, 10)\n",
      "7 : (6750, 32, 32, 3)\n",
      "8 : (5439, 10)\n",
      "8 : (5439, 32, 32, 3)\n",
      "9 : (6713, 10)\n",
      "9 : (6713, 32, 32, 3)\n",
      "0 568\n",
      "0 2016\n",
      "0 2929\n",
      "0 2725\n",
      "0 0\n",
      "1 349\n",
      "0 570\n",
      "0 2053\n",
      "0 3364\n",
      "0 2090\n",
      "[7000, 7000, 7000, 7000, 7000, 7000, 7000, 7000, 7000, 7000]\n"
     ]
    }
   ],
   "source": [
    "###############student 1 to teacher pseudo label 1 \n",
    "img_path = r\"E:\\NCHU_PHD\\10902sml\\data_set\\add\"\n",
    "img_list = os.listdir(img_path)\n",
    "\n",
    "x_train_imgnet = []\n",
    "\n",
    "for i in img_list:\n",
    "    abs_path = os.path.join(img_path, i)\n",
    "    temp = load_img(abs_path)\n",
    "    temp = img_to_array(temp)\n",
    "    x_train_imgnet.append(temp)\n",
    "\n",
    "x_train_imgnet = np.array(x_train_imgnet)\n",
    "\n",
    "batch_size = 40\n",
    "step = int(x_train_imgnet.shape[0] / batch_size)\n",
    "print(step)\n",
    "\n",
    "y_train_imgnet_dummy = []\n",
    "\n",
    "for i in range(step):\n",
    "    x_temp = x_train_imgnet[batch_size*i:batch_size*(i+1)]\n",
    "    x_temp = x_temp / 255.\n",
    "    temp = student_model_1.predict(x_temp)\n",
    "    y_train_imgnet_dummy.extend(temp)\n",
    "\n",
    "y_train_imgnet_dummy = np.array(y_train_imgnet_dummy)\n",
    "\n",
    "#np.save('y_train_imgnet_dummy',y_train_imgnet_dummy)\n",
    "\n",
    "\n",
    "threhold = 0.3\n",
    "y_train_imgnet_dummy_th =  y_train_imgnet_dummy[np.max(y_train_imgnet_dummy, axis=1) > threhold]\n",
    "x_train_imgnet_th = x_train_imgnet[np.max(y_train_imgnet_dummy, axis=1) > threhold]\n",
    "\n",
    "### 挑出confindence score > 0.3的圖片總共有  18354 張\n",
    "\n",
    "### 將label data 與unlabel data合併\n",
    "\n",
    "####用list包\n",
    "\n",
    "\n",
    "y_student_all_dummy_label = np.argmax(y_train_imgnet_dummy_th, axis=1)\n",
    "\n",
    "u, counts = np.unique(y_student_all_dummy_label, return_counts=True)\n",
    "print(u, counts)\n",
    "\n",
    "student_label_max =  max(counts)\n",
    "\n",
    "y_student_per_label = []\n",
    "y_student_per_img_path = []\n",
    "\n",
    "for i in range(10):\n",
    "    temp_l = y_train_imgnet_dummy_th[y_student_all_dummy_label == i]\n",
    "    print(i, \":\", temp_l.shape)\n",
    "    y_student_per_label.append(temp_l)\n",
    "    temp_i = x_train_imgnet_th[y_student_all_dummy_label == i]\n",
    "    print(i, \":\", temp_i.shape)\n",
    "    y_student_per_img_path.append(temp_i)\n",
    "\n",
    "y_student_per_label_add = []\n",
    "y_student_per_img_add = []\n",
    "\n",
    "for i in range(10):\n",
    "    num = y_student_per_label[i].shape[0]\n",
    "    temp_l = y_student_per_label[i]\n",
    "    temp_i = y_student_per_img_path[i]\n",
    "    add_num = student_label_max - num\n",
    "    q, mod = divmod(add_num, num)\n",
    "    print(q, mod)\n",
    "    temp_l_tile = np.tile(temp_l, (q+1, 1))\n",
    "    temp_i_tile = np.tile(temp_i, (q+1, 1, 1, 1))\n",
    "    temp_l_add = temp_l[:mod]\n",
    "    temp_i_add = temp_i[:mod]\n",
    "    temp_l_new = np.concatenate([temp_l_tile, temp_l_add], axis=0)\n",
    "\n",
    "    temp_i_new = np.concatenate([temp_i_tile, temp_i_add], axis=0)\n",
    "\n",
    "    p = (-temp_l_new[:,0]).argsort()\n",
    "    temp_l_new = temp_l_new[p]\n",
    "    temp_i_new= temp_i_new[p]\n",
    "    y_student_per_label_add.append(temp_l_new[:7000])\n",
    "    y_student_per_img_add.append(temp_i_new[:7000])\n",
    "\n",
    "print([len(i) for i in y_student_per_label_add])\n",
    "\n",
    "student_train_img = np.concatenate(y_student_per_img_add, axis=0)\n",
    "student_train_label = np.concatenate(y_student_per_label_add, axis=0)\n",
    "\n",
    "x_train_student = np.concatenate([x_train_10, student_train_img], axis=0)\n",
    "y_train_student = np.concatenate([y_train_10, student_train_label], axis=0)\n"
   ]
  },
  {
   "cell_type": "code",
   "execution_count": 15,
   "metadata": {},
   "outputs": [],
   "source": [
    "np.save('x_train_student_2',x_train_student)\n",
    "np.save('y_train_student_2',y_train_student)\n"
   ]
  },
  {
   "cell_type": "markdown",
   "metadata": {},
   "source": [
    "### Test"
   ]
  },
  {
   "cell_type": "code",
   "execution_count": 16,
   "metadata": {},
   "outputs": [
    {
     "name": "stdout",
     "output_type": "stream",
     "text": [
      "\r",
      "500/1 [========================================================================================================================================================================================================================================================================================================================================================================================================================================================================================================================================================================================================================================================================================================================================================================================================================================================================================================================================================================================================================================================================================================================================================================================================================================================================================================================================================================================================================================================================================================================================================================================================================================================================================================================================================================================================================================================================================================================================================================================================================================================================================================================================================================================================================================================================================================================================================================================================================================================================================================================================================================================================================================================================================================================================================================================================================================================================================================================================================================================================================================================================================================================================================================================================================================================================================================================================================================================================================================================================================================================================================================================================================================================================================================================================================================================================================================================================================================================================================================================================================================================================================================================================================================================================================================================================================================================================================================================================================================================================================================================================================================================================================================================================================================================================================================================================================================================================================================================================================================================================================================================================================================================================================================================================================================================================================================================================================================================================================================================================================================================================================================================================================================================================================================================================================================================================================================================================================================================================================================================================================================================================================================================================================================================================================================================================================================================================================================================================================================================================================================================================================================================================================================================================================================================================================================================================================================================================================================================================================================================================================================================================================================================================================================================================================================================================================================================================================================================================================================================================================================================================================================================================================================================================================================================================================================================================================================================================================================================================================================================================================================================================================================================================================================================================================================================================================================================================================================================================================================================================================================================================================================================================================================================================================================================================================================================================================================================================================================================================================================================================================================================================================================================================================================================================================================================================================================================================================================================================================================================================================================================================================================================================================================================================================================================================================================================================================================================================================================================================================================================================================================================================================================================================================================================================================================================================================================================================================================================================================================================================================================================================================================================================================================================================================================================================================================================================================================================================================================================================================================================================================================================================================================================================================================================================================================================================================================================================================================================================================================================================================================================================================================================================================================================================================================================================================================================================================================================================================================================================================================================================================================================================================================================================================================================================================================================================================================================================================================================================================================================================================================================================================================================================================================================================================================================================================================================================================================================================================================================================================================================================================================================================================================================================================================================================================================================================================================================================================================================================================================================================================================================================================================================================================================================================================================================================================================================================================================================================================================================================================================================================================================================================================================================================================================================================================================================================================================================================================================================================================================================================================================================================================================================================================================================================================================================================================================================================================================================================================================================================================================================================================================================================================================================================================================================================================================================================================================================================================================================================================================================================================================================================================================================================================] - 1s 2ms/sample - loss: 1.3866 - accuracy: 0.5500\n"
     ]
    },
    {
     "name": "stdout",
     "output_type": "stream",
     "text": [
      "loss:1.4325\n",
      "acc: 0.55\n"
     ]
    }
   ],
   "source": [
    "###test\n",
    "img_path = \"E:/NCHU_PHD/10902sml/data_set/add_test\"\n",
    "img_list = os.listdir(img_path)\n",
    "\n",
    "x_test = []\n",
    "y_test = []\n",
    "\n",
    "for i in img_list:\n",
    "    img_list_= img_path +\"/\"+i\n",
    "    for j in os.listdir(img_list_):\n",
    "        abs_path = img_path +\"/\"+i +\"/\"+j\n",
    "        temp = load_img(abs_path)\n",
    "        temp = img_to_array(temp)\n",
    "        x_test.append(temp)\n",
    "        y_test.append(i)\n",
    "    \n",
    "x_test = np.array(x_test)\n",
    "y_test = np.array(y_test).reshape((500, 1))\n",
    "y_test = to_categorical(y_test)\n",
    "\n",
    "def my_eval(model,x,t):\n",
    "    ev = model.evaluate(x,t, batch_size=10)\n",
    "    print(\"loss:\"+str(round(ev[0],4)))\n",
    "    print(\"acc: \"+str(ev[1]))\n",
    "\n",
    "my_eval(student_model_1,x_test/255,y_test)"
   ]
  },
  {
   "cell_type": "code",
   "execution_count": null,
   "metadata": {},
   "outputs": [],
   "source": []
  }
 ],
 "metadata": {
  "kernelspec": {
   "display_name": "Python [conda env:tensorflow-gpu]",
   "language": "python",
   "name": "conda-env-tensorflow-gpu-py"
  },
  "language_info": {
   "codemirror_mode": {
    "name": "ipython",
    "version": 3
   },
   "file_extension": ".py",
   "mimetype": "text/x-python",
   "name": "python",
   "nbconvert_exporter": "python",
   "pygments_lexer": "ipython3",
   "version": "3.7.7"
  }
 },
 "nbformat": 4,
 "nbformat_minor": 2
}
